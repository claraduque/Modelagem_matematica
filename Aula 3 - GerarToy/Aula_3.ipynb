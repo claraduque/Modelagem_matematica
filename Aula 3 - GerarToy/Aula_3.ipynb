{
  "nbformat": 4,
  "nbformat_minor": 0,
  "metadata": {
    "colab": {
      "name": "Aula 3.ipynb",
      "provenance": [],
      "collapsed_sections": [],
      "toc_visible": true
    },
    "kernelspec": {
      "name": "python3",
      "display_name": "Python 3"
    },
    "language_info": {
      "name": "python"
    }
  },
  "cells": [
    {
      "cell_type": "markdown",
      "metadata": {
        "id": "2IJZ67UmTVcA"
      },
      "source": [
        "# <font color=green> **AULA PRÁTICA 3**\n",
        "-----\n",
        "\n",
        "## Objetivo:\n",
        "Como gerar uma instância reduzida (toy)\n",
        "\n",
        "## Tópicos:\n",
        "1.  Concatenando todas as instâncias do Rio de Janeiro \n",
        "2.  Trabalhando com os dados de todas as instâncias instancia_rj0\n",
        "3.  Gerador de subinstâncias\n",
        "5.  Resumo de todos os processos para gerar o toy"
      ]
    },
    {
      "cell_type": "markdown",
      "metadata": {
        "id": "q_rw1dwNMneR"
      },
      "source": [
        "Fonte de dados:\n",
        "https://github.com/loggi/loggibud\n",
        "\n"
      ]
    },
    {
      "cell_type": "markdown",
      "metadata": {
        "id": "YwU8WfbpYfNL"
      },
      "source": [
        "### 1 - Criação do Dataframe Geral"
      ]
    },
    {
      "cell_type": "markdown",
      "metadata": {
        "id": "sOxwiX_6cY1e"
      },
      "source": [
        "* **Análise de todas as instâncias :**\n",
        "\n",
        "Para analisar os dados de todas as instâncias CVRP para cada estado, juntamos todos os arquivos RJ em um mesmo dataframe. O objetivo era verificar a relação dos pontos e demandas ao longo das instâncias."
      ]
    },
    {
      "cell_type": "markdown",
      "metadata": {
        "id": "9XvFVZYFexae"
      },
      "source": [
        "#### 1.1 - Concatenando as instâncias"
      ]
    },
    {
      "cell_type": "code",
      "metadata": {
        "id": "u97rp94D0e3g"
      },
      "source": [
        "import pandas as pd\n",
        "import json\n",
        "import os\n",
        "import numpy as np\n",
        "\n",
        "# Entradas: \n",
        "\n",
        "## 1 - diretorio onde estão os arquivos cvrp-instances-1.0/train\n",
        "diretorio_arquivos = '/content/drive/Shareddrives/Disciplina Modelagem/data/cvrp-instances-1.0/train'\n",
        "## 2 - nome das instâncias do rj que queremos\n",
        "instancias_rj = ['rj-0','rj-1','rj-2','rj-3','rj-4','rj-5']\n",
        "\n",
        "\n",
        "# Código:\n",
        "\n",
        "df_geral = pd.DataFrame()     ## criar inicialmente um dataframe vazio\n",
        "for inst in instancias_rj:    # para cada instância rj-\n",
        "  diretorio1 = diretorio_arquivos + '/'+ inst         # chama o diretório \n",
        "  arquivos = os.listdir(diretorio1)                   # lista os arquivos dentro da pasta diretorio1\n",
        "  \n",
        "\n",
        "  for arquivo in arquivos:     # para cada um dos arquivos dentro da pasta diretorio 1:\n",
        "    \n",
        "    # lendo arquivo\n",
        "    diretorio2 = diretorio1 +'/'+ arquivo\n",
        "    data = json.load(open(diretorio2))\n",
        "\n",
        "    # transformando para dataframe\n",
        "    df_entregas = pd.DataFrame(data['deliveries'])\n",
        "\n",
        "    # adicionando colunas a df_entregas\n",
        "    df_entregas['name'] = np.repeat(data['name'],len(df_entregas))      # nome da instância\n",
        "    df_entregas['origin'] = np.repeat(data['origin'],len(df_entregas))  # depósito de origem\n",
        "    df_entregas['region'] = np.repeat(data['region'],len(df_entregas))  # região da instância (rj-0,rj-1,...)\n",
        "    df_entregas['vehicle_capacity'] = np.repeat(data['vehicle_capacity'],len(df_entregas))   # capacidade do veículo\n",
        "\n",
        "    # concatenando dataframes\n",
        "    df_geral = pd.concat([df_geral, df_entregas],ignore_index= 'True')\n",
        "df_geral"
      ],
      "execution_count": null,
      "outputs": []
    },
    {
      "cell_type": "code",
      "metadata": {
        "colab": {
          "base_uri": "https://localhost:8080/",
          "height": 280
        },
        "id": "CZIwmv5H5obN",
        "outputId": "a904b5c0-c1a4-407f-e6ec-cd10c587b5c5"
      },
      "source": [
        "df_geral.head()"
      ],
      "execution_count": 11,
      "outputs": [
        {
          "output_type": "execute_result",
          "data": {
            "text/html": [
              "<div>\n",
              "<style scoped>\n",
              "    .dataframe tbody tr th:only-of-type {\n",
              "        vertical-align: middle;\n",
              "    }\n",
              "\n",
              "    .dataframe tbody tr th {\n",
              "        vertical-align: top;\n",
              "    }\n",
              "\n",
              "    .dataframe thead th {\n",
              "        text-align: right;\n",
              "    }\n",
              "</style>\n",
              "<table border=\"1\" class=\"dataframe\">\n",
              "  <thead>\n",
              "    <tr style=\"text-align: right;\">\n",
              "      <th></th>\n",
              "      <th>id</th>\n",
              "      <th>point</th>\n",
              "      <th>size</th>\n",
              "      <th>name</th>\n",
              "      <th>origin</th>\n",
              "      <th>region</th>\n",
              "      <th>vehicle_capacity</th>\n",
              "    </tr>\n",
              "  </thead>\n",
              "  <tbody>\n",
              "    <tr>\n",
              "      <th>0</th>\n",
              "      <td>8f6abd1e06bd7704feac404a445094e1</td>\n",
              "      <td>{'lng': -43.10803774439438, 'lat': -22.8636103...</td>\n",
              "      <td>3</td>\n",
              "      <td>cvrp-0-rj-0</td>\n",
              "      <td>{'lng': -43.09887838388887, 'lat': -22.8662298...</td>\n",
              "      <td>rj-0</td>\n",
              "      <td>180</td>\n",
              "    </tr>\n",
              "    <tr>\n",
              "      <th>1</th>\n",
              "      <td>e394f05d92650ed1512dabaadc9295d5</td>\n",
              "      <td>{'lng': -43.08997527513803, 'lat': -22.8622082...</td>\n",
              "      <td>8</td>\n",
              "      <td>cvrp-0-rj-0</td>\n",
              "      <td>{'lng': -43.09887838388887, 'lat': -22.8662298...</td>\n",
              "      <td>rj-0</td>\n",
              "      <td>180</td>\n",
              "    </tr>\n",
              "    <tr>\n",
              "      <th>2</th>\n",
              "      <td>40f1c2db50c9697c3c1254f89d007f60</td>\n",
              "      <td>{'lng': -43.09614479044607, 'lat': -22.8635209...</td>\n",
              "      <td>1</td>\n",
              "      <td>cvrp-0-rj-0</td>\n",
              "      <td>{'lng': -43.09887838388887, 'lat': -22.8662298...</td>\n",
              "      <td>rj-0</td>\n",
              "      <td>180</td>\n",
              "    </tr>\n",
              "    <tr>\n",
              "      <th>3</th>\n",
              "      <td>630983abc40e566355d993a11fee0973</td>\n",
              "      <td>{'lng': -43.094907911605844, 'lat': -22.855667...</td>\n",
              "      <td>6</td>\n",
              "      <td>cvrp-0-rj-0</td>\n",
              "      <td>{'lng': -43.09887838388887, 'lat': -22.8662298...</td>\n",
              "      <td>rj-0</td>\n",
              "      <td>180</td>\n",
              "    </tr>\n",
              "    <tr>\n",
              "      <th>4</th>\n",
              "      <td>ec64e4ae52e564dddc9bb5f695223a</td>\n",
              "      <td>{'lng': -43.09954677964522, 'lat': -22.8633098...</td>\n",
              "      <td>9</td>\n",
              "      <td>cvrp-0-rj-0</td>\n",
              "      <td>{'lng': -43.09887838388887, 'lat': -22.8662298...</td>\n",
              "      <td>rj-0</td>\n",
              "      <td>180</td>\n",
              "    </tr>\n",
              "  </tbody>\n",
              "</table>\n",
              "</div>"
            ],
            "text/plain": [
              "                                 id  ... vehicle_capacity\n",
              "0  8f6abd1e06bd7704feac404a445094e1  ...              180\n",
              "1  e394f05d92650ed1512dabaadc9295d5  ...              180\n",
              "2  40f1c2db50c9697c3c1254f89d007f60  ...              180\n",
              "3  630983abc40e566355d993a11fee0973  ...              180\n",
              "4    ec64e4ae52e564dddc9bb5f695223a  ...              180\n",
              "\n",
              "[5 rows x 7 columns]"
            ]
          },
          "metadata": {
            "tags": []
          },
          "execution_count": 11
        }
      ]
    },
    {
      "cell_type": "markdown",
      "metadata": {
        "id": "wlikOxpVe8Bp"
      },
      "source": [
        "#### 1.2 - Exportando o dataframe gerado com o nome instancia_rj.csv"
      ]
    },
    {
      "cell_type": "code",
      "metadata": {
        "id": "EuuTc8-Y6v1F"
      },
      "source": [
        "# salvando em uma pasta do drive\n",
        "salvar = '/content/drive/Shareddrives/Disciplina Modelagem'\n",
        "nome_arquivo = 'instancia_rj.csv'\n",
        "df_geral.to_csv(salvar + '/' + nome_arquivo)"
      ],
      "execution_count": null,
      "outputs": []
    },
    {
      "cell_type": "markdown",
      "metadata": {
        "id": "4DQBx6ipfI_y"
      },
      "source": [
        "#### 1.3 - Importando o arquivo gerado (instancia_rj.csv)"
      ]
    },
    {
      "cell_type": "code",
      "metadata": {
        "id": "QZ3fYZVoolJn"
      },
      "source": [
        "import pandas as pd"
      ],
      "execution_count": null,
      "outputs": []
    },
    {
      "cell_type": "code",
      "metadata": {
        "id": "UFXrVYwy9e4w",
        "colab": {
          "base_uri": "https://localhost:8080/"
        },
        "outputId": "d7578621-8a6b-469d-d587-a5f58d31b1b4"
      },
      "source": [
        "df_geral = pd.read_csv('/content/drive/Shareddrives/Disciplina Modelagem/Aulas/Aula 3/instancia_rj.csv',index_col=0)"
      ],
      "execution_count": null,
      "outputs": [
        {
          "output_type": "stream",
          "text": [
            "/usr/local/lib/python3.7/dist-packages/numpy/lib/arraysetops.py:580: FutureWarning: elementwise comparison failed; returning scalar instead, but in the future will perform elementwise comparison\n",
            "  mask |= (ar1 == a)\n"
          ],
          "name": "stderr"
        }
      ]
    },
    {
      "cell_type": "code",
      "metadata": {
        "colab": {
          "base_uri": "https://localhost:8080/",
          "height": 186
        },
        "id": "A3LEXEHtePYw",
        "outputId": "81a99a14-91ff-453a-82a7-63539c67fa42"
      },
      "source": [
        "df_geral.head(3)"
      ],
      "execution_count": null,
      "outputs": [
        {
          "output_type": "execute_result",
          "data": {
            "text/html": [
              "<div>\n",
              "<style scoped>\n",
              "    .dataframe tbody tr th:only-of-type {\n",
              "        vertical-align: middle;\n",
              "    }\n",
              "\n",
              "    .dataframe tbody tr th {\n",
              "        vertical-align: top;\n",
              "    }\n",
              "\n",
              "    .dataframe thead th {\n",
              "        text-align: right;\n",
              "    }\n",
              "</style>\n",
              "<table border=\"1\" class=\"dataframe\">\n",
              "  <thead>\n",
              "    <tr style=\"text-align: right;\">\n",
              "      <th></th>\n",
              "      <th>id</th>\n",
              "      <th>point</th>\n",
              "      <th>size</th>\n",
              "      <th>name</th>\n",
              "      <th>origin</th>\n",
              "      <th>region</th>\n",
              "      <th>vehicle_capacity</th>\n",
              "    </tr>\n",
              "  </thead>\n",
              "  <tbody>\n",
              "    <tr>\n",
              "      <th>0</th>\n",
              "      <td>8f6abd1e06bd7704feac404a445094e1</td>\n",
              "      <td>{'lng': -43.10803774439438, 'lat': -22.8636103...</td>\n",
              "      <td>3</td>\n",
              "      <td>cvrp-0-rj-0</td>\n",
              "      <td>{'lng': -43.09887838388887, 'lat': -22.8662298...</td>\n",
              "      <td>rj-0</td>\n",
              "      <td>180</td>\n",
              "    </tr>\n",
              "    <tr>\n",
              "      <th>1</th>\n",
              "      <td>e394f05d92650ed1512dabaadc9295d5</td>\n",
              "      <td>{'lng': -43.08997527513803, 'lat': -22.8622082...</td>\n",
              "      <td>8</td>\n",
              "      <td>cvrp-0-rj-0</td>\n",
              "      <td>{'lng': -43.09887838388887, 'lat': -22.8662298...</td>\n",
              "      <td>rj-0</td>\n",
              "      <td>180</td>\n",
              "    </tr>\n",
              "    <tr>\n",
              "      <th>2</th>\n",
              "      <td>40f1c2db50c9697c3c1254f89d007f60</td>\n",
              "      <td>{'lng': -43.09614479044607, 'lat': -22.8635209...</td>\n",
              "      <td>1</td>\n",
              "      <td>cvrp-0-rj-0</td>\n",
              "      <td>{'lng': -43.09887838388887, 'lat': -22.8662298...</td>\n",
              "      <td>rj-0</td>\n",
              "      <td>180</td>\n",
              "    </tr>\n",
              "  </tbody>\n",
              "</table>\n",
              "</div>"
            ],
            "text/plain": [
              "                                 id  ... vehicle_capacity\n",
              "0  8f6abd1e06bd7704feac404a445094e1  ...              180\n",
              "1  e394f05d92650ed1512dabaadc9295d5  ...              180\n",
              "2  40f1c2db50c9697c3c1254f89d007f60  ...              180\n",
              "\n",
              "[3 rows x 7 columns]"
            ]
          },
          "metadata": {
            "tags": []
          },
          "execution_count": 3
        }
      ]
    },
    {
      "cell_type": "code",
      "metadata": {
        "colab": {
          "base_uri": "https://localhost:8080/"
        },
        "id": "EwZCPVNxmakO",
        "outputId": "e304a2d7-211a-4e48-97a4-e176afa973e1"
      },
      "source": [
        "# quando fizemos a importação por csv, os dados da coluna 'point' ficaram no formato string. Por exemplo:\n",
        "print(f\"Valor point na linha 0: {df_geral.loc[0,'point']}\")\n",
        "print(f\"Tipo do valor: {type(df_geral.loc[0,'point'])}\")"
      ],
      "execution_count": null,
      "outputs": [
        {
          "output_type": "stream",
          "text": [
            "Valor point na linha 0: {'lng': -43.10803774439438, 'lat': -22.863610319183422}\n",
            "Tipo do valor: <class 'str'>\n"
          ],
          "name": "stdout"
        }
      ]
    },
    {
      "cell_type": "markdown",
      "metadata": {
        "id": "wuYkkLmBjsTw"
      },
      "source": [
        "Como separar os valores se eles estão como string?"
      ]
    },
    {
      "cell_type": "code",
      "metadata": {
        "colab": {
          "base_uri": "https://localhost:8080/"
        },
        "id": "eYlyoA-cl8yx",
        "outputId": "b7291883-89b5-4d24-d457-ce93ec51f8c8"
      },
      "source": [
        "# separando a latitude\n",
        "float(df_geral.loc[0,'point'].split(':')[2][:-1])"
      ],
      "execution_count": null,
      "outputs": [
        {
          "output_type": "execute_result",
          "data": {
            "text/plain": [
              "-22.863610319183422"
            ]
          },
          "metadata": {
            "tags": []
          },
          "execution_count": 6
        }
      ]
    },
    {
      "cell_type": "code",
      "metadata": {
        "colab": {
          "base_uri": "https://localhost:8080/"
        },
        "id": "_x3x3-OUj1BL",
        "outputId": "47d401e1-4588-4b5e-8d51-12dc78bb705c"
      },
      "source": [
        "# separando a longitude\n",
        "float(df_geral.loc[0,'point'].split(':')[1].split(',')[0])"
      ],
      "execution_count": null,
      "outputs": [
        {
          "output_type": "execute_result",
          "data": {
            "text/plain": [
              "-43.10803774439438"
            ]
          },
          "metadata": {
            "tags": []
          },
          "execution_count": 7
        }
      ]
    },
    {
      "cell_type": "code",
      "metadata": {
        "id": "CD7Yh4Tmmlvx"
      },
      "source": [
        "# gerando duas colunas (latitude e longitude)\n",
        "df_geral['longitude'] = df_geral['point'].apply(lambda x: float(x.split(':')[1].split(',')[0]))\n",
        "df_geral['latitude'] = df_geral['point'].apply(lambda x: float(x.split(':')[2][:-1]))"
      ],
      "execution_count": null,
      "outputs": []
    },
    {
      "cell_type": "code",
      "metadata": {
        "colab": {
          "base_uri": "https://localhost:8080/"
        },
        "id": "k-1yzRbZ5Ci4",
        "outputId": "ced4e858-0651-40f4-90d1-b00ecfc95d19"
      },
      "source": [
        "# tamanho do dataframe (linhas,colunas)\n",
        "df_geral.shape"
      ],
      "execution_count": null,
      "outputs": [
        {
          "output_type": "execute_result",
          "data": {
            "text/plain": [
              "(2586123, 9)"
            ]
          },
          "metadata": {
            "tags": []
          },
          "execution_count": 9
        }
      ]
    },
    {
      "cell_type": "code",
      "metadata": {
        "colab": {
          "base_uri": "https://localhost:8080/",
          "height": 237
        },
        "id": "sLAuqiS5ntY6",
        "outputId": "55933cc8-c883-480a-bf31-149de024bd76"
      },
      "source": [
        "df_geral.head(3)"
      ],
      "execution_count": null,
      "outputs": [
        {
          "output_type": "execute_result",
          "data": {
            "text/html": [
              "<div>\n",
              "<style scoped>\n",
              "    .dataframe tbody tr th:only-of-type {\n",
              "        vertical-align: middle;\n",
              "    }\n",
              "\n",
              "    .dataframe tbody tr th {\n",
              "        vertical-align: top;\n",
              "    }\n",
              "\n",
              "    .dataframe thead th {\n",
              "        text-align: right;\n",
              "    }\n",
              "</style>\n",
              "<table border=\"1\" class=\"dataframe\">\n",
              "  <thead>\n",
              "    <tr style=\"text-align: right;\">\n",
              "      <th></th>\n",
              "      <th>id</th>\n",
              "      <th>point</th>\n",
              "      <th>size</th>\n",
              "      <th>name</th>\n",
              "      <th>origin</th>\n",
              "      <th>region</th>\n",
              "      <th>vehicle_capacity</th>\n",
              "      <th>longitude</th>\n",
              "      <th>latitude</th>\n",
              "    </tr>\n",
              "  </thead>\n",
              "  <tbody>\n",
              "    <tr>\n",
              "      <th>0</th>\n",
              "      <td>8f6abd1e06bd7704feac404a445094e1</td>\n",
              "      <td>{'lng': -43.10803774439438, 'lat': -22.8636103...</td>\n",
              "      <td>3</td>\n",
              "      <td>cvrp-0-rj-0</td>\n",
              "      <td>{'lng': -43.09887838388887, 'lat': -22.8662298...</td>\n",
              "      <td>rj-0</td>\n",
              "      <td>180</td>\n",
              "      <td>-43.108038</td>\n",
              "      <td>-22.863610</td>\n",
              "    </tr>\n",
              "    <tr>\n",
              "      <th>1</th>\n",
              "      <td>e394f05d92650ed1512dabaadc9295d5</td>\n",
              "      <td>{'lng': -43.08997527513803, 'lat': -22.8622082...</td>\n",
              "      <td>8</td>\n",
              "      <td>cvrp-0-rj-0</td>\n",
              "      <td>{'lng': -43.09887838388887, 'lat': -22.8662298...</td>\n",
              "      <td>rj-0</td>\n",
              "      <td>180</td>\n",
              "      <td>-43.089975</td>\n",
              "      <td>-22.862208</td>\n",
              "    </tr>\n",
              "    <tr>\n",
              "      <th>2</th>\n",
              "      <td>40f1c2db50c9697c3c1254f89d007f60</td>\n",
              "      <td>{'lng': -43.09614479044607, 'lat': -22.8635209...</td>\n",
              "      <td>1</td>\n",
              "      <td>cvrp-0-rj-0</td>\n",
              "      <td>{'lng': -43.09887838388887, 'lat': -22.8662298...</td>\n",
              "      <td>rj-0</td>\n",
              "      <td>180</td>\n",
              "      <td>-43.096145</td>\n",
              "      <td>-22.863521</td>\n",
              "    </tr>\n",
              "  </tbody>\n",
              "</table>\n",
              "</div>"
            ],
            "text/plain": [
              "                                 id  ...   latitude\n",
              "0  8f6abd1e06bd7704feac404a445094e1  ... -22.863610\n",
              "1  e394f05d92650ed1512dabaadc9295d5  ... -22.862208\n",
              "2  40f1c2db50c9697c3c1254f89d007f60  ... -22.863521\n",
              "\n",
              "[3 rows x 9 columns]"
            ]
          },
          "metadata": {
            "tags": []
          },
          "execution_count": 10
        }
      ]
    },
    {
      "cell_type": "markdown",
      "metadata": {
        "id": "0_75rsGZn0aA"
      },
      "source": [
        "#### 1.3 - Filtrando apenas os dados da pasta rj-0"
      ]
    },
    {
      "cell_type": "markdown",
      "metadata": {
        "id": "YLDbzUidOrK3"
      },
      "source": [
        "Percebemos que cada pasta (rj-0, rj-1,...) tem a ver com uma região de atendimento no Rio. Separamos essa região para trabalhar somente com ela"
      ]
    },
    {
      "cell_type": "code",
      "metadata": {
        "id": "rglZF8XJsHWF"
      },
      "source": [
        "region = 'rj-0'\n",
        "df_rj0 = df_geral.loc[df_geral['region'] == region,:]"
      ],
      "execution_count": null,
      "outputs": []
    },
    {
      "cell_type": "code",
      "metadata": {
        "id": "fY12msbCn-Hv"
      },
      "source": [
        "# Exportando arquivo da pasta rj-0\n",
        "salvar1 = '/content/drive/Shareddrives/Disciplina Modelagem/Aulas/Aula 3'\n",
        "nome_arquivo = 'instancia_rj0.csv'\n",
        "df_rj0.to_csv(salvar1 + '/' + nome_arquivo)"
      ],
      "execution_count": null,
      "outputs": []
    },
    {
      "cell_type": "code",
      "metadata": {
        "id": "2sAKy41NqhS3"
      },
      "source": [
        ""
      ],
      "execution_count": null,
      "outputs": []
    },
    {
      "cell_type": "markdown",
      "metadata": {
        "id": "MKIpHvPxqmdc"
      },
      "source": [
        "### 2 - Trabalhando com os dados de todas as instâncias 'instancia_rj0.csv'"
      ]
    },
    {
      "cell_type": "markdown",
      "metadata": {
        "id": "Gp4UzHaJqx7d"
      },
      "source": [
        "#### 2.1 - Importando os dados"
      ]
    },
    {
      "cell_type": "code",
      "metadata": {
        "id": "2mScu79XrRBr"
      },
      "source": [
        "import pandas as pd"
      ],
      "execution_count": 12,
      "outputs": []
    },
    {
      "cell_type": "code",
      "metadata": {
        "id": "AFFZXykbrRBs"
      },
      "source": [
        "df_rj0 = pd.read_csv('/content/drive/Shareddrives/Disciplina Modelagem/Aulas/Aula 3/instancia_rj0.csv',index_col=0)"
      ],
      "execution_count": 13,
      "outputs": []
    },
    {
      "cell_type": "markdown",
      "metadata": {
        "id": "LYPwuuFUrrW6"
      },
      "source": [
        "#### 2.2 - Explorando os dados"
      ]
    },
    {
      "cell_type": "code",
      "metadata": {
        "colab": {
          "base_uri": "https://localhost:8080/"
        },
        "id": "58vZZYgprMGc",
        "outputId": "aeaf2122-02f6-4221-ac64-1dae8e673e3e"
      },
      "source": [
        "# Tamanho da instância\n",
        "df_rj0.shape"
      ],
      "execution_count": 14,
      "outputs": [
        {
          "output_type": "execute_result",
          "data": {
            "text/plain": [
              "(367982, 9)"
            ]
          },
          "metadata": {
            "tags": []
          },
          "execution_count": 14
        }
      ]
    },
    {
      "cell_type": "code",
      "metadata": {
        "colab": {
          "base_uri": "https://localhost:8080/",
          "height": 257
        },
        "id": "r1UB0icbsqZr",
        "outputId": "62231c39-f782-409f-c898-60c551b50716"
      },
      "source": [
        "df_rj0.head(3)"
      ],
      "execution_count": 15,
      "outputs": [
        {
          "output_type": "execute_result",
          "data": {
            "text/html": [
              "<div>\n",
              "<style scoped>\n",
              "    .dataframe tbody tr th:only-of-type {\n",
              "        vertical-align: middle;\n",
              "    }\n",
              "\n",
              "    .dataframe tbody tr th {\n",
              "        vertical-align: top;\n",
              "    }\n",
              "\n",
              "    .dataframe thead th {\n",
              "        text-align: right;\n",
              "    }\n",
              "</style>\n",
              "<table border=\"1\" class=\"dataframe\">\n",
              "  <thead>\n",
              "    <tr style=\"text-align: right;\">\n",
              "      <th></th>\n",
              "      <th>id</th>\n",
              "      <th>point</th>\n",
              "      <th>size</th>\n",
              "      <th>name</th>\n",
              "      <th>origin</th>\n",
              "      <th>region</th>\n",
              "      <th>vehicle_capacity</th>\n",
              "      <th>longitude</th>\n",
              "      <th>latitude</th>\n",
              "    </tr>\n",
              "  </thead>\n",
              "  <tbody>\n",
              "    <tr>\n",
              "      <th>0</th>\n",
              "      <td>8f6abd1e06bd7704feac404a445094e1</td>\n",
              "      <td>{'lng': -43.10803774439438, 'lat': -22.8636103...</td>\n",
              "      <td>3</td>\n",
              "      <td>cvrp-0-rj-0</td>\n",
              "      <td>{'lng': -43.09887838388887, 'lat': -22.8662298...</td>\n",
              "      <td>rj-0</td>\n",
              "      <td>180</td>\n",
              "      <td>-43.108038</td>\n",
              "      <td>-22.863610</td>\n",
              "    </tr>\n",
              "    <tr>\n",
              "      <th>1</th>\n",
              "      <td>e394f05d92650ed1512dabaadc9295d5</td>\n",
              "      <td>{'lng': -43.08997527513803, 'lat': -22.8622082...</td>\n",
              "      <td>8</td>\n",
              "      <td>cvrp-0-rj-0</td>\n",
              "      <td>{'lng': -43.09887838388887, 'lat': -22.8662298...</td>\n",
              "      <td>rj-0</td>\n",
              "      <td>180</td>\n",
              "      <td>-43.089975</td>\n",
              "      <td>-22.862208</td>\n",
              "    </tr>\n",
              "    <tr>\n",
              "      <th>2</th>\n",
              "      <td>40f1c2db50c9697c3c1254f89d007f60</td>\n",
              "      <td>{'lng': -43.09614479044607, 'lat': -22.8635209...</td>\n",
              "      <td>1</td>\n",
              "      <td>cvrp-0-rj-0</td>\n",
              "      <td>{'lng': -43.09887838388887, 'lat': -22.8662298...</td>\n",
              "      <td>rj-0</td>\n",
              "      <td>180</td>\n",
              "      <td>-43.096145</td>\n",
              "      <td>-22.863521</td>\n",
              "    </tr>\n",
              "  </tbody>\n",
              "</table>\n",
              "</div>"
            ],
            "text/plain": [
              "                                 id  ...   latitude\n",
              "0  8f6abd1e06bd7704feac404a445094e1  ... -22.863610\n",
              "1  e394f05d92650ed1512dabaadc9295d5  ... -22.862208\n",
              "2  40f1c2db50c9697c3c1254f89d007f60  ... -22.863521\n",
              "\n",
              "[3 rows x 9 columns]"
            ]
          },
          "metadata": {
            "tags": []
          },
          "execution_count": 15
        }
      ]
    },
    {
      "cell_type": "code",
      "metadata": {
        "colab": {
          "base_uri": "https://localhost:8080/"
        },
        "id": "vI3eO_Qlr375",
        "outputId": "1efc02fe-e7b2-4d6a-9391-67739861ca32"
      },
      "source": [
        "# quantas instâncias diferentes temos em rj-0 (train)?\n",
        "inst = df_rj0['name'].unique()\n",
        "numero_instancias = len(inst)\n",
        "print(f'Número de instâncias: {numero_instancias}')\n",
        "print(f'instâncias: {inst}')"
      ],
      "execution_count": 16,
      "outputs": [
        {
          "output_type": "stream",
          "text": [
            "Número de instâncias: 90\n",
            "instâncias: ['cvrp-0-rj-0' 'cvrp-0-rj-1' 'cvrp-0-rj-2' 'cvrp-0-rj-3' 'cvrp-0-rj-4'\n",
            " 'cvrp-0-rj-5' 'cvrp-0-rj-6' 'cvrp-0-rj-7' 'cvrp-0-rj-8' 'cvrp-0-rj-9'\n",
            " 'cvrp-0-rj-10' 'cvrp-0-rj-11' 'cvrp-0-rj-12' 'cvrp-0-rj-13'\n",
            " 'cvrp-0-rj-15' 'cvrp-0-rj-14' 'cvrp-0-rj-16' 'cvrp-0-rj-17'\n",
            " 'cvrp-0-rj-18' 'cvrp-0-rj-19' 'cvrp-0-rj-20' 'cvrp-0-rj-21'\n",
            " 'cvrp-0-rj-22' 'cvrp-0-rj-23' 'cvrp-0-rj-24' 'cvrp-0-rj-25'\n",
            " 'cvrp-0-rj-26' 'cvrp-0-rj-27' 'cvrp-0-rj-28' 'cvrp-0-rj-29'\n",
            " 'cvrp-0-rj-30' 'cvrp-0-rj-31' 'cvrp-0-rj-32' 'cvrp-0-rj-33'\n",
            " 'cvrp-0-rj-34' 'cvrp-0-rj-35' 'cvrp-0-rj-36' 'cvrp-0-rj-37'\n",
            " 'cvrp-0-rj-38' 'cvrp-0-rj-39' 'cvrp-0-rj-40' 'cvrp-0-rj-41'\n",
            " 'cvrp-0-rj-42' 'cvrp-0-rj-43' 'cvrp-0-rj-44' 'cvrp-0-rj-45'\n",
            " 'cvrp-0-rj-47' 'cvrp-0-rj-46' 'cvrp-0-rj-48' 'cvrp-0-rj-49'\n",
            " 'cvrp-0-rj-50' 'cvrp-0-rj-51' 'cvrp-0-rj-53' 'cvrp-0-rj-52'\n",
            " 'cvrp-0-rj-54' 'cvrp-0-rj-55' 'cvrp-0-rj-56' 'cvrp-0-rj-57'\n",
            " 'cvrp-0-rj-58' 'cvrp-0-rj-59' 'cvrp-0-rj-61' 'cvrp-0-rj-60'\n",
            " 'cvrp-0-rj-62' 'cvrp-0-rj-63' 'cvrp-0-rj-64' 'cvrp-0-rj-65'\n",
            " 'cvrp-0-rj-66' 'cvrp-0-rj-67' 'cvrp-0-rj-68' 'cvrp-0-rj-69'\n",
            " 'cvrp-0-rj-70' 'cvrp-0-rj-71' 'cvrp-0-rj-72' 'cvrp-0-rj-73'\n",
            " 'cvrp-0-rj-74' 'cvrp-0-rj-75' 'cvrp-0-rj-76' 'cvrp-0-rj-77'\n",
            " 'cvrp-0-rj-78' 'cvrp-0-rj-79' 'cvrp-0-rj-80' 'cvrp-0-rj-81'\n",
            " 'cvrp-0-rj-82' 'cvrp-0-rj-83' 'cvrp-0-rj-84' 'cvrp-0-rj-85'\n",
            " 'cvrp-0-rj-87' 'cvrp-0-rj-86' 'cvrp-0-rj-88' 'cvrp-0-rj-89']\n"
          ],
          "name": "stdout"
        }
      ]
    },
    {
      "cell_type": "code",
      "metadata": {
        "colab": {
          "base_uri": "https://localhost:8080/"
        },
        "id": "6P0Xgdtmn66j",
        "outputId": "81fbd693-70e9-4bff-bdff-749626a37103"
      },
      "source": [
        "# número de termos iguais pela latitude e longitude\n",
        "valores  = df_rj0['point'].value_counts()\n",
        "valores"
      ],
      "execution_count": 17,
      "outputs": [
        {
          "output_type": "execute_result",
          "data": {
            "text/plain": [
              "{'lng': -43.094973721097105, 'lat': -22.881007461621657}    12\n",
              "{'lng': -43.01700691830846, 'lat': -22.845804713277975}     12\n",
              "{'lng': -43.065992781910666, 'lat': -22.887630632019555}    12\n",
              "{'lng': -43.08781988907568, 'lat': -22.880493577725904}     11\n",
              "{'lng': -43.075194298933766, 'lat': -22.852413982571115}    11\n",
              "                                                            ..\n",
              "{'lng': -43.09583498559706, 'lat': -22.92247297425188}       1\n",
              "{'lng': -42.96156949658074, 'lat': -22.80657810318357}       1\n",
              "{'lng': -43.11708992228295, 'lat': -22.904497504200886}      1\n",
              "{'lng': -42.83509911560733, 'lat': -22.738799005559386}      1\n",
              "{'lng': -43.034259640186775, 'lat': -22.817124777676977}     1\n",
              "Name: point, Length: 131871, dtype: int64"
            ]
          },
          "metadata": {
            "tags": []
          },
          "execution_count": 17
        }
      ]
    },
    {
      "cell_type": "markdown",
      "metadata": {
        "id": "0ki0ksKeG_o1"
      },
      "source": [
        "Percebemos que alguns pontos se repetem nas instâncias. Por exemplo, 3 pontos repetem em 12 instâncias das 90 existentes. \n",
        "Com isso, surgiu uma dúvida. Será que a demanda é diferente nos mesmos pontos de entrega em instâncias diferentes?"
      ]
    },
    {
      "cell_type": "code",
      "metadata": {
        "colab": {
          "base_uri": "https://localhost:8080/",
          "height": 826
        },
        "id": "PnDM5hhIQxef",
        "outputId": "4819159a-aaad-4a70-b0b7-ae539702bee0"
      },
      "source": [
        "posicao = \"{'lng': -43.01700691830846, 'lat': -22.845804713277975}\"   # pegando o primeiro ponto\n",
        "df_rj0.loc[df_rj0['point'] == posicao,:]        #selecionando as linhas que contém somente este ponto"
      ],
      "execution_count": 18,
      "outputs": [
        {
          "output_type": "execute_result",
          "data": {
            "text/html": [
              "<div>\n",
              "<style scoped>\n",
              "    .dataframe tbody tr th:only-of-type {\n",
              "        vertical-align: middle;\n",
              "    }\n",
              "\n",
              "    .dataframe tbody tr th {\n",
              "        vertical-align: top;\n",
              "    }\n",
              "\n",
              "    .dataframe thead th {\n",
              "        text-align: right;\n",
              "    }\n",
              "</style>\n",
              "<table border=\"1\" class=\"dataframe\">\n",
              "  <thead>\n",
              "    <tr style=\"text-align: right;\">\n",
              "      <th></th>\n",
              "      <th>id</th>\n",
              "      <th>point</th>\n",
              "      <th>size</th>\n",
              "      <th>name</th>\n",
              "      <th>origin</th>\n",
              "      <th>region</th>\n",
              "      <th>vehicle_capacity</th>\n",
              "      <th>longitude</th>\n",
              "      <th>latitude</th>\n",
              "    </tr>\n",
              "  </thead>\n",
              "  <tbody>\n",
              "    <tr>\n",
              "      <th>42050</th>\n",
              "      <td>c203a2eb07806eea634bfbee0a46b78e</td>\n",
              "      <td>{'lng': -43.01700691830846, 'lat': -22.8458047...</td>\n",
              "      <td>2</td>\n",
              "      <td>cvrp-0-rj-10</td>\n",
              "      <td>{'lng': -43.09887838388887, 'lat': -22.8662298...</td>\n",
              "      <td>rj-0</td>\n",
              "      <td>180</td>\n",
              "      <td>-43.017007</td>\n",
              "      <td>-22.845805</td>\n",
              "    </tr>\n",
              "    <tr>\n",
              "      <th>74706</th>\n",
              "      <td>c203a2eb07806eea634bfbee0a46b78e</td>\n",
              "      <td>{'lng': -43.01700691830846, 'lat': -22.8458047...</td>\n",
              "      <td>2</td>\n",
              "      <td>cvrp-0-rj-18</td>\n",
              "      <td>{'lng': -43.09887838388887, 'lat': -22.8662298...</td>\n",
              "      <td>rj-0</td>\n",
              "      <td>180</td>\n",
              "      <td>-43.017007</td>\n",
              "      <td>-22.845805</td>\n",
              "    </tr>\n",
              "    <tr>\n",
              "      <th>139292</th>\n",
              "      <td>c203a2eb07806eea634bfbee0a46b78e</td>\n",
              "      <td>{'lng': -43.01700691830846, 'lat': -22.8458047...</td>\n",
              "      <td>2</td>\n",
              "      <td>cvrp-0-rj-34</td>\n",
              "      <td>{'lng': -43.09887838388887, 'lat': -22.8662298...</td>\n",
              "      <td>rj-0</td>\n",
              "      <td>180</td>\n",
              "      <td>-43.017007</td>\n",
              "      <td>-22.845805</td>\n",
              "    </tr>\n",
              "    <tr>\n",
              "      <th>152137</th>\n",
              "      <td>c203a2eb07806eea634bfbee0a46b78e</td>\n",
              "      <td>{'lng': -43.01700691830846, 'lat': -22.8458047...</td>\n",
              "      <td>2</td>\n",
              "      <td>cvrp-0-rj-37</td>\n",
              "      <td>{'lng': -43.09887838388887, 'lat': -22.8662298...</td>\n",
              "      <td>rj-0</td>\n",
              "      <td>180</td>\n",
              "      <td>-43.017007</td>\n",
              "      <td>-22.845805</td>\n",
              "    </tr>\n",
              "    <tr>\n",
              "      <th>172439</th>\n",
              "      <td>c203a2eb07806eea634bfbee0a46b78e</td>\n",
              "      <td>{'lng': -43.01700691830846, 'lat': -22.8458047...</td>\n",
              "      <td>2</td>\n",
              "      <td>cvrp-0-rj-42</td>\n",
              "      <td>{'lng': -43.09887838388887, 'lat': -22.8662298...</td>\n",
              "      <td>rj-0</td>\n",
              "      <td>180</td>\n",
              "      <td>-43.017007</td>\n",
              "      <td>-22.845805</td>\n",
              "    </tr>\n",
              "    <tr>\n",
              "      <th>188927</th>\n",
              "      <td>c203a2eb07806eea634bfbee0a46b78e</td>\n",
              "      <td>{'lng': -43.01700691830846, 'lat': -22.8458047...</td>\n",
              "      <td>2</td>\n",
              "      <td>cvrp-0-rj-47</td>\n",
              "      <td>{'lng': -43.09887838388887, 'lat': -22.8662298...</td>\n",
              "      <td>rj-0</td>\n",
              "      <td>180</td>\n",
              "      <td>-43.017007</td>\n",
              "      <td>-22.845805</td>\n",
              "    </tr>\n",
              "    <tr>\n",
              "      <th>209812</th>\n",
              "      <td>c203a2eb07806eea634bfbee0a46b78e</td>\n",
              "      <td>{'lng': -43.01700691830846, 'lat': -22.8458047...</td>\n",
              "      <td>2</td>\n",
              "      <td>cvrp-0-rj-51</td>\n",
              "      <td>{'lng': -43.09887838388887, 'lat': -22.8662298...</td>\n",
              "      <td>rj-0</td>\n",
              "      <td>180</td>\n",
              "      <td>-43.017007</td>\n",
              "      <td>-22.845805</td>\n",
              "    </tr>\n",
              "    <tr>\n",
              "      <th>213653</th>\n",
              "      <td>c203a2eb07806eea634bfbee0a46b78e</td>\n",
              "      <td>{'lng': -43.01700691830846, 'lat': -22.8458047...</td>\n",
              "      <td>2</td>\n",
              "      <td>cvrp-0-rj-53</td>\n",
              "      <td>{'lng': -43.09887838388887, 'lat': -22.8662298...</td>\n",
              "      <td>rj-0</td>\n",
              "      <td>180</td>\n",
              "      <td>-43.017007</td>\n",
              "      <td>-22.845805</td>\n",
              "    </tr>\n",
              "    <tr>\n",
              "      <th>237017</th>\n",
              "      <td>c203a2eb07806eea634bfbee0a46b78e</td>\n",
              "      <td>{'lng': -43.01700691830846, 'lat': -22.8458047...</td>\n",
              "      <td>2</td>\n",
              "      <td>cvrp-0-rj-58</td>\n",
              "      <td>{'lng': -43.09887838388887, 'lat': -22.8662298...</td>\n",
              "      <td>rj-0</td>\n",
              "      <td>180</td>\n",
              "      <td>-43.017007</td>\n",
              "      <td>-22.845805</td>\n",
              "    </tr>\n",
              "    <tr>\n",
              "      <th>257652</th>\n",
              "      <td>c203a2eb07806eea634bfbee0a46b78e</td>\n",
              "      <td>{'lng': -43.01700691830846, 'lat': -22.8458047...</td>\n",
              "      <td>2</td>\n",
              "      <td>cvrp-0-rj-63</td>\n",
              "      <td>{'lng': -43.09887838388887, 'lat': -22.8662298...</td>\n",
              "      <td>rj-0</td>\n",
              "      <td>180</td>\n",
              "      <td>-43.017007</td>\n",
              "      <td>-22.845805</td>\n",
              "    </tr>\n",
              "    <tr>\n",
              "      <th>361938</th>\n",
              "      <td>c203a2eb07806eea634bfbee0a46b78e</td>\n",
              "      <td>{'lng': -43.01700691830846, 'lat': -22.8458047...</td>\n",
              "      <td>2</td>\n",
              "      <td>cvrp-0-rj-88</td>\n",
              "      <td>{'lng': -43.09887838388887, 'lat': -22.8662298...</td>\n",
              "      <td>rj-0</td>\n",
              "      <td>180</td>\n",
              "      <td>-43.017007</td>\n",
              "      <td>-22.845805</td>\n",
              "    </tr>\n",
              "    <tr>\n",
              "      <th>365901</th>\n",
              "      <td>c203a2eb07806eea634bfbee0a46b78e</td>\n",
              "      <td>{'lng': -43.01700691830846, 'lat': -22.8458047...</td>\n",
              "      <td>2</td>\n",
              "      <td>cvrp-0-rj-89</td>\n",
              "      <td>{'lng': -43.09887838388887, 'lat': -22.8662298...</td>\n",
              "      <td>rj-0</td>\n",
              "      <td>180</td>\n",
              "      <td>-43.017007</td>\n",
              "      <td>-22.845805</td>\n",
              "    </tr>\n",
              "  </tbody>\n",
              "</table>\n",
              "</div>"
            ],
            "text/plain": [
              "                                      id  ...   latitude\n",
              "42050   c203a2eb07806eea634bfbee0a46b78e  ... -22.845805\n",
              "74706   c203a2eb07806eea634bfbee0a46b78e  ... -22.845805\n",
              "139292  c203a2eb07806eea634bfbee0a46b78e  ... -22.845805\n",
              "152137  c203a2eb07806eea634bfbee0a46b78e  ... -22.845805\n",
              "172439  c203a2eb07806eea634bfbee0a46b78e  ... -22.845805\n",
              "188927  c203a2eb07806eea634bfbee0a46b78e  ... -22.845805\n",
              "209812  c203a2eb07806eea634bfbee0a46b78e  ... -22.845805\n",
              "213653  c203a2eb07806eea634bfbee0a46b78e  ... -22.845805\n",
              "237017  c203a2eb07806eea634bfbee0a46b78e  ... -22.845805\n",
              "257652  c203a2eb07806eea634bfbee0a46b78e  ... -22.845805\n",
              "361938  c203a2eb07806eea634bfbee0a46b78e  ... -22.845805\n",
              "365901  c203a2eb07806eea634bfbee0a46b78e  ... -22.845805\n",
              "\n",
              "[12 rows x 9 columns]"
            ]
          },
          "metadata": {
            "tags": []
          },
          "execution_count": 18
        }
      ]
    },
    {
      "cell_type": "markdown",
      "metadata": {
        "id": "zu8Vuqc2RfX5"
      },
      "source": [
        "A partir do que foi visto acima (você pode trocar por outro ponto também) percebemos que a demanda do ponto é a mesma nas diferentes instâncias. Só olhar para coluna *size* que tem o mesmo valor em diferentes instâncias. As instâncias para rj-0 podem ser vistas em name."
      ]
    },
    {
      "cell_type": "markdown",
      "metadata": {
        "id": "IRVAo-jHV-z7"
      },
      "source": [
        "Segunda dúvida: será que o tamanho das instâncias é muito diferente? Ou seja, o número de pontos de entrega varia muito?"
      ]
    },
    {
      "cell_type": "code",
      "metadata": {
        "colab": {
          "base_uri": "https://localhost:8080/"
        },
        "id": "c7BWLAX8Eon9",
        "outputId": "e6344ef3-84a7-46f5-f9f5-cd09fa0f44d0"
      },
      "source": [
        "# Podemos verificar o número de pontos por instância\n",
        "valores1  = df_rj0['name'].value_counts()     # comando value_counts() retorna os nomes diferentes e a quantidade de vezes que o nome repete\n",
        "valores1"
      ],
      "execution_count": 19,
      "outputs": [
        {
          "output_type": "execute_result",
          "data": {
            "text/plain": [
              "cvrp-0-rj-65    4752\n",
              "cvrp-0-rj-70    4700\n",
              "cvrp-0-rj-30    4642\n",
              "cvrp-0-rj-49    4631\n",
              "cvrp-0-rj-31    4616\n",
              "                ... \n",
              "cvrp-0-rj-57    3550\n",
              "cvrp-0-rj-13    3545\n",
              "cvrp-0-rj-27    3542\n",
              "cvrp-0-rj-75    3541\n",
              "cvrp-0-rj-28    3458\n",
              "Name: name, Length: 90, dtype: int64"
            ]
          },
          "metadata": {
            "tags": []
          },
          "execution_count": 19
        }
      ]
    },
    {
      "cell_type": "code",
      "metadata": {
        "colab": {
          "base_uri": "https://localhost:8080/"
        },
        "id": "K8NRX-2eWzHs",
        "outputId": "a12070d7-ba7c-4a81-dfb2-bacf8e74f8eb"
      },
      "source": [
        "valores1.values"
      ],
      "execution_count": 23,
      "outputs": [
        {
          "output_type": "execute_result",
          "data": {
            "text/plain": [
              "array([4752, 4700, 4642, 4631, 4616, 4614, 4613, 4602, 4587, 4585, 4566,\n",
              "       4559, 4550, 4476, 4472, 4462, 4461, 4438, 4430, 4419, 4415, 4402,\n",
              "       4376, 4373, 4342, 4321, 4317, 4314, 4310, 4303, 4302, 4290, 4261,\n",
              "       4224, 4221, 4214, 4205, 4172, 4169, 4163, 4161, 4154, 4144, 4138,\n",
              "       4119, 4062, 4059, 4037, 4034, 4023, 4019, 3997, 3972, 3934, 3933,\n",
              "       3923, 3894, 3890, 3888, 3887, 3863, 3836, 3822, 3818, 3800, 3784,\n",
              "       3783, 3783, 3780, 3775, 3748, 3728, 3727, 3722, 3721, 3720, 3714,\n",
              "       3695, 3684, 3679, 3663, 3611, 3603, 3581, 3569, 3550, 3545, 3542,\n",
              "       3541, 3458])"
            ]
          },
          "metadata": {
            "tags": []
          },
          "execution_count": 23
        }
      ]
    },
    {
      "cell_type": "code",
      "metadata": {
        "colab": {
          "base_uri": "https://localhost:8080/"
        },
        "id": "py0mto9fWqUQ",
        "outputId": "426d51dc-310d-49c3-fcb9-2737a50b9719"
      },
      "source": [
        "# Resumo estatístico:\n",
        "valores1.describe()"
      ],
      "execution_count": null,
      "outputs": [
        {
          "output_type": "execute_result",
          "data": {
            "text/plain": [
              "count      90.000000\n",
              "mean     4088.688889\n",
              "std       347.354226\n",
              "min      3458.000000\n",
              "25%      3783.000000\n",
              "50%      4090.500000\n",
              "75%      4375.250000\n",
              "max      4752.000000\n",
              "Name: name, dtype: float64"
            ]
          },
          "metadata": {
            "tags": []
          },
          "execution_count": 12
        }
      ]
    },
    {
      "cell_type": "code",
      "metadata": {
        "colab": {
          "base_uri": "https://localhost:8080/",
          "height": 257
        },
        "id": "Iw1xUbypmZim",
        "outputId": "e616cbe9-0e1a-45f4-e26f-16a2ae6216d7"
      },
      "source": [
        "df_rj0.head(3)"
      ],
      "execution_count": 24,
      "outputs": [
        {
          "output_type": "execute_result",
          "data": {
            "text/html": [
              "<div>\n",
              "<style scoped>\n",
              "    .dataframe tbody tr th:only-of-type {\n",
              "        vertical-align: middle;\n",
              "    }\n",
              "\n",
              "    .dataframe tbody tr th {\n",
              "        vertical-align: top;\n",
              "    }\n",
              "\n",
              "    .dataframe thead th {\n",
              "        text-align: right;\n",
              "    }\n",
              "</style>\n",
              "<table border=\"1\" class=\"dataframe\">\n",
              "  <thead>\n",
              "    <tr style=\"text-align: right;\">\n",
              "      <th></th>\n",
              "      <th>id</th>\n",
              "      <th>point</th>\n",
              "      <th>size</th>\n",
              "      <th>name</th>\n",
              "      <th>origin</th>\n",
              "      <th>region</th>\n",
              "      <th>vehicle_capacity</th>\n",
              "      <th>longitude</th>\n",
              "      <th>latitude</th>\n",
              "    </tr>\n",
              "  </thead>\n",
              "  <tbody>\n",
              "    <tr>\n",
              "      <th>0</th>\n",
              "      <td>8f6abd1e06bd7704feac404a445094e1</td>\n",
              "      <td>{'lng': -43.10803774439438, 'lat': -22.8636103...</td>\n",
              "      <td>3</td>\n",
              "      <td>cvrp-0-rj-0</td>\n",
              "      <td>{'lng': -43.09887838388887, 'lat': -22.8662298...</td>\n",
              "      <td>rj-0</td>\n",
              "      <td>180</td>\n",
              "      <td>-43.108038</td>\n",
              "      <td>-22.863610</td>\n",
              "    </tr>\n",
              "    <tr>\n",
              "      <th>1</th>\n",
              "      <td>e394f05d92650ed1512dabaadc9295d5</td>\n",
              "      <td>{'lng': -43.08997527513803, 'lat': -22.8622082...</td>\n",
              "      <td>8</td>\n",
              "      <td>cvrp-0-rj-0</td>\n",
              "      <td>{'lng': -43.09887838388887, 'lat': -22.8662298...</td>\n",
              "      <td>rj-0</td>\n",
              "      <td>180</td>\n",
              "      <td>-43.089975</td>\n",
              "      <td>-22.862208</td>\n",
              "    </tr>\n",
              "    <tr>\n",
              "      <th>2</th>\n",
              "      <td>40f1c2db50c9697c3c1254f89d007f60</td>\n",
              "      <td>{'lng': -43.09614479044607, 'lat': -22.8635209...</td>\n",
              "      <td>1</td>\n",
              "      <td>cvrp-0-rj-0</td>\n",
              "      <td>{'lng': -43.09887838388887, 'lat': -22.8662298...</td>\n",
              "      <td>rj-0</td>\n",
              "      <td>180</td>\n",
              "      <td>-43.096145</td>\n",
              "      <td>-22.863521</td>\n",
              "    </tr>\n",
              "  </tbody>\n",
              "</table>\n",
              "</div>"
            ],
            "text/plain": [
              "                                 id  ...   latitude\n",
              "0  8f6abd1e06bd7704feac404a445094e1  ... -22.863610\n",
              "1  e394f05d92650ed1512dabaadc9295d5  ... -22.862208\n",
              "2  40f1c2db50c9697c3c1254f89d007f60  ... -22.863521\n",
              "\n",
              "[3 rows x 9 columns]"
            ]
          },
          "metadata": {
            "tags": []
          },
          "execution_count": 24
        }
      ]
    },
    {
      "cell_type": "code",
      "metadata": {
        "id": "PRaNmM9Xx4f4"
      },
      "source": [
        "# criamos uma coluna para determinar a quantidade de vezes que aquele ponto aparece ao longo do dataframe\n",
        "df_rj0['counts'] = df_rj0['point'].map(df_rj0['point'].value_counts())"
      ],
      "execution_count": 25,
      "outputs": []
    },
    {
      "cell_type": "code",
      "metadata": {
        "colab": {
          "base_uri": "https://localhost:8080/",
          "height": 257
        },
        "id": "dUCAtLeyurA8",
        "outputId": "20a82906-aaed-48ac-d089-2c287d1f0264"
      },
      "source": [
        "df_rj0.head(3)"
      ],
      "execution_count": 26,
      "outputs": [
        {
          "output_type": "execute_result",
          "data": {
            "text/html": [
              "<div>\n",
              "<style scoped>\n",
              "    .dataframe tbody tr th:only-of-type {\n",
              "        vertical-align: middle;\n",
              "    }\n",
              "\n",
              "    .dataframe tbody tr th {\n",
              "        vertical-align: top;\n",
              "    }\n",
              "\n",
              "    .dataframe thead th {\n",
              "        text-align: right;\n",
              "    }\n",
              "</style>\n",
              "<table border=\"1\" class=\"dataframe\">\n",
              "  <thead>\n",
              "    <tr style=\"text-align: right;\">\n",
              "      <th></th>\n",
              "      <th>id</th>\n",
              "      <th>point</th>\n",
              "      <th>size</th>\n",
              "      <th>name</th>\n",
              "      <th>origin</th>\n",
              "      <th>region</th>\n",
              "      <th>vehicle_capacity</th>\n",
              "      <th>longitude</th>\n",
              "      <th>latitude</th>\n",
              "      <th>counts</th>\n",
              "    </tr>\n",
              "  </thead>\n",
              "  <tbody>\n",
              "    <tr>\n",
              "      <th>0</th>\n",
              "      <td>8f6abd1e06bd7704feac404a445094e1</td>\n",
              "      <td>{'lng': -43.10803774439438, 'lat': -22.8636103...</td>\n",
              "      <td>3</td>\n",
              "      <td>cvrp-0-rj-0</td>\n",
              "      <td>{'lng': -43.09887838388887, 'lat': -22.8662298...</td>\n",
              "      <td>rj-0</td>\n",
              "      <td>180</td>\n",
              "      <td>-43.108038</td>\n",
              "      <td>-22.863610</td>\n",
              "      <td>3</td>\n",
              "    </tr>\n",
              "    <tr>\n",
              "      <th>1</th>\n",
              "      <td>e394f05d92650ed1512dabaadc9295d5</td>\n",
              "      <td>{'lng': -43.08997527513803, 'lat': -22.8622082...</td>\n",
              "      <td>8</td>\n",
              "      <td>cvrp-0-rj-0</td>\n",
              "      <td>{'lng': -43.09887838388887, 'lat': -22.8662298...</td>\n",
              "      <td>rj-0</td>\n",
              "      <td>180</td>\n",
              "      <td>-43.089975</td>\n",
              "      <td>-22.862208</td>\n",
              "      <td>2</td>\n",
              "    </tr>\n",
              "    <tr>\n",
              "      <th>2</th>\n",
              "      <td>40f1c2db50c9697c3c1254f89d007f60</td>\n",
              "      <td>{'lng': -43.09614479044607, 'lat': -22.8635209...</td>\n",
              "      <td>1</td>\n",
              "      <td>cvrp-0-rj-0</td>\n",
              "      <td>{'lng': -43.09887838388887, 'lat': -22.8662298...</td>\n",
              "      <td>rj-0</td>\n",
              "      <td>180</td>\n",
              "      <td>-43.096145</td>\n",
              "      <td>-22.863521</td>\n",
              "      <td>4</td>\n",
              "    </tr>\n",
              "  </tbody>\n",
              "</table>\n",
              "</div>"
            ],
            "text/plain": [
              "                                 id  ... counts\n",
              "0  8f6abd1e06bd7704feac404a445094e1  ...      3\n",
              "1  e394f05d92650ed1512dabaadc9295d5  ...      2\n",
              "2  40f1c2db50c9697c3c1254f89d007f60  ...      4\n",
              "\n",
              "[3 rows x 10 columns]"
            ]
          },
          "metadata": {
            "tags": []
          },
          "execution_count": 26
        }
      ]
    },
    {
      "cell_type": "code",
      "metadata": {
        "colab": {
          "base_uri": "https://localhost:8080/",
          "height": 826
        },
        "id": "267blcWsm87z",
        "outputId": "fddc8ba0-a9dd-44f5-ab81-0a71ab5fba36"
      },
      "source": [
        "# Verificando se está certo (notar que todos os pontos estão agora com 12, indicando que o ponto se repete 12 vezes)\n",
        "posicao = \"{'lng': -43.01700691830846, 'lat': -22.845804713277975}\"   # pegando o primeiro ponto\n",
        "df_rj0.loc[df_rj0['point'] == posicao,:]        #selecionando as linhas que contém somente este ponto"
      ],
      "execution_count": 27,
      "outputs": [
        {
          "output_type": "execute_result",
          "data": {
            "text/html": [
              "<div>\n",
              "<style scoped>\n",
              "    .dataframe tbody tr th:only-of-type {\n",
              "        vertical-align: middle;\n",
              "    }\n",
              "\n",
              "    .dataframe tbody tr th {\n",
              "        vertical-align: top;\n",
              "    }\n",
              "\n",
              "    .dataframe thead th {\n",
              "        text-align: right;\n",
              "    }\n",
              "</style>\n",
              "<table border=\"1\" class=\"dataframe\">\n",
              "  <thead>\n",
              "    <tr style=\"text-align: right;\">\n",
              "      <th></th>\n",
              "      <th>id</th>\n",
              "      <th>point</th>\n",
              "      <th>size</th>\n",
              "      <th>name</th>\n",
              "      <th>origin</th>\n",
              "      <th>region</th>\n",
              "      <th>vehicle_capacity</th>\n",
              "      <th>longitude</th>\n",
              "      <th>latitude</th>\n",
              "      <th>counts</th>\n",
              "    </tr>\n",
              "  </thead>\n",
              "  <tbody>\n",
              "    <tr>\n",
              "      <th>42050</th>\n",
              "      <td>c203a2eb07806eea634bfbee0a46b78e</td>\n",
              "      <td>{'lng': -43.01700691830846, 'lat': -22.8458047...</td>\n",
              "      <td>2</td>\n",
              "      <td>cvrp-0-rj-10</td>\n",
              "      <td>{'lng': -43.09887838388887, 'lat': -22.8662298...</td>\n",
              "      <td>rj-0</td>\n",
              "      <td>180</td>\n",
              "      <td>-43.017007</td>\n",
              "      <td>-22.845805</td>\n",
              "      <td>12</td>\n",
              "    </tr>\n",
              "    <tr>\n",
              "      <th>74706</th>\n",
              "      <td>c203a2eb07806eea634bfbee0a46b78e</td>\n",
              "      <td>{'lng': -43.01700691830846, 'lat': -22.8458047...</td>\n",
              "      <td>2</td>\n",
              "      <td>cvrp-0-rj-18</td>\n",
              "      <td>{'lng': -43.09887838388887, 'lat': -22.8662298...</td>\n",
              "      <td>rj-0</td>\n",
              "      <td>180</td>\n",
              "      <td>-43.017007</td>\n",
              "      <td>-22.845805</td>\n",
              "      <td>12</td>\n",
              "    </tr>\n",
              "    <tr>\n",
              "      <th>139292</th>\n",
              "      <td>c203a2eb07806eea634bfbee0a46b78e</td>\n",
              "      <td>{'lng': -43.01700691830846, 'lat': -22.8458047...</td>\n",
              "      <td>2</td>\n",
              "      <td>cvrp-0-rj-34</td>\n",
              "      <td>{'lng': -43.09887838388887, 'lat': -22.8662298...</td>\n",
              "      <td>rj-0</td>\n",
              "      <td>180</td>\n",
              "      <td>-43.017007</td>\n",
              "      <td>-22.845805</td>\n",
              "      <td>12</td>\n",
              "    </tr>\n",
              "    <tr>\n",
              "      <th>152137</th>\n",
              "      <td>c203a2eb07806eea634bfbee0a46b78e</td>\n",
              "      <td>{'lng': -43.01700691830846, 'lat': -22.8458047...</td>\n",
              "      <td>2</td>\n",
              "      <td>cvrp-0-rj-37</td>\n",
              "      <td>{'lng': -43.09887838388887, 'lat': -22.8662298...</td>\n",
              "      <td>rj-0</td>\n",
              "      <td>180</td>\n",
              "      <td>-43.017007</td>\n",
              "      <td>-22.845805</td>\n",
              "      <td>12</td>\n",
              "    </tr>\n",
              "    <tr>\n",
              "      <th>172439</th>\n",
              "      <td>c203a2eb07806eea634bfbee0a46b78e</td>\n",
              "      <td>{'lng': -43.01700691830846, 'lat': -22.8458047...</td>\n",
              "      <td>2</td>\n",
              "      <td>cvrp-0-rj-42</td>\n",
              "      <td>{'lng': -43.09887838388887, 'lat': -22.8662298...</td>\n",
              "      <td>rj-0</td>\n",
              "      <td>180</td>\n",
              "      <td>-43.017007</td>\n",
              "      <td>-22.845805</td>\n",
              "      <td>12</td>\n",
              "    </tr>\n",
              "    <tr>\n",
              "      <th>188927</th>\n",
              "      <td>c203a2eb07806eea634bfbee0a46b78e</td>\n",
              "      <td>{'lng': -43.01700691830846, 'lat': -22.8458047...</td>\n",
              "      <td>2</td>\n",
              "      <td>cvrp-0-rj-47</td>\n",
              "      <td>{'lng': -43.09887838388887, 'lat': -22.8662298...</td>\n",
              "      <td>rj-0</td>\n",
              "      <td>180</td>\n",
              "      <td>-43.017007</td>\n",
              "      <td>-22.845805</td>\n",
              "      <td>12</td>\n",
              "    </tr>\n",
              "    <tr>\n",
              "      <th>209812</th>\n",
              "      <td>c203a2eb07806eea634bfbee0a46b78e</td>\n",
              "      <td>{'lng': -43.01700691830846, 'lat': -22.8458047...</td>\n",
              "      <td>2</td>\n",
              "      <td>cvrp-0-rj-51</td>\n",
              "      <td>{'lng': -43.09887838388887, 'lat': -22.8662298...</td>\n",
              "      <td>rj-0</td>\n",
              "      <td>180</td>\n",
              "      <td>-43.017007</td>\n",
              "      <td>-22.845805</td>\n",
              "      <td>12</td>\n",
              "    </tr>\n",
              "    <tr>\n",
              "      <th>213653</th>\n",
              "      <td>c203a2eb07806eea634bfbee0a46b78e</td>\n",
              "      <td>{'lng': -43.01700691830846, 'lat': -22.8458047...</td>\n",
              "      <td>2</td>\n",
              "      <td>cvrp-0-rj-53</td>\n",
              "      <td>{'lng': -43.09887838388887, 'lat': -22.8662298...</td>\n",
              "      <td>rj-0</td>\n",
              "      <td>180</td>\n",
              "      <td>-43.017007</td>\n",
              "      <td>-22.845805</td>\n",
              "      <td>12</td>\n",
              "    </tr>\n",
              "    <tr>\n",
              "      <th>237017</th>\n",
              "      <td>c203a2eb07806eea634bfbee0a46b78e</td>\n",
              "      <td>{'lng': -43.01700691830846, 'lat': -22.8458047...</td>\n",
              "      <td>2</td>\n",
              "      <td>cvrp-0-rj-58</td>\n",
              "      <td>{'lng': -43.09887838388887, 'lat': -22.8662298...</td>\n",
              "      <td>rj-0</td>\n",
              "      <td>180</td>\n",
              "      <td>-43.017007</td>\n",
              "      <td>-22.845805</td>\n",
              "      <td>12</td>\n",
              "    </tr>\n",
              "    <tr>\n",
              "      <th>257652</th>\n",
              "      <td>c203a2eb07806eea634bfbee0a46b78e</td>\n",
              "      <td>{'lng': -43.01700691830846, 'lat': -22.8458047...</td>\n",
              "      <td>2</td>\n",
              "      <td>cvrp-0-rj-63</td>\n",
              "      <td>{'lng': -43.09887838388887, 'lat': -22.8662298...</td>\n",
              "      <td>rj-0</td>\n",
              "      <td>180</td>\n",
              "      <td>-43.017007</td>\n",
              "      <td>-22.845805</td>\n",
              "      <td>12</td>\n",
              "    </tr>\n",
              "    <tr>\n",
              "      <th>361938</th>\n",
              "      <td>c203a2eb07806eea634bfbee0a46b78e</td>\n",
              "      <td>{'lng': -43.01700691830846, 'lat': -22.8458047...</td>\n",
              "      <td>2</td>\n",
              "      <td>cvrp-0-rj-88</td>\n",
              "      <td>{'lng': -43.09887838388887, 'lat': -22.8662298...</td>\n",
              "      <td>rj-0</td>\n",
              "      <td>180</td>\n",
              "      <td>-43.017007</td>\n",
              "      <td>-22.845805</td>\n",
              "      <td>12</td>\n",
              "    </tr>\n",
              "    <tr>\n",
              "      <th>365901</th>\n",
              "      <td>c203a2eb07806eea634bfbee0a46b78e</td>\n",
              "      <td>{'lng': -43.01700691830846, 'lat': -22.8458047...</td>\n",
              "      <td>2</td>\n",
              "      <td>cvrp-0-rj-89</td>\n",
              "      <td>{'lng': -43.09887838388887, 'lat': -22.8662298...</td>\n",
              "      <td>rj-0</td>\n",
              "      <td>180</td>\n",
              "      <td>-43.017007</td>\n",
              "      <td>-22.845805</td>\n",
              "      <td>12</td>\n",
              "    </tr>\n",
              "  </tbody>\n",
              "</table>\n",
              "</div>"
            ],
            "text/plain": [
              "                                      id  ... counts\n",
              "42050   c203a2eb07806eea634bfbee0a46b78e  ...     12\n",
              "74706   c203a2eb07806eea634bfbee0a46b78e  ...     12\n",
              "139292  c203a2eb07806eea634bfbee0a46b78e  ...     12\n",
              "152137  c203a2eb07806eea634bfbee0a46b78e  ...     12\n",
              "172439  c203a2eb07806eea634bfbee0a46b78e  ...     12\n",
              "188927  c203a2eb07806eea634bfbee0a46b78e  ...     12\n",
              "209812  c203a2eb07806eea634bfbee0a46b78e  ...     12\n",
              "213653  c203a2eb07806eea634bfbee0a46b78e  ...     12\n",
              "237017  c203a2eb07806eea634bfbee0a46b78e  ...     12\n",
              "257652  c203a2eb07806eea634bfbee0a46b78e  ...     12\n",
              "361938  c203a2eb07806eea634bfbee0a46b78e  ...     12\n",
              "365901  c203a2eb07806eea634bfbee0a46b78e  ...     12\n",
              "\n",
              "[12 rows x 10 columns]"
            ]
          },
          "metadata": {
            "tags": []
          },
          "execution_count": 27
        }
      ]
    },
    {
      "cell_type": "code",
      "metadata": {
        "colab": {
          "base_uri": "https://localhost:8080/"
        },
        "id": "H3T_LpdsnbeV",
        "outputId": "ce1f529e-3755-4da8-ec3a-dc7b8c3e0ce2"
      },
      "source": [
        "# Quantidade de pontos\n",
        "df_rj0['counts'].unique()"
      ],
      "execution_count": 28,
      "outputs": [
        {
          "output_type": "execute_result",
          "data": {
            "text/plain": [
              "array([ 3,  2,  4,  5,  8,  6,  1,  7, 10,  9, 11, 12])"
            ]
          },
          "metadata": {
            "tags": []
          },
          "execution_count": 28
        }
      ]
    },
    {
      "cell_type": "code",
      "metadata": {
        "colab": {
          "base_uri": "https://localhost:8080/"
        },
        "id": "Ii2Bj-pjn2r4",
        "outputId": "e1dd8d0a-eec0-475d-8fff-e0cf20970c53"
      },
      "source": [
        "# a capacidade do veículo é a mesma para todas as instâncias?\n",
        "df_rj0['vehicle_capacity'].unique()"
      ],
      "execution_count": 29,
      "outputs": [
        {
          "output_type": "execute_result",
          "data": {
            "text/plain": [
              "array([180])"
            ]
          },
          "metadata": {
            "tags": []
          },
          "execution_count": 29
        }
      ]
    },
    {
      "cell_type": "code",
      "metadata": {
        "colab": {
          "base_uri": "https://localhost:8080/",
          "height": 257
        },
        "id": "EWNzXyMu1ETh",
        "outputId": "221dd9d6-6d96-49fe-e16b-fdcba386600b"
      },
      "source": [
        "# criando um outro dataframe - remover a coluna name que é a única diferente dos demais\n",
        "df_rj0_sub = df_rj0.drop(labels=['name'],axis = 1)\n",
        "df_rj0_sub.head(3)"
      ],
      "execution_count": 30,
      "outputs": [
        {
          "output_type": "execute_result",
          "data": {
            "text/html": [
              "<div>\n",
              "<style scoped>\n",
              "    .dataframe tbody tr th:only-of-type {\n",
              "        vertical-align: middle;\n",
              "    }\n",
              "\n",
              "    .dataframe tbody tr th {\n",
              "        vertical-align: top;\n",
              "    }\n",
              "\n",
              "    .dataframe thead th {\n",
              "        text-align: right;\n",
              "    }\n",
              "</style>\n",
              "<table border=\"1\" class=\"dataframe\">\n",
              "  <thead>\n",
              "    <tr style=\"text-align: right;\">\n",
              "      <th></th>\n",
              "      <th>id</th>\n",
              "      <th>point</th>\n",
              "      <th>size</th>\n",
              "      <th>origin</th>\n",
              "      <th>region</th>\n",
              "      <th>vehicle_capacity</th>\n",
              "      <th>longitude</th>\n",
              "      <th>latitude</th>\n",
              "      <th>counts</th>\n",
              "    </tr>\n",
              "  </thead>\n",
              "  <tbody>\n",
              "    <tr>\n",
              "      <th>0</th>\n",
              "      <td>8f6abd1e06bd7704feac404a445094e1</td>\n",
              "      <td>{'lng': -43.10803774439438, 'lat': -22.8636103...</td>\n",
              "      <td>3</td>\n",
              "      <td>{'lng': -43.09887838388887, 'lat': -22.8662298...</td>\n",
              "      <td>rj-0</td>\n",
              "      <td>180</td>\n",
              "      <td>-43.108038</td>\n",
              "      <td>-22.863610</td>\n",
              "      <td>3</td>\n",
              "    </tr>\n",
              "    <tr>\n",
              "      <th>1</th>\n",
              "      <td>e394f05d92650ed1512dabaadc9295d5</td>\n",
              "      <td>{'lng': -43.08997527513803, 'lat': -22.8622082...</td>\n",
              "      <td>8</td>\n",
              "      <td>{'lng': -43.09887838388887, 'lat': -22.8662298...</td>\n",
              "      <td>rj-0</td>\n",
              "      <td>180</td>\n",
              "      <td>-43.089975</td>\n",
              "      <td>-22.862208</td>\n",
              "      <td>2</td>\n",
              "    </tr>\n",
              "    <tr>\n",
              "      <th>2</th>\n",
              "      <td>40f1c2db50c9697c3c1254f89d007f60</td>\n",
              "      <td>{'lng': -43.09614479044607, 'lat': -22.8635209...</td>\n",
              "      <td>1</td>\n",
              "      <td>{'lng': -43.09887838388887, 'lat': -22.8662298...</td>\n",
              "      <td>rj-0</td>\n",
              "      <td>180</td>\n",
              "      <td>-43.096145</td>\n",
              "      <td>-22.863521</td>\n",
              "      <td>4</td>\n",
              "    </tr>\n",
              "  </tbody>\n",
              "</table>\n",
              "</div>"
            ],
            "text/plain": [
              "                                 id  ... counts\n",
              "0  8f6abd1e06bd7704feac404a445094e1  ...      3\n",
              "1  e394f05d92650ed1512dabaadc9295d5  ...      2\n",
              "2  40f1c2db50c9697c3c1254f89d007f60  ...      4\n",
              "\n",
              "[3 rows x 9 columns]"
            ]
          },
          "metadata": {
            "tags": []
          },
          "execution_count": 30
        }
      ]
    },
    {
      "cell_type": "code",
      "metadata": {
        "colab": {
          "base_uri": "https://localhost:8080/"
        },
        "id": "SdDHagvroBAS",
        "outputId": "1bcbdf7e-3087-4283-83ca-351deff18a41"
      },
      "source": [
        "df_rj0_sub.shape"
      ],
      "execution_count": 31,
      "outputs": [
        {
          "output_type": "execute_result",
          "data": {
            "text/plain": [
              "(367982, 9)"
            ]
          },
          "metadata": {
            "tags": []
          },
          "execution_count": 31
        }
      ]
    },
    {
      "cell_type": "code",
      "metadata": {
        "colab": {
          "base_uri": "https://localhost:8080/"
        },
        "id": "AXvjt1aY2vaC",
        "outputId": "56970f4e-9b69-473c-f166-85f54d055238"
      },
      "source": [
        "# removendo linhas duplicadas - removendo todas as linhas repetidas (de forma que agora só teremos os pontos que não se repetem - como temos counts, sabemos quantas vezes aquele ponto repetiu nas instâncias)\n",
        "df_rj0_sub1 = df_rj0_sub.drop_duplicates()\n",
        "df_rj0_sub1.shape"
      ],
      "execution_count": 32,
      "outputs": [
        {
          "output_type": "execute_result",
          "data": {
            "text/plain": [
              "(131871, 9)"
            ]
          },
          "metadata": {
            "tags": []
          },
          "execution_count": 32
        }
      ]
    },
    {
      "cell_type": "code",
      "metadata": {
        "colab": {
          "base_uri": "https://localhost:8080/",
          "height": 384
        },
        "id": "_LCmlVkRUPy1",
        "outputId": "bc5df13b-d9a4-41b8-def2-d1363125c283"
      },
      "source": [
        "# temos um subconjunto com linhas não repetidas, e a coluna counts indica quantas vezes os pontos apareceram nas 90 instâncias\n",
        "df_rj0_sub1.head()"
      ],
      "execution_count": 33,
      "outputs": [
        {
          "output_type": "execute_result",
          "data": {
            "text/html": [
              "<div>\n",
              "<style scoped>\n",
              "    .dataframe tbody tr th:only-of-type {\n",
              "        vertical-align: middle;\n",
              "    }\n",
              "\n",
              "    .dataframe tbody tr th {\n",
              "        vertical-align: top;\n",
              "    }\n",
              "\n",
              "    .dataframe thead th {\n",
              "        text-align: right;\n",
              "    }\n",
              "</style>\n",
              "<table border=\"1\" class=\"dataframe\">\n",
              "  <thead>\n",
              "    <tr style=\"text-align: right;\">\n",
              "      <th></th>\n",
              "      <th>id</th>\n",
              "      <th>point</th>\n",
              "      <th>size</th>\n",
              "      <th>origin</th>\n",
              "      <th>region</th>\n",
              "      <th>vehicle_capacity</th>\n",
              "      <th>longitude</th>\n",
              "      <th>latitude</th>\n",
              "      <th>counts</th>\n",
              "    </tr>\n",
              "  </thead>\n",
              "  <tbody>\n",
              "    <tr>\n",
              "      <th>0</th>\n",
              "      <td>8f6abd1e06bd7704feac404a445094e1</td>\n",
              "      <td>{'lng': -43.10803774439438, 'lat': -22.8636103...</td>\n",
              "      <td>3</td>\n",
              "      <td>{'lng': -43.09887838388887, 'lat': -22.8662298...</td>\n",
              "      <td>rj-0</td>\n",
              "      <td>180</td>\n",
              "      <td>-43.108038</td>\n",
              "      <td>-22.863610</td>\n",
              "      <td>3</td>\n",
              "    </tr>\n",
              "    <tr>\n",
              "      <th>1</th>\n",
              "      <td>e394f05d92650ed1512dabaadc9295d5</td>\n",
              "      <td>{'lng': -43.08997527513803, 'lat': -22.8622082...</td>\n",
              "      <td>8</td>\n",
              "      <td>{'lng': -43.09887838388887, 'lat': -22.8662298...</td>\n",
              "      <td>rj-0</td>\n",
              "      <td>180</td>\n",
              "      <td>-43.089975</td>\n",
              "      <td>-22.862208</td>\n",
              "      <td>2</td>\n",
              "    </tr>\n",
              "    <tr>\n",
              "      <th>2</th>\n",
              "      <td>40f1c2db50c9697c3c1254f89d007f60</td>\n",
              "      <td>{'lng': -43.09614479044607, 'lat': -22.8635209...</td>\n",
              "      <td>1</td>\n",
              "      <td>{'lng': -43.09887838388887, 'lat': -22.8662298...</td>\n",
              "      <td>rj-0</td>\n",
              "      <td>180</td>\n",
              "      <td>-43.096145</td>\n",
              "      <td>-22.863521</td>\n",
              "      <td>4</td>\n",
              "    </tr>\n",
              "    <tr>\n",
              "      <th>3</th>\n",
              "      <td>630983abc40e566355d993a11fee0973</td>\n",
              "      <td>{'lng': -43.094907911605844, 'lat': -22.855667...</td>\n",
              "      <td>6</td>\n",
              "      <td>{'lng': -43.09887838388887, 'lat': -22.8662298...</td>\n",
              "      <td>rj-0</td>\n",
              "      <td>180</td>\n",
              "      <td>-43.094908</td>\n",
              "      <td>-22.855668</td>\n",
              "      <td>2</td>\n",
              "    </tr>\n",
              "    <tr>\n",
              "      <th>4</th>\n",
              "      <td>ec64e4ae52e564dddc9bb5f695223a</td>\n",
              "      <td>{'lng': -43.09954677964522, 'lat': -22.8633098...</td>\n",
              "      <td>9</td>\n",
              "      <td>{'lng': -43.09887838388887, 'lat': -22.8662298...</td>\n",
              "      <td>rj-0</td>\n",
              "      <td>180</td>\n",
              "      <td>-43.099547</td>\n",
              "      <td>-22.863310</td>\n",
              "      <td>5</td>\n",
              "    </tr>\n",
              "  </tbody>\n",
              "</table>\n",
              "</div>"
            ],
            "text/plain": [
              "                                 id  ... counts\n",
              "0  8f6abd1e06bd7704feac404a445094e1  ...      3\n",
              "1  e394f05d92650ed1512dabaadc9295d5  ...      2\n",
              "2  40f1c2db50c9697c3c1254f89d007f60  ...      4\n",
              "3  630983abc40e566355d993a11fee0973  ...      2\n",
              "4    ec64e4ae52e564dddc9bb5f695223a  ...      5\n",
              "\n",
              "[5 rows x 9 columns]"
            ]
          },
          "metadata": {
            "tags": []
          },
          "execution_count": 33
        }
      ]
    },
    {
      "cell_type": "code",
      "metadata": {
        "id": "w_yzFky5UMYy"
      },
      "source": [
        ""
      ],
      "execution_count": null,
      "outputs": []
    },
    {
      "cell_type": "code",
      "metadata": {
        "colab": {
          "base_uri": "https://localhost:8080/"
        },
        "id": "xL1pRyai5Qk6",
        "outputId": "cb1fddc6-df5f-43dc-8137-dfd66e18ee13"
      },
      "source": [
        "# 3 pontos aparecem 12 vezes, 8 pontos aparecem 11 vezes, 32 pontos aparecem 10 vezes,... \n",
        "df_rj0_sub1['counts'].value_counts()"
      ],
      "execution_count": 34,
      "outputs": [
        {
          "output_type": "execute_result",
          "data": {
            "text/plain": [
              "2     35898\n",
              "3     30854\n",
              "1     27994\n",
              "4     20064\n",
              "5     10294\n",
              "6      4427\n",
              "7      1638\n",
              "8       499\n",
              "9       160\n",
              "10       32\n",
              "11        8\n",
              "12        3\n",
              "Name: counts, dtype: int64"
            ]
          },
          "metadata": {
            "tags": []
          },
          "execution_count": 34
        }
      ]
    },
    {
      "cell_type": "code",
      "metadata": {
        "colab": {
          "base_uri": "https://localhost:8080/",
          "height": 405
        },
        "id": "y3trosNpWP6E",
        "outputId": "942dc904-559f-493c-a799-0d7c2f5503b2"
      },
      "source": [
        "# passando para dataframe\n",
        "df_quantidade = pd.DataFrame(df_rj0_sub1['counts'].value_counts())\n",
        "df_quantidade"
      ],
      "execution_count": 35,
      "outputs": [
        {
          "output_type": "execute_result",
          "data": {
            "text/html": [
              "<div>\n",
              "<style scoped>\n",
              "    .dataframe tbody tr th:only-of-type {\n",
              "        vertical-align: middle;\n",
              "    }\n",
              "\n",
              "    .dataframe tbody tr th {\n",
              "        vertical-align: top;\n",
              "    }\n",
              "\n",
              "    .dataframe thead th {\n",
              "        text-align: right;\n",
              "    }\n",
              "</style>\n",
              "<table border=\"1\" class=\"dataframe\">\n",
              "  <thead>\n",
              "    <tr style=\"text-align: right;\">\n",
              "      <th></th>\n",
              "      <th>counts</th>\n",
              "    </tr>\n",
              "  </thead>\n",
              "  <tbody>\n",
              "    <tr>\n",
              "      <th>2</th>\n",
              "      <td>35898</td>\n",
              "    </tr>\n",
              "    <tr>\n",
              "      <th>3</th>\n",
              "      <td>30854</td>\n",
              "    </tr>\n",
              "    <tr>\n",
              "      <th>1</th>\n",
              "      <td>27994</td>\n",
              "    </tr>\n",
              "    <tr>\n",
              "      <th>4</th>\n",
              "      <td>20064</td>\n",
              "    </tr>\n",
              "    <tr>\n",
              "      <th>5</th>\n",
              "      <td>10294</td>\n",
              "    </tr>\n",
              "    <tr>\n",
              "      <th>6</th>\n",
              "      <td>4427</td>\n",
              "    </tr>\n",
              "    <tr>\n",
              "      <th>7</th>\n",
              "      <td>1638</td>\n",
              "    </tr>\n",
              "    <tr>\n",
              "      <th>8</th>\n",
              "      <td>499</td>\n",
              "    </tr>\n",
              "    <tr>\n",
              "      <th>9</th>\n",
              "      <td>160</td>\n",
              "    </tr>\n",
              "    <tr>\n",
              "      <th>10</th>\n",
              "      <td>32</td>\n",
              "    </tr>\n",
              "    <tr>\n",
              "      <th>11</th>\n",
              "      <td>8</td>\n",
              "    </tr>\n",
              "    <tr>\n",
              "      <th>12</th>\n",
              "      <td>3</td>\n",
              "    </tr>\n",
              "  </tbody>\n",
              "</table>\n",
              "</div>"
            ],
            "text/plain": [
              "    counts\n",
              "2    35898\n",
              "3    30854\n",
              "1    27994\n",
              "4    20064\n",
              "5    10294\n",
              "6     4427\n",
              "7     1638\n",
              "8      499\n",
              "9      160\n",
              "10      32\n",
              "11       8\n",
              "12       3"
            ]
          },
          "metadata": {
            "tags": []
          },
          "execution_count": 35
        }
      ]
    },
    {
      "cell_type": "code",
      "metadata": {
        "colab": {
          "base_uri": "https://localhost:8080/",
          "height": 460
        },
        "id": "x18YHLI5Ek5g",
        "outputId": "8bc3dabb-5dbc-423f-8433-e9fa77549c8a"
      },
      "source": [
        "# Criando uma figure, axes\n",
        "# Importando as Bibliotecas \n",
        "import matplotlib.pyplot as plt\n",
        "import seaborn as sns\n",
        "\n",
        "\n",
        "fig, ax = plt.subplots(nrows = 1, ncols = 1, figsize=(6,4),       # (largura, altura) em polegadas \n",
        "                       dpi=110)                                   # resolução (pontos/polegada)\n",
        "\n",
        "# Criando o gráfico de barras \n",
        "sns.barplot(x = df_quantidade.index, y = df_quantidade['counts'], ax=ax, color = '#4A81BF',data=df_quantidade)\n",
        "\n",
        "\n",
        "# Remover/tirar o destaque das linhas\n",
        "\n",
        "# Deixar invisível os eixos superior e direito\n",
        "ax.spines['right'].set_visible(False)\n",
        "ax.spines['top'].set_visible(False)\n",
        "\n",
        "# Modificar a cor dos eixos inferior e esquerdo para cinza\n",
        "ax.spines['bottom'].set_color('#BFBEBE')\n",
        "ax.spines['left'].set_color('#BFBEBE')\n",
        "\n",
        "# --------------- REPETINDO O PROCESSO ------------------------------\n",
        "#Título -> notar que o título não está alinhado com o eixo\n",
        "ax.set_title('Quantidade de ocorrência do counts', color = '#414040',loc='left', fontsize=14)\n",
        "\n",
        "# Alinhar o texto\n",
        "#ax.text(x= -1.5,y = 1650, s = 'Quantidade de itens vendidos por setor em 2017',color = '#929497',fontsize=14)\n",
        "\n",
        "# Modificar a cor dos tiques para cinza (colocar uma cor menos intensa)\n",
        "ax.tick_params(axis='both', colors ='#76787B',labelsize=10)         # modifica a aparência dos ticks, ticks labels e gridlines \n",
        "\n",
        "\n",
        "# Adicionar o label\n",
        "ax.set_xlabel('Quantidade de vezes',color='#76787B')\n",
        "ax.set_ylabel('Quantidade de pontos',color='#76787B',fontsize=12)"
      ],
      "execution_count": null,
      "outputs": [
        {
          "output_type": "execute_result",
          "data": {
            "text/plain": [
              "Text(0, 0.5, 'Quantidade de pontos')"
            ]
          },
          "metadata": {
            "tags": []
          },
          "execution_count": 26
        },
        {
          "output_type": "display_data",
          "data": {
            "image/png": "[encoded data removed]",
            "text/plain": [
              "<Figure size 660x440 with 1 Axes>"
            ]
          },
          "metadata": {
            "tags": [],
            "needs_background": "light"
          }
        }
      ]
    },
    {
      "cell_type": "code",
      "metadata": {
        "colab": {
          "base_uri": "https://localhost:8080/",
          "height": 1000
        },
        "id": "ClQ4W0zl-RjY",
        "outputId": "8c1f0d4c-eb3d-47e3-bff2-5f84573e4333"
      },
      "source": [
        "# condição: aparece 11 vezes ou 12 vezes ou 10 vezes\n",
        "df_ponto = df_rj0_sub1.loc[(df_rj0_sub1['counts'] == 11) | (df_rj0_sub1['counts'] == 12)| (df_rj0_sub1['counts'] == 10),:]\n",
        "#df_ponto = df_rj0_sub1.loc[(df_rj0_sub1['counts'] == 12),:]\n",
        "df_ponto"
      ],
      "execution_count": 36,
      "outputs": [
        {
          "output_type": "execute_result",
          "data": {
            "text/html": [
              "<div>\n",
              "<style scoped>\n",
              "    .dataframe tbody tr th:only-of-type {\n",
              "        vertical-align: middle;\n",
              "    }\n",
              "\n",
              "    .dataframe tbody tr th {\n",
              "        vertical-align: top;\n",
              "    }\n",
              "\n",
              "    .dataframe thead th {\n",
              "        text-align: right;\n",
              "    }\n",
              "</style>\n",
              "<table border=\"1\" class=\"dataframe\">\n",
              "  <thead>\n",
              "    <tr style=\"text-align: right;\">\n",
              "      <th></th>\n",
              "      <th>id</th>\n",
              "      <th>point</th>\n",
              "      <th>size</th>\n",
              "      <th>origin</th>\n",
              "      <th>region</th>\n",
              "      <th>vehicle_capacity</th>\n",
              "      <th>longitude</th>\n",
              "      <th>latitude</th>\n",
              "      <th>counts</th>\n",
              "    </tr>\n",
              "  </thead>\n",
              "  <tbody>\n",
              "    <tr>\n",
              "      <th>142</th>\n",
              "      <td>4b652232fda99f7280ca4224491a598e</td>\n",
              "      <td>{'lng': -42.86462331325438, 'lat': -22.7446192...</td>\n",
              "      <td>4</td>\n",
              "      <td>{'lng': -43.09887838388887, 'lat': -22.8662298...</td>\n",
              "      <td>rj-0</td>\n",
              "      <td>180</td>\n",
              "      <td>-42.864623</td>\n",
              "      <td>-22.744619</td>\n",
              "      <td>10</td>\n",
              "    </tr>\n",
              "    <tr>\n",
              "      <th>466</th>\n",
              "      <td>7987b3933b062449ac3d0e8d1c15cce</td>\n",
              "      <td>{'lng': -42.96728369098474, 'lat': -22.7907198...</td>\n",
              "      <td>5</td>\n",
              "      <td>{'lng': -43.09887838388887, 'lat': -22.8662298...</td>\n",
              "      <td>rj-0</td>\n",
              "      <td>180</td>\n",
              "      <td>-42.967284</td>\n",
              "      <td>-22.790720</td>\n",
              "      <td>11</td>\n",
              "    </tr>\n",
              "    <tr>\n",
              "      <th>816</th>\n",
              "      <td>98e3222f3bcda413418362be6f9bc31a</td>\n",
              "      <td>{'lng': -42.996841266041166, 'lat': -22.835706...</td>\n",
              "      <td>1</td>\n",
              "      <td>{'lng': -43.09887838388887, 'lat': -22.8662298...</td>\n",
              "      <td>rj-0</td>\n",
              "      <td>180</td>\n",
              "      <td>-42.996841</td>\n",
              "      <td>-22.835707</td>\n",
              "      <td>10</td>\n",
              "    </tr>\n",
              "    <tr>\n",
              "      <th>2803</th>\n",
              "      <td>aeb9c8209dd73364be9ca4825111b7c9</td>\n",
              "      <td>{'lng': -43.065992781910666, 'lat': -22.887630...</td>\n",
              "      <td>3</td>\n",
              "      <td>{'lng': -43.09887838388887, 'lat': -22.8662298...</td>\n",
              "      <td>rj-0</td>\n",
              "      <td>180</td>\n",
              "      <td>-43.065993</td>\n",
              "      <td>-22.887631</td>\n",
              "      <td>12</td>\n",
              "    </tr>\n",
              "    <tr>\n",
              "      <th>2876</th>\n",
              "      <td>aca684a242e79fbe6873f4a5b3a21ea1</td>\n",
              "      <td>{'lng': -43.06191290823435, 'lat': -22.8286437...</td>\n",
              "      <td>10</td>\n",
              "      <td>{'lng': -43.09887838388887, 'lat': -22.8662298...</td>\n",
              "      <td>rj-0</td>\n",
              "      <td>180</td>\n",
              "      <td>-43.061913</td>\n",
              "      <td>-22.828644</td>\n",
              "      <td>10</td>\n",
              "    </tr>\n",
              "    <tr>\n",
              "      <th>3134</th>\n",
              "      <td>55b4faa6bfa48fc31f8ee9dbed3a3711</td>\n",
              "      <td>{'lng': -43.10595035940253, 'lat': -22.9069269...</td>\n",
              "      <td>3</td>\n",
              "      <td>{'lng': -43.09887838388887, 'lat': -22.8662298...</td>\n",
              "      <td>rj-0</td>\n",
              "      <td>180</td>\n",
              "      <td>-43.105950</td>\n",
              "      <td>-22.906927</td>\n",
              "      <td>10</td>\n",
              "    </tr>\n",
              "    <tr>\n",
              "      <th>5399</th>\n",
              "      <td>fda52b698b65c32ec31869b6fc2629bf</td>\n",
              "      <td>{'lng': -43.037773022150446, 'lat': -22.906949...</td>\n",
              "      <td>4</td>\n",
              "      <td>{'lng': -43.09887838388887, 'lat': -22.8662298...</td>\n",
              "      <td>rj-0</td>\n",
              "      <td>180</td>\n",
              "      <td>-43.037773</td>\n",
              "      <td>-22.906950</td>\n",
              "      <td>10</td>\n",
              "    </tr>\n",
              "    <tr>\n",
              "      <th>5918</th>\n",
              "      <td>da24244514bb80e0d00eafc5d72c7556</td>\n",
              "      <td>{'lng': -43.059143497541974, 'lat': -22.906472...</td>\n",
              "      <td>2</td>\n",
              "      <td>{'lng': -43.09887838388887, 'lat': -22.8662298...</td>\n",
              "      <td>rj-0</td>\n",
              "      <td>180</td>\n",
              "      <td>-43.059143</td>\n",
              "      <td>-22.906473</td>\n",
              "      <td>11</td>\n",
              "    </tr>\n",
              "    <tr>\n",
              "      <th>13162</th>\n",
              "      <td>743b584f48bf09287874ef95f33475ae</td>\n",
              "      <td>{'lng': -43.08781988907568, 'lat': -22.8804935...</td>\n",
              "      <td>10</td>\n",
              "      <td>{'lng': -43.09887838388887, 'lat': -22.8662298...</td>\n",
              "      <td>rj-0</td>\n",
              "      <td>180</td>\n",
              "      <td>-43.087820</td>\n",
              "      <td>-22.880494</td>\n",
              "      <td>11</td>\n",
              "    </tr>\n",
              "    <tr>\n",
              "      <th>14450</th>\n",
              "      <td>ade8f9ead2530130dc4e449506232129</td>\n",
              "      <td>{'lng': -43.10144564427343, 'lat': -22.9002520...</td>\n",
              "      <td>8</td>\n",
              "      <td>{'lng': -43.09887838388887, 'lat': -22.8662298...</td>\n",
              "      <td>rj-0</td>\n",
              "      <td>180</td>\n",
              "      <td>-43.101446</td>\n",
              "      <td>-22.900252</td>\n",
              "      <td>10</td>\n",
              "    </tr>\n",
              "    <tr>\n",
              "      <th>14730</th>\n",
              "      <td>7f067eccafe03b8799a96005935e8d2d</td>\n",
              "      <td>{'lng': -43.10177337898712, 'lat': -22.8968174...</td>\n",
              "      <td>10</td>\n",
              "      <td>{'lng': -43.09887838388887, 'lat': -22.8662298...</td>\n",
              "      <td>rj-0</td>\n",
              "      <td>180</td>\n",
              "      <td>-43.101773</td>\n",
              "      <td>-22.896817</td>\n",
              "      <td>10</td>\n",
              "    </tr>\n",
              "    <tr>\n",
              "      <th>15576</th>\n",
              "      <td>b49fc4c81b6eb0bbeda5bef4a8177a19</td>\n",
              "      <td>{'lng': -43.11423979406685, 'lat': -22.9036735...</td>\n",
              "      <td>8</td>\n",
              "      <td>{'lng': -43.09887838388887, 'lat': -22.8662298...</td>\n",
              "      <td>rj-0</td>\n",
              "      <td>180</td>\n",
              "      <td>-43.114240</td>\n",
              "      <td>-22.903674</td>\n",
              "      <td>10</td>\n",
              "    </tr>\n",
              "    <tr>\n",
              "      <th>16410</th>\n",
              "      <td>35cb84cdab7b81c21613a84bc144df86</td>\n",
              "      <td>{'lng': -43.09717773882929, 'lat': -22.8590150...</td>\n",
              "      <td>6</td>\n",
              "      <td>{'lng': -43.09887838388887, 'lat': -22.8662298...</td>\n",
              "      <td>rj-0</td>\n",
              "      <td>180</td>\n",
              "      <td>-43.097178</td>\n",
              "      <td>-22.859015</td>\n",
              "      <td>10</td>\n",
              "    </tr>\n",
              "    <tr>\n",
              "      <th>16456</th>\n",
              "      <td>48af93fb2a18f408aa2041a8973f0472</td>\n",
              "      <td>{'lng': -43.102909531378145, 'lat': -22.874690...</td>\n",
              "      <td>8</td>\n",
              "      <td>{'lng': -43.09887838388887, 'lat': -22.8662298...</td>\n",
              "      <td>rj-0</td>\n",
              "      <td>180</td>\n",
              "      <td>-43.102910</td>\n",
              "      <td>-22.874691</td>\n",
              "      <td>10</td>\n",
              "    </tr>\n",
              "    <tr>\n",
              "      <th>17907</th>\n",
              "      <td>996b39333408e61b513ed08ea7d5e186</td>\n",
              "      <td>{'lng': -43.098217748920085, 'lat': -22.935077...</td>\n",
              "      <td>7</td>\n",
              "      <td>{'lng': -43.09887838388887, 'lat': -22.8662298...</td>\n",
              "      <td>rj-0</td>\n",
              "      <td>180</td>\n",
              "      <td>-43.098218</td>\n",
              "      <td>-22.935077</td>\n",
              "      <td>10</td>\n",
              "    </tr>\n",
              "    <tr>\n",
              "      <th>19208</th>\n",
              "      <td>9bef8616ba4e1e98fc608f2623c25bb4</td>\n",
              "      <td>{'lng': -43.01258126362322, 'lat': -22.8315503...</td>\n",
              "      <td>6</td>\n",
              "      <td>{'lng': -43.09887838388887, 'lat': -22.8662298...</td>\n",
              "      <td>rj-0</td>\n",
              "      <td>180</td>\n",
              "      <td>-43.012581</td>\n",
              "      <td>-22.831550</td>\n",
              "      <td>10</td>\n",
              "    </tr>\n",
              "    <tr>\n",
              "      <th>20021</th>\n",
              "      <td>9b7abbf6ec72641e2e0fb8eaf1ccfa6b</td>\n",
              "      <td>{'lng': -43.110269377837135, 'lat': -22.910242...</td>\n",
              "      <td>10</td>\n",
              "      <td>{'lng': -43.09887838388887, 'lat': -22.8662298...</td>\n",
              "      <td>rj-0</td>\n",
              "      <td>180</td>\n",
              "      <td>-43.110269</td>\n",
              "      <td>-22.910242</td>\n",
              "      <td>10</td>\n",
              "    </tr>\n",
              "    <tr>\n",
              "      <th>20450</th>\n",
              "      <td>ffc455422c8f59c7d464489830e8f453</td>\n",
              "      <td>{'lng': -43.10918207499915, 'lat': -22.8682699...</td>\n",
              "      <td>6</td>\n",
              "      <td>{'lng': -43.09887838388887, 'lat': -22.8662298...</td>\n",
              "      <td>rj-0</td>\n",
              "      <td>180</td>\n",
              "      <td>-43.109182</td>\n",
              "      <td>-22.868270</td>\n",
              "      <td>10</td>\n",
              "    </tr>\n",
              "    <tr>\n",
              "      <th>20617</th>\n",
              "      <td>68ba363c14ea0f8f7487417fd71f5ab0</td>\n",
              "      <td>{'lng': -42.84906463600935, 'lat': -22.7521180...</td>\n",
              "      <td>8</td>\n",
              "      <td>{'lng': -43.09887838388887, 'lat': -22.8662298...</td>\n",
              "      <td>rj-0</td>\n",
              "      <td>180</td>\n",
              "      <td>-42.849065</td>\n",
              "      <td>-22.752118</td>\n",
              "      <td>10</td>\n",
              "    </tr>\n",
              "    <tr>\n",
              "      <th>23738</th>\n",
              "      <td>728e04a91ab389cd2f57c191f41348a5</td>\n",
              "      <td>{'lng': -43.06993999049889, 'lat': -22.8276272...</td>\n",
              "      <td>1</td>\n",
              "      <td>{'lng': -43.09887838388887, 'lat': -22.8662298...</td>\n",
              "      <td>rj-0</td>\n",
              "      <td>180</td>\n",
              "      <td>-43.069940</td>\n",
              "      <td>-22.827627</td>\n",
              "      <td>11</td>\n",
              "    </tr>\n",
              "    <tr>\n",
              "      <th>25373</th>\n",
              "      <td>602cada80c0015e64db4b32fe2261723</td>\n",
              "      <td>{'lng': -43.12028863246967, 'lat': -22.8940940...</td>\n",
              "      <td>4</td>\n",
              "      <td>{'lng': -43.09887838388887, 'lat': -22.8662298...</td>\n",
              "      <td>rj-0</td>\n",
              "      <td>180</td>\n",
              "      <td>-43.120289</td>\n",
              "      <td>-22.894094</td>\n",
              "      <td>10</td>\n",
              "    </tr>\n",
              "    <tr>\n",
              "      <th>26857</th>\n",
              "      <td>a7c9b1a7012b5cb1cc5fc787d5ef6668</td>\n",
              "      <td>{'lng': -43.075194298933766, 'lat': -22.852413...</td>\n",
              "      <td>4</td>\n",
              "      <td>{'lng': -43.09887838388887, 'lat': -22.8662298...</td>\n",
              "      <td>rj-0</td>\n",
              "      <td>180</td>\n",
              "      <td>-43.075194</td>\n",
              "      <td>-22.852414</td>\n",
              "      <td>11</td>\n",
              "    </tr>\n",
              "    <tr>\n",
              "      <th>28204</th>\n",
              "      <td>ebd91e65fb44a7951bc35f3800fe5c75</td>\n",
              "      <td>{'lng': -43.01066522486451, 'lat': -22.8061974...</td>\n",
              "      <td>9</td>\n",
              "      <td>{'lng': -43.09887838388887, 'lat': -22.8662298...</td>\n",
              "      <td>rj-0</td>\n",
              "      <td>180</td>\n",
              "      <td>-43.010665</td>\n",
              "      <td>-22.806197</td>\n",
              "      <td>10</td>\n",
              "    </tr>\n",
              "    <tr>\n",
              "      <th>31063</th>\n",
              "      <td>9dcdc5509194a57d2be198093872cf09</td>\n",
              "      <td>{'lng': -43.07390331241261, 'lat': -22.8450877...</td>\n",
              "      <td>4</td>\n",
              "      <td>{'lng': -43.09887838388887, 'lat': -22.8662298...</td>\n",
              "      <td>rj-0</td>\n",
              "      <td>180</td>\n",
              "      <td>-43.073903</td>\n",
              "      <td>-22.845088</td>\n",
              "      <td>10</td>\n",
              "    </tr>\n",
              "    <tr>\n",
              "      <th>32090</th>\n",
              "      <td>a413afa1dacb920c7b18b9886d4b8d2c</td>\n",
              "      <td>{'lng': -43.07373228823869, 'lat': -22.8156960...</td>\n",
              "      <td>5</td>\n",
              "      <td>{'lng': -43.09887838388887, 'lat': -22.8662298...</td>\n",
              "      <td>rj-0</td>\n",
              "      <td>180</td>\n",
              "      <td>-43.073732</td>\n",
              "      <td>-22.815696</td>\n",
              "      <td>10</td>\n",
              "    </tr>\n",
              "    <tr>\n",
              "      <th>33305</th>\n",
              "      <td>6d8f0615b22bbf99d943ebb8015a1c09</td>\n",
              "      <td>{'lng': -43.0879954927846, 'lat': -22.91131382...</td>\n",
              "      <td>9</td>\n",
              "      <td>{'lng': -43.09887838388887, 'lat': -22.8662298...</td>\n",
              "      <td>rj-0</td>\n",
              "      <td>180</td>\n",
              "      <td>-43.087995</td>\n",
              "      <td>-22.911314</td>\n",
              "      <td>10</td>\n",
              "    </tr>\n",
              "    <tr>\n",
              "      <th>41497</th>\n",
              "      <td>fa94db49b0d60aebc84d5a60e29c5612</td>\n",
              "      <td>{'lng': -43.094973721097105, 'lat': -22.881007...</td>\n",
              "      <td>10</td>\n",
              "      <td>{'lng': -43.09887838388887, 'lat': -22.8662298...</td>\n",
              "      <td>rj-0</td>\n",
              "      <td>180</td>\n",
              "      <td>-43.094974</td>\n",
              "      <td>-22.881007</td>\n",
              "      <td>12</td>\n",
              "    </tr>\n",
              "    <tr>\n",
              "      <th>42050</th>\n",
              "      <td>c203a2eb07806eea634bfbee0a46b78e</td>\n",
              "      <td>{'lng': -43.01700691830846, 'lat': -22.8458047...</td>\n",
              "      <td>2</td>\n",
              "      <td>{'lng': -43.09887838388887, 'lat': -22.8662298...</td>\n",
              "      <td>rj-0</td>\n",
              "      <td>180</td>\n",
              "      <td>-43.017007</td>\n",
              "      <td>-22.845805</td>\n",
              "      <td>12</td>\n",
              "    </tr>\n",
              "    <tr>\n",
              "      <th>43495</th>\n",
              "      <td>de045407f5670378753138d610cf5fbf</td>\n",
              "      <td>{'lng': -43.11047656554326, 'lat': -22.9075322...</td>\n",
              "      <td>1</td>\n",
              "      <td>{'lng': -43.09887838388887, 'lat': -22.8662298...</td>\n",
              "      <td>rj-0</td>\n",
              "      <td>180</td>\n",
              "      <td>-43.110477</td>\n",
              "      <td>-22.907532</td>\n",
              "      <td>10</td>\n",
              "    </tr>\n",
              "    <tr>\n",
              "      <th>43979</th>\n",
              "      <td>eb0ec48ad151cc12ddfc3efe280869ba</td>\n",
              "      <td>{'lng': -43.032155073332156, 'lat': -22.821628...</td>\n",
              "      <td>3</td>\n",
              "      <td>{'lng': -43.09887838388887, 'lat': -22.8662298...</td>\n",
              "      <td>rj-0</td>\n",
              "      <td>180</td>\n",
              "      <td>-43.032155</td>\n",
              "      <td>-22.821629</td>\n",
              "      <td>11</td>\n",
              "    </tr>\n",
              "    <tr>\n",
              "      <th>44471</th>\n",
              "      <td>d033b729f611118657c058a6940ae294</td>\n",
              "      <td>{'lng': -43.08356976629255, 'lat': -22.9154261...</td>\n",
              "      <td>8</td>\n",
              "      <td>{'lng': -43.09887838388887, 'lat': -22.8662298...</td>\n",
              "      <td>rj-0</td>\n",
              "      <td>180</td>\n",
              "      <td>-43.083570</td>\n",
              "      <td>-22.915426</td>\n",
              "      <td>10</td>\n",
              "    </tr>\n",
              "    <tr>\n",
              "      <th>44857</th>\n",
              "      <td>234b2a1e2f6a01b06a5fba1d41cb846b</td>\n",
              "      <td>{'lng': -43.12162400000998, 'lat': -22.9049847...</td>\n",
              "      <td>4</td>\n",
              "      <td>{'lng': -43.09887838388887, 'lat': -22.8662298...</td>\n",
              "      <td>rj-0</td>\n",
              "      <td>180</td>\n",
              "      <td>-43.121624</td>\n",
              "      <td>-22.904985</td>\n",
              "      <td>10</td>\n",
              "    </tr>\n",
              "    <tr>\n",
              "      <th>44953</th>\n",
              "      <td>38b539f48c165235ca35f4d7761c614b</td>\n",
              "      <td>{'lng': -43.121287496403404, 'lat': -22.904475...</td>\n",
              "      <td>9</td>\n",
              "      <td>{'lng': -43.09887838388887, 'lat': -22.8662298...</td>\n",
              "      <td>rj-0</td>\n",
              "      <td>180</td>\n",
              "      <td>-43.121287</td>\n",
              "      <td>-22.904475</td>\n",
              "      <td>10</td>\n",
              "    </tr>\n",
              "    <tr>\n",
              "      <th>53758</th>\n",
              "      <td>c792808008a3d3f2049d0f6273f6ff5</td>\n",
              "      <td>{'lng': -43.025676504092274, 'lat': -22.928197...</td>\n",
              "      <td>1</td>\n",
              "      <td>{'lng': -43.09887838388887, 'lat': -22.8662298...</td>\n",
              "      <td>rj-0</td>\n",
              "      <td>180</td>\n",
              "      <td>-43.025677</td>\n",
              "      <td>-22.928198</td>\n",
              "      <td>11</td>\n",
              "    </tr>\n",
              "    <tr>\n",
              "      <th>55846</th>\n",
              "      <td>739646458abddc22a3eb72dd4cf351a9</td>\n",
              "      <td>{'lng': -43.10507822498419, 'lat': -22.9038245...</td>\n",
              "      <td>3</td>\n",
              "      <td>{'lng': -43.09887838388887, 'lat': -22.8662298...</td>\n",
              "      <td>rj-0</td>\n",
              "      <td>180</td>\n",
              "      <td>-43.105078</td>\n",
              "      <td>-22.903825</td>\n",
              "      <td>10</td>\n",
              "    </tr>\n",
              "    <tr>\n",
              "      <th>59954</th>\n",
              "      <td>e430abfc2fbab91eceaf1be3814b0c8b</td>\n",
              "      <td>{'lng': -43.11238867354342, 'lat': -22.9038478...</td>\n",
              "      <td>3</td>\n",
              "      <td>{'lng': -43.09887838388887, 'lat': -22.8662298...</td>\n",
              "      <td>rj-0</td>\n",
              "      <td>180</td>\n",
              "      <td>-43.112389</td>\n",
              "      <td>-22.903848</td>\n",
              "      <td>10</td>\n",
              "    </tr>\n",
              "    <tr>\n",
              "      <th>61498</th>\n",
              "      <td>83aabb427cf3887a3e7c3fcb2e9d5b9c</td>\n",
              "      <td>{'lng': -42.94709026787224, 'lat': -22.8593214...</td>\n",
              "      <td>4</td>\n",
              "      <td>{'lng': -43.09887838388887, 'lat': -22.8662298...</td>\n",
              "      <td>rj-0</td>\n",
              "      <td>180</td>\n",
              "      <td>-42.947090</td>\n",
              "      <td>-22.859321</td>\n",
              "      <td>10</td>\n",
              "    </tr>\n",
              "    <tr>\n",
              "      <th>73868</th>\n",
              "      <td>cc8841346040f50527f395f083b19a9a</td>\n",
              "      <td>{'lng': -43.04660856528917, 'lat': -22.9658114...</td>\n",
              "      <td>5</td>\n",
              "      <td>{'lng': -43.09887838388887, 'lat': -22.8662298...</td>\n",
              "      <td>rj-0</td>\n",
              "      <td>180</td>\n",
              "      <td>-43.046609</td>\n",
              "      <td>-22.965811</td>\n",
              "      <td>11</td>\n",
              "    </tr>\n",
              "    <tr>\n",
              "      <th>82714</th>\n",
              "      <td>16ccd28bc1d001600ee0f7bceecb34f5</td>\n",
              "      <td>{'lng': -43.0925385280931, 'lat': -22.94842619...</td>\n",
              "      <td>2</td>\n",
              "      <td>{'lng': -43.09887838388887, 'lat': -22.8662298...</td>\n",
              "      <td>rj-0</td>\n",
              "      <td>180</td>\n",
              "      <td>-43.092539</td>\n",
              "      <td>-22.948426</td>\n",
              "      <td>10</td>\n",
              "    </tr>\n",
              "    <tr>\n",
              "      <th>84414</th>\n",
              "      <td>195fedf10f6e2b38313500e20bc90acc</td>\n",
              "      <td>{'lng': -42.93169014849422, 'lat': -22.7841696...</td>\n",
              "      <td>6</td>\n",
              "      <td>{'lng': -43.09887838388887, 'lat': -22.8662298...</td>\n",
              "      <td>rj-0</td>\n",
              "      <td>180</td>\n",
              "      <td>-42.931690</td>\n",
              "      <td>-22.784170</td>\n",
              "      <td>10</td>\n",
              "    </tr>\n",
              "    <tr>\n",
              "      <th>88138</th>\n",
              "      <td>1209e7cb262b54e13379ca3fe8979363</td>\n",
              "      <td>{'lng': -43.01599840150824, 'lat': -22.8279373...</td>\n",
              "      <td>8</td>\n",
              "      <td>{'lng': -43.09887838388887, 'lat': -22.8662298...</td>\n",
              "      <td>rj-0</td>\n",
              "      <td>180</td>\n",
              "      <td>-43.015998</td>\n",
              "      <td>-22.827937</td>\n",
              "      <td>10</td>\n",
              "    </tr>\n",
              "    <tr>\n",
              "      <th>92033</th>\n",
              "      <td>b37bfdfb0c41349ff42436c4caa51551</td>\n",
              "      <td>{'lng': -42.98889004490197, 'lat': -22.8818439...</td>\n",
              "      <td>4</td>\n",
              "      <td>{'lng': -43.09887838388887, 'lat': -22.8662298...</td>\n",
              "      <td>rj-0</td>\n",
              "      <td>180</td>\n",
              "      <td>-42.988890</td>\n",
              "      <td>-22.881844</td>\n",
              "      <td>10</td>\n",
              "    </tr>\n",
              "    <tr>\n",
              "      <th>95259</th>\n",
              "      <td>a309eb22e7fdf0b7839fac43bea52dbd</td>\n",
              "      <td>{'lng': -43.074147619679934, 'lat': -22.839804...</td>\n",
              "      <td>4</td>\n",
              "      <td>{'lng': -43.09887838388887, 'lat': -22.8662298...</td>\n",
              "      <td>rj-0</td>\n",
              "      <td>180</td>\n",
              "      <td>-43.074148</td>\n",
              "      <td>-22.839804</td>\n",
              "      <td>10</td>\n",
              "    </tr>\n",
              "  </tbody>\n",
              "</table>\n",
              "</div>"
            ],
            "text/plain": [
              "                                     id  ... counts\n",
              "142    4b652232fda99f7280ca4224491a598e  ...     10\n",
              "466     7987b3933b062449ac3d0e8d1c15cce  ...     11\n",
              "816    98e3222f3bcda413418362be6f9bc31a  ...     10\n",
              "2803   aeb9c8209dd73364be9ca4825111b7c9  ...     12\n",
              "2876   aca684a242e79fbe6873f4a5b3a21ea1  ...     10\n",
              "3134   55b4faa6bfa48fc31f8ee9dbed3a3711  ...     10\n",
              "5399   fda52b698b65c32ec31869b6fc2629bf  ...     10\n",
              "5918   da24244514bb80e0d00eafc5d72c7556  ...     11\n",
              "13162  743b584f48bf09287874ef95f33475ae  ...     11\n",
              "14450  ade8f9ead2530130dc4e449506232129  ...     10\n",
              "14730  7f067eccafe03b8799a96005935e8d2d  ...     10\n",
              "15576  b49fc4c81b6eb0bbeda5bef4a8177a19  ...     10\n",
              "16410  35cb84cdab7b81c21613a84bc144df86  ...     10\n",
              "16456  48af93fb2a18f408aa2041a8973f0472  ...     10\n",
              "17907  996b39333408e61b513ed08ea7d5e186  ...     10\n",
              "19208  9bef8616ba4e1e98fc608f2623c25bb4  ...     10\n",
              "20021  9b7abbf6ec72641e2e0fb8eaf1ccfa6b  ...     10\n",
              "20450  ffc455422c8f59c7d464489830e8f453  ...     10\n",
              "20617  68ba363c14ea0f8f7487417fd71f5ab0  ...     10\n",
              "23738  728e04a91ab389cd2f57c191f41348a5  ...     11\n",
              "25373  602cada80c0015e64db4b32fe2261723  ...     10\n",
              "26857  a7c9b1a7012b5cb1cc5fc787d5ef6668  ...     11\n",
              "28204  ebd91e65fb44a7951bc35f3800fe5c75  ...     10\n",
              "31063  9dcdc5509194a57d2be198093872cf09  ...     10\n",
              "32090  a413afa1dacb920c7b18b9886d4b8d2c  ...     10\n",
              "33305  6d8f0615b22bbf99d943ebb8015a1c09  ...     10\n",
              "41497  fa94db49b0d60aebc84d5a60e29c5612  ...     12\n",
              "42050  c203a2eb07806eea634bfbee0a46b78e  ...     12\n",
              "43495  de045407f5670378753138d610cf5fbf  ...     10\n",
              "43979  eb0ec48ad151cc12ddfc3efe280869ba  ...     11\n",
              "44471  d033b729f611118657c058a6940ae294  ...     10\n",
              "44857  234b2a1e2f6a01b06a5fba1d41cb846b  ...     10\n",
              "44953  38b539f48c165235ca35f4d7761c614b  ...     10\n",
              "53758   c792808008a3d3f2049d0f6273f6ff5  ...     11\n",
              "55846  739646458abddc22a3eb72dd4cf351a9  ...     10\n",
              "59954  e430abfc2fbab91eceaf1be3814b0c8b  ...     10\n",
              "61498  83aabb427cf3887a3e7c3fcb2e9d5b9c  ...     10\n",
              "73868  cc8841346040f50527f395f083b19a9a  ...     11\n",
              "82714  16ccd28bc1d001600ee0f7bceecb34f5  ...     10\n",
              "84414  195fedf10f6e2b38313500e20bc90acc  ...     10\n",
              "88138  1209e7cb262b54e13379ca3fe8979363  ...     10\n",
              "92033  b37bfdfb0c41349ff42436c4caa51551  ...     10\n",
              "95259  a309eb22e7fdf0b7839fac43bea52dbd  ...     10\n",
              "\n",
              "[43 rows x 9 columns]"
            ]
          },
          "metadata": {
            "tags": []
          },
          "execution_count": 36
        }
      ]
    },
    {
      "cell_type": "code",
      "metadata": {
        "colab": {
          "base_uri": "https://localhost:8080/",
          "height": 556
        },
        "id": "zqqU-yfz5nFy",
        "outputId": "941e2185-bb0c-4963-b590-1848629343c4"
      },
      "source": [
        "# Importando as Bibliotecas \n",
        "import matplotlib.pyplot as plt\n",
        "import seaborn as sns\n",
        "\n",
        "# Gráfico de Dispersão  (Scatterplot)\n",
        "\n",
        "# ---------------------------------------------------------------------------------------\n",
        "#                             Elementos básicos:\n",
        "# ---------------------------------------------------------------------------------------\n",
        "\n",
        "# 1 - Figure e axis\n",
        "# Criando a variável fig e a variável ax   (figura, eixos):\n",
        "fig, ax = plt.subplots(nrows = 1, ncols = 1, figsize=(8,5),       # (largura, altura) em polegadas \n",
        "                       dpi=110)                                   # resolução (pontos/polegada)\n",
        "\n",
        "# 2 - Plot\n",
        "# Gráfico de dispersão - total_bill (x), tip (y) de df1 \n",
        "sns.scatterplot(data = df_ponto, x=\"longitude\", y=\"latitude\",hue = 'counts', linewidth = 0, ax = ax)    # cor opcional\n",
        "\n",
        "\n",
        "# 3 - Título\n",
        "# Inserindo título no nosso eixo ax\n",
        "ax.set_title('Gráfico de Dispersão', color = '#646369',loc='left', pad = 15,fontsize=13, weight='bold')\n",
        "\n",
        "\n",
        "# ---------------------------------------------------------------------------------------\n",
        "#                    Melhorando o aspecto do gráfico:\n",
        "# ---------------------------------------------------------------------------------------\n",
        "\n",
        "# Modificar a cor dos tiques para cinza (colocar uma cor mais clara - chamar menos atenção):\n",
        "ax.tick_params(axis='both', colors = '#646369',labelsize=10)         # modifica a aparência dos ticks, ticks labels e gridlines\n",
        "\n",
        "\n",
        "# Remoção de eixos desnecessários (Closure):\n",
        "ax.spines['right'].set_visible(False)       # deixa invisível os eixos direito\n",
        "ax.spines['top'].set_visible(False)         # deixa invisível os eixos superior\n",
        "\n",
        "# Modificar a cor dos eixos inferior e esquerdo para cinza\n",
        "ax.spines['bottom'].set_color('#646369')       # inferior\n",
        "ax.spines['left'].set_color('#646369')         # esquerdo\n",
        "\n",
        "# Modificar o label\n",
        "ax.set_xlabel('Longitude',color='#646369',fontsize=10,\n",
        "              position=(0, 0), horizontalalignment='left')\n",
        "ax.set_ylabel('Latitude', color='#646369', fontsize=10,\n",
        "              position=(0,1), horizontalalignment='right')"
      ],
      "execution_count": 37,
      "outputs": [
        {
          "output_type": "execute_result",
          "data": {
            "text/plain": [
              "Text(0, 1, 'Latitude')"
            ]
          },
          "metadata": {
            "tags": []
          },
          "execution_count": 37
        },
        {
          "output_type": "display_data",
          "data": {
            "image/png": "[encoded data removed]",
            "text/plain": [
              "<Figure size 880x550 with 1 Axes>"
            ]
          },
          "metadata": {
            "tags": [],
            "needs_background": "light"
          }
        }
      ]
    },
    {
      "cell_type": "markdown",
      "metadata": {
        "id": "Qc_HN23md05-"
      },
      "source": [
        "Explicação do Gráfico: Esses são os pontos que apareceram em 10 instâncias, 11 instâncias e 12 instâncias. Ou seja, os pontos que mais se repetem."
      ]
    },
    {
      "cell_type": "code",
      "metadata": {
        "id": "tGeXe8oBsWWV"
      },
      "source": [
        ""
      ],
      "execution_count": null,
      "outputs": []
    },
    {
      "cell_type": "markdown",
      "metadata": {
        "id": "a5zyhlKbsWhV"
      },
      "source": [
        "#### 2.3 - Avaliando a distribuição da demanda"
      ]
    },
    {
      "cell_type": "code",
      "metadata": {
        "colab": {
          "base_uri": "https://localhost:8080/"
        },
        "id": "Nx5y9cVe75E0",
        "outputId": "f12e2be9-b937-4d3a-8ed9-cddb71d2301a"
      },
      "source": [
        "# resumo estatístico da distribuição da demanda\n",
        "df_rj0_sub1['size'].describe()"
      ],
      "execution_count": 38,
      "outputs": [
        {
          "output_type": "execute_result",
          "data": {
            "text/plain": [
              "count    131871.000000\n",
              "mean          5.501786\n",
              "std           2.868310\n",
              "min           1.000000\n",
              "25%           3.000000\n",
              "50%           5.000000\n",
              "75%           8.000000\n",
              "max          10.000000\n",
              "Name: size, dtype: float64"
            ]
          },
          "metadata": {
            "tags": []
          },
          "execution_count": 38
        }
      ]
    },
    {
      "cell_type": "code",
      "metadata": {
        "colab": {
          "base_uri": "https://localhost:8080/"
        },
        "id": "XM4AhTby1Otn",
        "outputId": "350c0461-8712-4d5a-ca67-583a2731bdc5"
      },
      "source": [
        "# tipos de variáveis de cada coluna\n",
        "df_rj0_sub1.dtypes"
      ],
      "execution_count": 39,
      "outputs": [
        {
          "output_type": "execute_result",
          "data": {
            "text/plain": [
              "id                   object\n",
              "point                object\n",
              "size                  int64\n",
              "origin               object\n",
              "region               object\n",
              "vehicle_capacity      int64\n",
              "longitude           float64\n",
              "latitude            float64\n",
              "counts                int64\n",
              "dtype: object"
            ]
          },
          "metadata": {
            "tags": []
          },
          "execution_count": 39
        }
      ]
    },
    {
      "cell_type": "markdown",
      "metadata": {
        "id": "9XGDn6oz38kr"
      },
      "source": [
        "Perceber que size (a demanda de cada ponto) é inteiro"
      ]
    },
    {
      "cell_type": "code",
      "metadata": {
        "colab": {
          "base_uri": "https://localhost:8080/",
          "height": 345
        },
        "id": "82NDspgn4D4f",
        "outputId": "134072bc-bea9-498c-ec10-4c2ebc1bfaf1"
      },
      "source": [
        "# Quais os valores de demandas que temos?\n",
        "df_demanda = pd.DataFrame(df_rj0_sub1['size'].value_counts())\n",
        "df_demanda['porcentagem'] = round(100*df_demanda['size']/df_demanda['size'].sum(),2)      # adicionando a coluna porcentagem\n",
        "df_demanda = df_demanda.sort_index()    # ordenando o index pela ordem crescente\n",
        "df_demanda"
      ],
      "execution_count": 40,
      "outputs": [
        {
          "output_type": "execute_result",
          "data": {
            "text/html": [
              "<div>\n",
              "<style scoped>\n",
              "    .dataframe tbody tr th:only-of-type {\n",
              "        vertical-align: middle;\n",
              "    }\n",
              "\n",
              "    .dataframe tbody tr th {\n",
              "        vertical-align: top;\n",
              "    }\n",
              "\n",
              "    .dataframe thead th {\n",
              "        text-align: right;\n",
              "    }\n",
              "</style>\n",
              "<table border=\"1\" class=\"dataframe\">\n",
              "  <thead>\n",
              "    <tr style=\"text-align: right;\">\n",
              "      <th></th>\n",
              "      <th>size</th>\n",
              "      <th>porcentagem</th>\n",
              "    </tr>\n",
              "  </thead>\n",
              "  <tbody>\n",
              "    <tr>\n",
              "      <th>1</th>\n",
              "      <td>12978</td>\n",
              "      <td>9.84</td>\n",
              "    </tr>\n",
              "    <tr>\n",
              "      <th>2</th>\n",
              "      <td>13395</td>\n",
              "      <td>10.16</td>\n",
              "    </tr>\n",
              "    <tr>\n",
              "      <th>3</th>\n",
              "      <td>13082</td>\n",
              "      <td>9.92</td>\n",
              "    </tr>\n",
              "    <tr>\n",
              "      <th>4</th>\n",
              "      <td>13182</td>\n",
              "      <td>10.00</td>\n",
              "    </tr>\n",
              "    <tr>\n",
              "      <th>5</th>\n",
              "      <td>13346</td>\n",
              "      <td>10.12</td>\n",
              "    </tr>\n",
              "    <tr>\n",
              "      <th>6</th>\n",
              "      <td>13170</td>\n",
              "      <td>9.99</td>\n",
              "    </tr>\n",
              "    <tr>\n",
              "      <th>7</th>\n",
              "      <td>13222</td>\n",
              "      <td>10.03</td>\n",
              "    </tr>\n",
              "    <tr>\n",
              "      <th>8</th>\n",
              "      <td>13137</td>\n",
              "      <td>9.96</td>\n",
              "    </tr>\n",
              "    <tr>\n",
              "      <th>9</th>\n",
              "      <td>13206</td>\n",
              "      <td>10.01</td>\n",
              "    </tr>\n",
              "    <tr>\n",
              "      <th>10</th>\n",
              "      <td>13153</td>\n",
              "      <td>9.97</td>\n",
              "    </tr>\n",
              "  </tbody>\n",
              "</table>\n",
              "</div>"
            ],
            "text/plain": [
              "     size  porcentagem\n",
              "1   12978         9.84\n",
              "2   13395        10.16\n",
              "3   13082         9.92\n",
              "4   13182        10.00\n",
              "5   13346        10.12\n",
              "6   13170         9.99\n",
              "7   13222        10.03\n",
              "8   13137         9.96\n",
              "9   13206        10.01\n",
              "10  13153         9.97"
            ]
          },
          "metadata": {
            "tags": []
          },
          "execution_count": 40
        }
      ]
    },
    {
      "cell_type": "markdown",
      "metadata": {
        "id": "OuSRirAH5WiB"
      },
      "source": [
        "Criando um gráfico para mostrar a quantidade de vezes que cada demanda vai aparecer"
      ]
    },
    {
      "cell_type": "code",
      "metadata": {
        "colab": {
          "base_uri": "https://localhost:8080/",
          "height": 460
        },
        "id": "iOqVQN5ZvoGZ",
        "outputId": "5e082ac7-56c8-4d7b-9a1a-ccf67fcd32a2"
      },
      "source": [
        "# Criando uma figure, axes\n",
        "fig, ax = plt.subplots(nrows = 1, ncols = 1, figsize=(6,4),       # (largura, altura) em polegadas \n",
        "                       dpi=110)                                   # resolução (pontos/polegada)\n",
        "\n",
        "# Criando o gráfico de barras \n",
        "sns.barplot(x = df_demanda.index, y = df_demanda['porcentagem'], ax=ax, color = '#4A81BF',data=df_demanda)\n",
        "\n",
        "\n",
        "# Remover/tirar o destaque das linhas\n",
        "\n",
        "# Deixar invisível os eixos superior e direito\n",
        "ax.spines['right'].set_visible(False)\n",
        "ax.spines['top'].set_visible(False)\n",
        "\n",
        "# Modificar a cor dos eixos inferior e esquerdo para cinza\n",
        "ax.spines['bottom'].set_color('#BFBEBE')\n",
        "ax.spines['left'].set_color('#BFBEBE')\n",
        "\n",
        "# --------------- REPETINDO O PROCESSO ------------------------------\n",
        "#Título -> notar que o título não está alinhado com o eixo\n",
        "ax.set_title('Porcentagem do tamanho da demanda', color = '#414040',loc='left', fontsize=14)\n",
        "\n",
        "# Alinhar o texto\n",
        "#ax.text(x= -1.5,y = 1650, s = 'Quantidade de itens vendidos por setor em 2017',color = '#929497',fontsize=14)\n",
        "\n",
        "# Modificar a cor dos tiques para cinza (colocar uma cor menos intensa)\n",
        "ax.tick_params(axis='both', colors ='#76787B',labelsize=10)         # modifica a aparência dos ticks, ticks labels e gridlines \n",
        "\n",
        "\n",
        "# Adicionar o label\n",
        "ax.set_xlabel('Tamanho da Demanda',color='#76787B')\n",
        "ax.set_ylabel('Porcentagem (%)',color='#76787B',fontsize=12)"
      ],
      "execution_count": 41,
      "outputs": [
        {
          "output_type": "execute_result",
          "data": {
            "text/plain": [
              "Text(0, 0.5, 'Porcentagem (%)')"
            ]
          },
          "metadata": {
            "tags": []
          },
          "execution_count": 41
        },
        {
          "output_type": "display_data",
          "data": {
            "image/png": "[encoded data removed]",
            "text/plain": [
              "<Figure size 660x440 with 1 Axes>"
            ]
          },
          "metadata": {
            "tags": [],
            "needs_background": "light"
          }
        }
      ]
    },
    {
      "cell_type": "markdown",
      "metadata": {
        "id": "9OAUAs-f5-En"
      },
      "source": [
        "Olhando o gráfico, podemos dizer que temos uma distribuição discreta uniforme do tamanho da demanda. "
      ]
    },
    {
      "cell_type": "code",
      "metadata": {
        "id": "6M_6woye6EzS"
      },
      "source": [
        ""
      ],
      "execution_count": null,
      "outputs": []
    },
    {
      "cell_type": "markdown",
      "metadata": {
        "id": "Nzvwv2ktzN2E"
      },
      "source": [
        "### 3 - Gerador de subinstâncias"
      ]
    },
    {
      "cell_type": "code",
      "metadata": {
        "id": "W9_VRMGx0aTU"
      },
      "source": [
        "# Entradas:\n",
        "\n",
        "## Demandas:\n",
        "demandas = df_rj0_sub1['size'].unique()       # valores da demanda\n",
        "d_min = demandas.min()\n",
        "d_max = demandas.max() + 1\n",
        "\n",
        "## Tamanho da Instância\n",
        "tamanho_inst = 500  "
      ],
      "execution_count": 42,
      "outputs": []
    },
    {
      "cell_type": "markdown",
      "metadata": {
        "id": "Bp8d9SnPgw0x"
      },
      "source": [
        "#### 3.1 - Geração das demandas aleatórias dos Pontos"
      ]
    },
    {
      "cell_type": "code",
      "metadata": {
        "colab": {
          "base_uri": "https://localhost:8080/"
        },
        "id": "b9dZT6VNzRtn",
        "outputId": "b3cd1529-aa8a-4187-b862-583bd33bfbdc"
      },
      "source": [
        "# Parte 1 - Geração das demandas aleatórias dos Pontos\n",
        "import numpy as np\n",
        "np.random.seed(seed=0)\n",
        "dem_aleatorias = np.random.randint(low = d_min, high = d_max, size = tamanho_inst)   # Return random integers from low (inclusive) to high (exclusive)\n",
        "dem_aleatorias"
      ],
      "execution_count": 43,
      "outputs": [
        {
          "output_type": "execute_result",
          "data": {
            "text/plain": [
              "array([ 6,  1,  4,  4,  8, 10,  4,  6,  3,  5,  8,  7,  9,  9,  2,  7,  8,\n",
              "        8,  9,  2,  6, 10,  9, 10,  5,  4,  1,  4,  6,  1,  3,  4,  9,  2,\n",
              "        4,  4,  4,  8,  1,  2, 10, 10,  1,  5,  8,  4,  3,  8,  3,  1,  1,\n",
              "        5,  6,  6,  7,  9,  5,  2,  5, 10,  9,  2,  2,  8, 10, 10,  4,  7,\n",
              "        8,  3,  1,  4,  6, 10,  5,  5,  7,  5,  5,  4,  5,  5,  9,  5,  4,\n",
              "        8,  6,  6,  1,  2,  6, 10,  4,  1,  6,  1,  2,  3,  5,  3,  1,  4,\n",
              "        3,  1,  8,  6, 10,  1,  3,  8,  3, 10,  3,  4,  4,  3,  4,  5,  2,\n",
              "        3, 10,  2,  5,  7,  9,  3,  4,  1,  1,  7,  1,  7,  4,  4,  9,  9,\n",
              "        9,  3,  4,  3,  1,  9,  9,  4,  9,  3,  9,  5,  4,  1,  5,  4,  7,\n",
              "       10,  9,  1,  9,  6, 10,  1, 10,  7,  6,  4,  2,  9,  1,  5, 10,  7,\n",
              "        6,  8,  9,  9, 10,  3,  9,  7,  7, 10,  2,  7,  9,  9,  4,  3,  4,\n",
              "        7,  4,  7,  6,  8,  1,  9,  5,  7,  6,  9,  3,  4, 10,  8,  6,  4,\n",
              "        5,  6,  4,  4,  8, 10, 10, 10,  8,  4,  3,  4, 10,  8,  8,  6,  2,\n",
              "        3,  3,  9,  2,  6,  9,  5,  1,  3,  6,  6,  1,  9,  2,  2,  1,  4,\n",
              "        9,  9,  5,  5,  1, 10,  4,  8,  4,  3,  2,  2,  3,  2,  5,  3,  6,\n",
              "        6,  6,  3,  6,  8,  8,  7,  2,  7,  8,  3,  4,  2, 10,  6, 10, 10,\n",
              "        3,  1, 10,  2, 10,  1,  7,  1,  5,  9,  5,  4,  4,  9,  9,  8,  1,\n",
              "        4,  9,  8,  8,  2,  9,  5,  8,  1,  5, 10,  1,  7,  5,  3,  5,  7,\n",
              "        4,  4,  8,  9,  6,  1,  9,  6,  5,  8,  5,  2,  4,  4, 10,  3,  6,\n",
              "        3,  4,  6,  8,  3,  8,  2,  7,  6,  1,  1,  4,  2, 10, 10,  7,  7,\n",
              "        8,  9,  9,  8,  1,  9,  7,  9, 10,  9,  4,  7,  2,  8,  5, 10,  3,\n",
              "        1,  9,  3,  8,  9,  5,  5,  2,  8,  7, 10,  5,  2,  6, 10,  8,  2,\n",
              "        4,  6,  8,  4,  7,  7,  8, 10,  2, 10,  7,  1,  4,  9,  5,  2,  5,\n",
              "        6,  1,  4,  2,  5,  5,  5,  1,  1,  9,  5,  7, 10,  4,  4,  3,  2,\n",
              "        3,  2,  4,  5,  2,  2,  1,  8,  9,  5,  4,  6,  7,  4,  3, 10,  9,\n",
              "        2,  5,  1,  9,  4, 10,  6,  6,  2,  8,  9,  7,  5,  8,  4,  6,  4,\n",
              "        7,  5,  8,  4,  1,  6, 10,  4,  8,  6,  6,  9,  1,  9,  4,  7, 10,\n",
              "        4,  3,  8,  1,  4,  1,  4,  7,  2, 10,  3, 10,  5, 10,  2,  4,  3,\n",
              "        5, 10,  8,  5, 10,  5,  2,  3,  8,  3,  4, 10,  8,  7,  7,  3,  4,\n",
              "        7,  1,  9,  1,  8,  7,  6])"
            ]
          },
          "metadata": {
            "tags": []
          },
          "execution_count": 43
        }
      ]
    },
    {
      "cell_type": "markdown",
      "metadata": {
        "id": "fkztaCd4g4Di"
      },
      "source": [
        "#### 3.2 - Seleção dos pontos de entrega de forma aleatória"
      ]
    },
    {
      "cell_type": "code",
      "metadata": {
        "id": "Cgy7Envo4kEo",
        "colab": {
          "base_uri": "https://localhost:8080/",
          "height": 196
        },
        "outputId": "ed7e2d2a-d74a-4720-dc2f-d77dc47058b6"
      },
      "source": [
        "# Parte 2 - Seleção dos pontos de entrega de forma aleatória\n",
        "\n",
        "# 2.1 - selecionando os pontos e suas probabilidades\n",
        "valores  = df_rj0['point'].value_counts()   # quantidade de vezes que os pontos aparecem\n",
        "pontos = pd.DataFrame(valores)              # passando para dataframe\n",
        "pontos['prob'] = pontos['point']/pontos['point'].sum()       # probabilidade de ocorrência de cada ponto\n",
        "pontos.head(5)"
      ],
      "execution_count": 45,
      "outputs": [
        {
          "output_type": "execute_result",
          "data": {
            "text/html": [
              "<div>\n",
              "<style scoped>\n",
              "    .dataframe tbody tr th:only-of-type {\n",
              "        vertical-align: middle;\n",
              "    }\n",
              "\n",
              "    .dataframe tbody tr th {\n",
              "        vertical-align: top;\n",
              "    }\n",
              "\n",
              "    .dataframe thead th {\n",
              "        text-align: right;\n",
              "    }\n",
              "</style>\n",
              "<table border=\"1\" class=\"dataframe\">\n",
              "  <thead>\n",
              "    <tr style=\"text-align: right;\">\n",
              "      <th></th>\n",
              "      <th>point</th>\n",
              "      <th>prob</th>\n",
              "    </tr>\n",
              "  </thead>\n",
              "  <tbody>\n",
              "    <tr>\n",
              "      <th>{'lng': -43.094973721097105, 'lat': -22.881007461621657}</th>\n",
              "      <td>12</td>\n",
              "      <td>0.000033</td>\n",
              "    </tr>\n",
              "    <tr>\n",
              "      <th>{'lng': -43.01700691830846, 'lat': -22.845804713277975}</th>\n",
              "      <td>12</td>\n",
              "      <td>0.000033</td>\n",
              "    </tr>\n",
              "    <tr>\n",
              "      <th>{'lng': -43.065992781910666, 'lat': -22.887630632019555}</th>\n",
              "      <td>12</td>\n",
              "      <td>0.000033</td>\n",
              "    </tr>\n",
              "    <tr>\n",
              "      <th>{'lng': -43.08781988907568, 'lat': -22.880493577725904}</th>\n",
              "      <td>11</td>\n",
              "      <td>0.000030</td>\n",
              "    </tr>\n",
              "    <tr>\n",
              "      <th>{'lng': -43.075194298933766, 'lat': -22.852413982571115}</th>\n",
              "      <td>11</td>\n",
              "      <td>0.000030</td>\n",
              "    </tr>\n",
              "  </tbody>\n",
              "</table>\n",
              "</div>"
            ],
            "text/plain": [
              "                                                    point      prob\n",
              "{'lng': -43.094973721097105, 'lat': -22.8810074...     12  0.000033\n",
              "{'lng': -43.01700691830846, 'lat': -22.84580471...     12  0.000033\n",
              "{'lng': -43.065992781910666, 'lat': -22.8876306...     12  0.000033\n",
              "{'lng': -43.08781988907568, 'lat': -22.88049357...     11  0.000030\n",
              "{'lng': -43.075194298933766, 'lat': -22.8524139...     11  0.000030"
            ]
          },
          "metadata": {
            "tags": []
          },
          "execution_count": 45
        }
      ]
    },
    {
      "cell_type": "code",
      "metadata": {
        "id": "4Z33IuHu5pmj"
      },
      "source": [
        "prob = pontos['prob'].values      # probabilidade de ocorrência do ponto\n",
        "local = pontos.index.values       # pontos de entrega escolhidos"
      ],
      "execution_count": 46,
      "outputs": []
    },
    {
      "cell_type": "code",
      "metadata": {
        "colab": {
          "base_uri": "https://localhost:8080/"
        },
        "id": "1-OpwMqD1cQ8",
        "outputId": "6b60a412-5449-4c46-9598-56e860801b8b"
      },
      "source": [
        "# Escolha Aleatória dos pontos  \n",
        "np.random.seed(seed=0)\n",
        "rotas_inst = np.random.choice(a = local, size = tamanho_inst, replace = False, p = prob)   # Generates a random sample from a given 1-D array\n",
        "rotas_inst"
      ],
      "execution_count": 47,
      "outputs": [
        {
          "output_type": "execute_result",
          "data": {
            "text/plain": [
              "array([\"{'lng': -43.0874742824141, 'lat': -22.88578511148281}\",\n",
              "       \"{'lng': -43.05445438655888, 'lat': -22.944565501165275}\",\n",
              "       \"{'lng': -43.08268492983951, 'lat': -22.953660376624615}\",\n",
              "       \"{'lng': -43.101672117037275, 'lat': -22.862892503432423}\",\n",
              "       \"{'lng': -43.016917841526, 'lat': -22.81201014145326}\",\n",
              "       \"{'lng': -42.97297697245905, 'lat': -22.8856672586525}\",\n",
              "       \"{'lng': -43.01550717187334, 'lat': -22.8346213476799}\",\n",
              "       \"{'lng': -43.04164003213277, 'lat': -22.819606672973862}\",\n",
              "       \"{'lng': -42.87706835424294, 'lat': -22.784284987600543}\",\n",
              "       \"{'lng': -42.9924359593385, 'lat': -22.815245801390983}\",\n",
              "       \"{'lng': -43.11063559239027, 'lat': -22.897807700317287}\",\n",
              "       \"{'lng': -43.10164490601015, 'lat': -22.90973794720474}\",\n",
              "       \"{'lng': -42.86403778096802, 'lat': -22.782257792659223}\",\n",
              "       \"{'lng': -43.01953830887621, 'lat': -22.93528692727839}\",\n",
              "       \"{'lng': -42.98344569912169, 'lat': -22.779602235174455}\",\n",
              "       \"{'lng': -43.11409938409257, 'lat': -22.902497930063127}\",\n",
              "       \"{'lng': -43.12854906520468, 'lat': -22.898901185064716}\",\n",
              "       \"{'lng': -43.02763570998403, 'lat': -22.810914974844955}\",\n",
              "       \"{'lng': -43.01840171867249, 'lat': -22.82111193212156}\",\n",
              "       \"{'lng': -43.019754581424365, 'lat': -22.75049105934974}\",\n",
              "       \"{'lng': -43.1219640383379, 'lat': -22.90520256286262}\",\n",
              "       \"{'lng': -42.98957489103304, 'lat': -22.796084913137378}\",\n",
              "       \"{'lng': -43.12055390225371, 'lat': -22.905420719052486}\",\n",
              "       \"{'lng': -43.012309659304144, 'lat': -22.94313772166196}\",\n",
              "       \"{'lng': -43.08987418076527, 'lat': -22.920838436584184}\",\n",
              "       \"{'lng': -43.109290254708135, 'lat': -22.911200310255357}\",\n",
              "       \"{'lng': -43.12008574160041, 'lat': -22.889893968411407}\",\n",
              "       \"{'lng': -43.006989527510086, 'lat': -22.853196953517998}\",\n",
              "       \"{'lng': -43.11144262355065, 'lat': -22.90809684393727}\",\n",
              "       \"{'lng': -43.09412569651748, 'lat': -22.92519750669254}\",\n",
              "       \"{'lng': -43.00450044325385, 'lat': -22.81687169443466}\",\n",
              "       \"{'lng': -43.10481614402947, 'lat': -22.906989987393636}\",\n",
              "       \"{'lng': -43.0835586388864, 'lat': -22.94806466178781}\",\n",
              "       \"{'lng': -43.10398789480155, 'lat': -22.9074468803348}\",\n",
              "       \"{'lng': -43.115015988078994, 'lat': -22.903030860566826}\",\n",
              "       \"{'lng': -42.83755730432085, 'lat': -22.736326334865165}\",\n",
              "       \"{'lng': -43.017346635338505, 'lat': -22.81687168649687}\",\n",
              "       \"{'lng': -43.03591956569906, 'lat': -22.943377338327043}\",\n",
              "       \"{'lng': -43.034651475984845, 'lat': -22.81666598064595}\",\n",
              "       \"{'lng': -43.08837120242319, 'lat': -22.90326831385345}\",\n",
              "       \"{'lng': -43.01923506117564, 'lat': -22.796286221190016}\",\n",
              "       \"{'lng': -43.09546983920077, 'lat': -22.863942653157306}\",\n",
              "       \"{'lng': -43.10731880446457, 'lat': -22.89596451625509}\",\n",
              "       \"{'lng': -42.92674239110825, 'lat': -22.78416435281169}\",\n",
              "       \"{'lng': -42.940066592875716, 'lat': -22.76991361591925}\",\n",
              "       \"{'lng': -43.08254938294688, 'lat': -22.85119114114451}\",\n",
              "       \"{'lng': -42.9672958809168, 'lat': -22.81836756450304}\",\n",
              "       \"{'lng': -43.09941641968531, 'lat': -22.90222987390555}\",\n",
              "       \"{'lng': -43.10642830835161, 'lat': -22.9065755637928}\",\n",
              "       \"{'lng': -43.028546351519495, 'lat': -22.946994836779965}\",\n",
              "       \"{'lng': -43.096411978931414, 'lat': -22.87805795877126}\",\n",
              "       \"{'lng': -43.11577265582889, 'lat': -22.903650702276995}\",\n",
              "       \"{'lng': -43.100948326076825, 'lat': -22.878568980508074}\",\n",
              "       \"{'lng': -43.02061598749145, 'lat': -22.81809569457711}\",\n",
              "       \"{'lng': -43.09879926394629, 'lat': -22.902539636019984}\",\n",
              "       \"{'lng': -43.117074345899645, 'lat': -22.903591962676245}\",\n",
              "       \"{'lng': -43.092169157473954, 'lat': -22.923353686011215}\",\n",
              "       \"{'lng': -43.02135484035057, 'lat': -22.81327527083145}\",\n",
              "       \"{'lng': -43.09902725073268, 'lat': -22.895088724828234}\",\n",
              "       \"{'lng': -43.010021352548655, 'lat': -22.807675030422118}\",\n",
              "       \"{'lng': -43.0463045168754, 'lat': -22.83676996700226}\",\n",
              "       \"{'lng': -43.105283467034575, 'lat': -22.901989257382983}\",\n",
              "       \"{'lng': -43.085815942173284, 'lat': -22.847683367225823}\",\n",
              "       \"{'lng': -43.03690620710306, 'lat': -22.942267396572483}\",\n",
              "       \"{'lng': -42.98978722687233, 'lat': -22.812787319382576}\",\n",
              "       \"{'lng': -43.1138953366822, 'lat': -22.901792765102268}\",\n",
              "       \"{'lng': -43.030727930235344, 'lat': -22.81341230139158}\",\n",
              "       \"{'lng': -43.02737803177671, 'lat': -22.94671528666907}\",\n",
              "       \"{'lng': -43.00514370653963, 'lat': -22.842208084784403}\",\n",
              "       \"{'lng': -43.07176311530136, 'lat': -22.824721711732096}\",\n",
              "       \"{'lng': -43.07398530296205, 'lat': -22.843416864754342}\",\n",
              "       \"{'lng': -43.01506153372728, 'lat': -22.82658112372976}\",\n",
              "       \"{'lng': -43.07693335884991, 'lat': -22.880868722996002}\",\n",
              "       \"{'lng': -43.056628134442306, 'lat': -22.827249761661005}\",\n",
              "       \"{'lng': -43.11266238468925, 'lat': -22.90368353110329}\",\n",
              "       \"{'lng': -43.1178354180829, 'lat': -22.903536063337526}\",\n",
              "       \"{'lng': -43.01878634545554, 'lat': -22.811352417316098}\",\n",
              "       \"{'lng': -43.104531960698914, 'lat': -22.905897529399606}\",\n",
              "       \"{'lng': -43.09997760803787, 'lat': -22.87919030557485}\",\n",
              "       \"{'lng': -43.04952003243746, 'lat': -22.815370267715906}\",\n",
              "       \"{'lng': -43.019941602066964, 'lat': -22.81977253270354}\",\n",
              "       \"{'lng': -43.104987994922034, 'lat': -22.90736765769238}\",\n",
              "       \"{'lng': -43.11865922113198, 'lat': -22.904717848644566}\",\n",
              "       \"{'lng': -43.06344759026243, 'lat': -22.844121915221407}\",\n",
              "       \"{'lng': -43.062537790498084, 'lat': -22.83704296232945}\",\n",
              "       \"{'lng': -43.10570723479141, 'lat': -22.911415920198802}\",\n",
              "       \"{'lng': -43.08492498860028, 'lat': -22.827210493725975}\",\n",
              "       \"{'lng': -43.121121555286564, 'lat': -22.89760614951723}\",\n",
              "       \"{'lng': -43.08377249049015, 'lat': -22.883160449165338}\",\n",
              "       \"{'lng': -42.98407377302847, 'lat': -22.79443302276449}\",\n",
              "       \"{'lng': -43.11917495800275, 'lat': -22.904510715400768}\",\n",
              "       \"{'lng': -43.02914914764708, 'lat': -22.976317641409313}\",\n",
              "       \"{'lng': -43.09916453946059, 'lat': -22.8927527422399}\",\n",
              "       \"{'lng': -43.01575885445608, 'lat': -22.796255815110783}\",\n",
              "       \"{'lng': -43.11203997804731, 'lat': -22.90313603818811}\",\n",
              "       \"{'lng': -43.076514998137164, 'lat': -22.826579621952718}\",\n",
              "       \"{'lng': -43.12178037153879, 'lat': -22.902590023343254}\",\n",
              "       \"{'lng': -43.08660144164038, 'lat': -22.849233313053386}\",\n",
              "       \"{'lng': -43.084292498736616, 'lat': -22.882768913681637}\",\n",
              "       \"{'lng': -43.131797007717495, 'lat': -22.90706389207739}\",\n",
              "       \"{'lng': -43.09158411282543, 'lat': -22.893067116083}\",\n",
              "       \"{'lng': -43.093374988268835, 'lat': -22.828357648717553}\",\n",
              "       \"{'lng': -43.02519300068224, 'lat': -22.96180770049055}\",\n",
              "       \"{'lng': -43.04792802129881, 'lat': -22.817524205567818}\",\n",
              "       \"{'lng': -42.933696414646825, 'lat': -22.765505151312883}\",\n",
              "       \"{'lng': -43.082402379056006, 'lat': -22.823741953924067}\",\n",
              "       \"{'lng': -42.97205444703098, 'lat': -22.792809692414874}\",\n",
              "       \"{'lng': -43.106335741520205, 'lat': -22.912271623073696}\",\n",
              "       \"{'lng': -43.06159567588247, 'lat': -22.82539692809383}\",\n",
              "       \"{'lng': -43.089070745580976, 'lat': -22.86451263317258}\",\n",
              "       \"{'lng': -42.995172088574755, 'lat': -22.833487810542774}\",\n",
              "       \"{'lng': -43.029635345207296, 'lat': -22.959656506735}\",\n",
              "       \"{'lng': -43.09619189217424, 'lat': -22.879340768967936}\",\n",
              "       \"{'lng': -43.100028104043304, 'lat': -22.897938832867293}\",\n",
              "       \"{'lng': -43.10389725040952, 'lat': -22.902479703917056}\",\n",
              "       \"{'lng': -43.08389102179475, 'lat': -22.878404168625867}\",\n",
              "       \"{'lng': -43.07630474037073, 'lat': -22.820560362155963}\",\n",
              "       \"{'lng': -43.11022321123232, 'lat': -22.908452320903425}\",\n",
              "       \"{'lng': -43.102819343912266, 'lat': -22.901533298242178}\",\n",
              "       \"{'lng': -43.02289741472029, 'lat': -22.791420982438005}\",\n",
              "       \"{'lng': -42.964838087154575, 'lat': -22.830085298000217}\",\n",
              "       \"{'lng': -43.01243927309527, 'lat': -22.850663590284082}\",\n",
              "       \"{'lng': -43.02488514069111, 'lat': -22.79823991511556}\",\n",
              "       \"{'lng': -43.00243568026297, 'lat': -22.811630820715724}\",\n",
              "       \"{'lng': -43.093024995549435, 'lat': -22.954259992034856}\",\n",
              "       \"{'lng': -43.09524360303133, 'lat': -22.890734919668738}\",\n",
              "       \"{'lng': -43.023788496800925, 'lat': -22.781889924335836}\",\n",
              "       \"{'lng': -43.11407990358221, 'lat': -22.90562653414222}\",\n",
              "       \"{'lng': -43.055174467113304, 'lat': -22.882514862269538}\",\n",
              "       \"{'lng': -42.93993150563783, 'lat': -22.796231223681012}\",\n",
              "       \"{'lng': -43.09701265140323, 'lat': -22.902378899817126}\",\n",
              "       \"{'lng': -42.94337845736042, 'lat': -22.854341559552665}\",\n",
              "       \"{'lng': -43.01242501654067, 'lat': -22.836888242447934}\",\n",
              "       \"{'lng': -43.0124529778596, 'lat': -22.844444693174356}\",\n",
              "       \"{'lng': -43.07541736037204, 'lat': -22.901235426949142}\",\n",
              "       \"{'lng': -43.045120271127516, 'lat': -22.94210688417152}\",\n",
              "       \"{'lng': -42.999357382293596, 'lat': -22.803022193895732}\",\n",
              "       \"{'lng': -43.08992425667171, 'lat': -22.91822822776825}\",\n",
              "       \"{'lng': -43.02494728331225, 'lat': -22.828929645070758}\",\n",
              "       \"{'lng': -43.11630680646274, 'lat': -22.904637177699}\",\n",
              "       \"{'lng': -42.97706107979924, 'lat': -22.810658994779097}\",\n",
              "       \"{'lng': -43.1088135828964, 'lat': -22.87432107839615}\",\n",
              "       \"{'lng': -43.05877621543263, 'lat': -22.78182200883629}\",\n",
              "       \"{'lng': -43.051137710478024, 'lat': -22.78241024697549}\",\n",
              "       \"{'lng': -43.078603735055445, 'lat': -22.848862850094953}\",\n",
              "       \"{'lng': -43.10367585493178, 'lat': -22.90420037535615}\",\n",
              "       \"{'lng': -42.997023909169016, 'lat': -22.887560155207954}\",\n",
              "       \"{'lng': -43.01750226113628, 'lat': -22.79492120395555}\",\n",
              "       \"{'lng': -42.989761477510996, 'lat': -22.827645645684843}\",\n",
              "       \"{'lng': -43.08413406898457, 'lat': -22.89182515063655}\",\n",
              "       \"{'lng': -43.039154000847724, 'lat': -22.81717577515773}\",\n",
              "       \"{'lng': -43.07931490522936, 'lat': -22.87756213096164}\",\n",
              "       \"{'lng': -43.118403480326506, 'lat': -22.87129610501257}\",\n",
              "       \"{'lng': -43.10812069672121, 'lat': -22.910229527140068}\",\n",
              "       \"{'lng': -42.94434606747965, 'lat': -22.736232638308906}\",\n",
              "       \"{'lng': -42.99313857920014, 'lat': -22.79358038138118}\",\n",
              "       \"{'lng': -43.11351498101346, 'lat': -22.904534312037782}\",\n",
              "       \"{'lng': -43.09247630782917, 'lat': -22.9237682427974}\",\n",
              "       \"{'lng': -43.04288162275174, 'lat': -22.81759142123772}\",\n",
              "       \"{'lng': -43.02636693165141, 'lat': -22.944277190227872}\",\n",
              "       \"{'lng': -43.06492925438437, 'lat': -22.809153161387517}\",\n",
              "       \"{'lng': -43.123887297047816, 'lat': -22.90132146743049}\",\n",
              "       \"{'lng': -42.96220152910745, 'lat': -22.839598835032877}\",\n",
              "       \"{'lng': -43.02812179454402, 'lat': -22.872691851643967}\",\n",
              "       \"{'lng': -43.05966533498217, 'lat': -22.887303757445245}\",\n",
              "       \"{'lng': -43.07654217016657, 'lat': -22.847768129367996}\",\n",
              "       \"{'lng': -43.05169974903483, 'lat': -22.826574103273703}\",\n",
              "       \"{'lng': -43.088743519654805, 'lat': -22.908807039608483}\",\n",
              "       \"{'lng': -42.988313265549195, 'lat': -22.8867311993524}\",\n",
              "       \"{'lng': -43.03163845644832, 'lat': -22.87764983810531}\",\n",
              "       \"{'lng': -43.06776975192618, 'lat': -22.933695884972707}\",\n",
              "       \"{'lng': -43.087616122793214, 'lat': -22.860755923918592}\",\n",
              "       \"{'lng': -43.012875236429686, 'lat': -22.827857393386584}\",\n",
              "       \"{'lng': -42.93526092696033, 'lat': -22.7668772738545}\",\n",
              "       \"{'lng': -43.072978805214085, 'lat': -22.828805730185323}\",\n",
              "       \"{'lng': -43.125576991388115, 'lat': -22.903118835188398}\",\n",
              "       \"{'lng': -43.10296402579243, 'lat': -22.9009364391802}\",\n",
              "       \"{'lng': -43.074996372540056, 'lat': -22.937058370588424}\",\n",
              "       \"{'lng': -43.09929973562898, 'lat': -22.89259671366176}\",\n",
              "       \"{'lng': -42.99443156313409, 'lat': -22.8121703540417}\",\n",
              "       \"{'lng': -43.05742850217873, 'lat': -22.94910504698784}\",\n",
              "       \"{'lng': -42.87797204877933, 'lat': -22.699918051264028}\",\n",
              "       \"{'lng': -43.09844868442053, 'lat': -22.904609589676408}\",\n",
              "       \"{'lng': -42.980627808377506, 'lat': -22.82253777771877}\",\n",
              "       \"{'lng': -43.12564865731406, 'lat': -22.90032206143382}\",\n",
              "       \"{'lng': -43.05079665777955, 'lat': -22.82396937049611}\",\n",
              "       \"{'lng': -43.028240950974165, 'lat': -22.951940259837503}\",\n",
              "       \"{'lng': -43.01097402571069, 'lat': -22.818354973693307}\",\n",
              "       \"{'lng': -42.97133552915609, 'lat': -22.82694388269249}\",\n",
              "       \"{'lng': -43.08795777685626, 'lat': -22.906078627476116}\",\n",
              "       \"{'lng': -43.10949911180029, 'lat': -22.906117391912755}\",\n",
              "       \"{'lng': -43.088622404789, 'lat': -22.90631548242376}\",\n",
              "       \"{'lng': -43.047600398543324, 'lat': -22.980081293861797}\",\n",
              "       \"{'lng': -43.111283520138024, 'lat': -22.90133880519791}\",\n",
              "       \"{'lng': -43.11945038980009, 'lat': -22.904626681426002}\",\n",
              "       \"{'lng': -42.996035556223745, 'lat': -22.78879634761316}\",\n",
              "       \"{'lng': -42.84419144270703, 'lat': -22.750650471874273}\",\n",
              "       \"{'lng': -43.10414645940384, 'lat': -22.909090867702517}\",\n",
              "       \"{'lng': -43.078941025175986, 'lat': -22.881145422207624}\",\n",
              "       \"{'lng': -43.040861394250626, 'lat': -22.819336306857398}\",\n",
              "       \"{'lng': -43.08183997135532, 'lat': -22.849466090473655}\",\n",
              "       \"{'lng': -43.02641846163899, 'lat': -22.93252196974987}\",\n",
              "       \"{'lng': -43.12605775622976, 'lat': -22.896475686670364}\",\n",
              "       \"{'lng': -43.02939754256871, 'lat': -22.94864994741297}\",\n",
              "       \"{'lng': -43.112011778755985, 'lat': -22.906933736567268}\",\n",
              "       \"{'lng': -42.93079290344054, 'lat': -22.780945473890213}\",\n",
              "       \"{'lng': -43.03532450696934, 'lat': -22.913348419994584}\",\n",
              "       \"{'lng': -43.118895486565805, 'lat': -22.903982624174837}\",\n",
              "       \"{'lng': -43.10930581860419, 'lat': -22.91023845998851}\",\n",
              "       \"{'lng': -43.04556580719206, 'lat': -22.872546328842407}\",\n",
              "       \"{'lng': -42.99469539480956, 'lat': -22.819458259539246}\",\n",
              "       \"{'lng': -43.011791215057734, 'lat': -22.833227941061782}\",\n",
              "       \"{'lng': -43.11347516630384, 'lat': -22.902570459746535}\",\n",
              "       \"{'lng': -42.96563068972586, 'lat': -22.79910814421185}\",\n",
              "       \"{'lng': -42.84064185098836, 'lat': -22.753680947260655}\",\n",
              "       \"{'lng': -43.01178241167583, 'lat': -22.920152566615375}\",\n",
              "       \"{'lng': -43.081760436934864, 'lat': -22.84954075345689}\",\n",
              "       \"{'lng': -42.86502182372615, 'lat': -22.753480786640736}\",\n",
              "       \"{'lng': -42.95831778261452, 'lat': -22.84876348089351}\",\n",
              "       \"{'lng': -43.1105809329116, 'lat': -22.90086298930404}\",\n",
              "       \"{'lng': -43.02993545992403, 'lat': -22.94550422181493}\",\n",
              "       \"{'lng': -43.0293527836828, 'lat': -22.884634963540183}\",\n",
              "       \"{'lng': -43.01497055364276, 'lat': -22.9255099660014}\",\n",
              "       \"{'lng': -42.94879818358054, 'lat': -22.799704266526792}\",\n",
              "       \"{'lng': -43.124060958103165, 'lat': -22.9046817433106}\",\n",
              "       \"{'lng': -43.11061605158215, 'lat': -22.904812320494017}\",\n",
              "       \"{'lng': -42.97048764633591, 'lat': -22.796972423158987}\",\n",
              "       \"{'lng': -43.118932999973474, 'lat': -22.904080056966304}\",\n",
              "       \"{'lng': -43.028601500513275, 'lat': -22.94922266232697}\",\n",
              "       \"{'lng': -43.09806872485105, 'lat': -22.90861670017881}\",\n",
              "       \"{'lng': -43.105461988180345, 'lat': -22.86174619859585}\",\n",
              "       \"{'lng': -43.021164154742834, 'lat': -22.781093242260372}\",\n",
              "       \"{'lng': -43.13072554899103, 'lat': -22.904969923769578}\",\n",
              "       \"{'lng': -43.01074400349331, 'lat': -22.85043593051063}\",\n",
              "       \"{'lng': -43.10543902399285, 'lat': -22.866706942599876}\",\n",
              "       \"{'lng': -43.11168387492832, 'lat': -22.900642811103236}\",\n",
              "       \"{'lng': -43.130409838834275, 'lat': -22.905645186366392}\",\n",
              "       \"{'lng': -42.895370661248855, 'lat': -22.755320505426866}\",\n",
              "       \"{'lng': -43.11345239384255, 'lat': -22.893146693948832}\",\n",
              "       \"{'lng': -43.01684117658807, 'lat': -22.94797198420035}\",\n",
              "       \"{'lng': -43.09947633411663, 'lat': -22.903543319858947}\",\n",
              "       \"{'lng': -43.03062298315657, 'lat': -22.818170729767008}\",\n",
              "       \"{'lng': -43.02707788445, 'lat': -22.860711615249635}\",\n",
              "       \"{'lng': -43.09957557126054, 'lat': -22.93769390555213}\",\n",
              "       \"{'lng': -43.104496658176465, 'lat': -22.872882804112102}\",\n",
              "       \"{'lng': -43.06448340427537, 'lat': -22.941645235530547}\",\n",
              "       \"{'lng': -43.101835573851375, 'lat': -22.904671308489483}\",\n",
              "       \"{'lng': -43.046842901351695, 'lat': -22.83871182189266}\",\n",
              "       \"{'lng': -42.97539212062801, 'lat': -22.79838397230133}\",\n",
              "       \"{'lng': -43.129329527083634, 'lat': -22.87785252458061}\",\n",
              "       \"{'lng': -42.98835134919002, 'lat': -22.880682280407438}\",\n",
              "       \"{'lng': -43.073566498578636, 'lat': -22.903090090362728}\",\n",
              "       \"{'lng': -43.1101908710431, 'lat': -22.905394656960144}\",\n",
              "       \"{'lng': -42.93810218716234, 'lat': -22.772068060388243}\",\n",
              "       \"{'lng': -43.04847751795152, 'lat': -22.91130739168711}\",\n",
              "       \"{'lng': -43.009816119829964, 'lat': -22.93539487235433}\",\n",
              "       \"{'lng': -43.126414408805076, 'lat': -22.883534265173466}\",\n",
              "       \"{'lng': -43.109293645581104, 'lat': -22.904353947263157}\",\n",
              "       \"{'lng': -43.09802896128186, 'lat': -22.903152514178338}\",\n",
              "       \"{'lng': -43.08336582954688, 'lat': -22.839482235088806}\",\n",
              "       \"{'lng': -43.11025140488272, 'lat': -22.902430611122895}\",\n",
              "       \"{'lng': -43.07963245614143, 'lat': -22.834630551452886}\",\n",
              "       \"{'lng': -43.05968511403747, 'lat': -22.906382159837438}\",\n",
              "       \"{'lng': -42.92514042768733, 'lat': -22.77986656433074}\",\n",
              "       \"{'lng': -43.071113135785005, 'lat': -22.841592067043084}\",\n",
              "       \"{'lng': -43.10656711873138, 'lat': -22.86916517988671}\",\n",
              "       \"{'lng': -43.06249180512859, 'lat': -22.820067657278756}\",\n",
              "       \"{'lng': -43.062988912589134, 'lat': -22.885983203862146}\",\n",
              "       \"{'lng': -43.1235031704646, 'lat': -22.899086704443693}\",\n",
              "       \"{'lng': -43.07936431860135, 'lat': -22.911538659992473}\",\n",
              "       \"{'lng': -43.12009790052018, 'lat': -22.90525157312565}\",\n",
              "       \"{'lng': -42.89921294853429, 'lat': -22.71099747634632}\",\n",
              "       \"{'lng': -43.02337252821608, 'lat': -22.932577996951487}\",\n",
              "       \"{'lng': -43.11254941910709, 'lat': -22.905766222382866}\",\n",
              "       \"{'lng': -43.060919441097695, 'lat': -22.833885110653014}\",\n",
              "       \"{'lng': -43.08962024878117, 'lat': -22.82742462068321}\",\n",
              "       \"{'lng': -43.05979781831696, 'lat': -22.954991620444062}\",\n",
              "       \"{'lng': -43.11836847438056, 'lat': -22.89409960113824}\",\n",
              "       \"{'lng': -43.112529738025515, 'lat': -22.902739804092768}\",\n",
              "       \"{'lng': -42.997993047228405, 'lat': -22.791349035485077}\",\n",
              "       \"{'lng': -43.10624648825828, 'lat': -22.90796829835864}\",\n",
              "       \"{'lng': -43.09651298114185, 'lat': -22.863579426504856}\",\n",
              "       \"{'lng': -43.00905346440529, 'lat': -22.903597000870846}\",\n",
              "       \"{'lng': -43.05066493527848, 'lat': -22.838834526035015}\",\n",
              "       \"{'lng': -43.1054743422567, 'lat': -22.905265480130975}\",\n",
              "       \"{'lng': -43.00679539202813, 'lat': -22.818016804264563}\",\n",
              "       \"{'lng': -43.03263495182955, 'lat': -22.82387339967012}\",\n",
              "       \"{'lng': -43.10847879205441, 'lat': -22.905352856187637}\",\n",
              "       \"{'lng': -43.118383436685946, 'lat': -22.895520835648874}\",\n",
              "       \"{'lng': -43.09687114889827, 'lat': -22.912754049622393}\",\n",
              "       \"{'lng': -43.02813002188904, 'lat': -22.936006377709624}\",\n",
              "       \"{'lng': -43.07846288576408, 'lat': -22.828636517546734}\",\n",
              "       \"{'lng': -42.984211196273435, 'lat': -22.884684624288855}\",\n",
              "       \"{'lng': -42.857585290146524, 'lat': -22.75236505168935}\",\n",
              "       \"{'lng': -43.09589428711286, 'lat': -22.88574640354506}\",\n",
              "       \"{'lng': -43.077518284791026, 'lat': -22.83556584484593}\",\n",
              "       \"{'lng': -42.935645758859955, 'lat': -22.783885258310672}\",\n",
              "       \"{'lng': -42.95760310021248, 'lat': -22.837596557957493}\",\n",
              "       \"{'lng': -43.05197104556228, 'lat': -22.81445493690373}\",\n",
              "       \"{'lng': -42.981948676498334, 'lat': -22.824489501647847}\",\n",
              "       \"{'lng': -43.09398067220099, 'lat': -22.888007621571}\",\n",
              "       \"{'lng': -42.9900052951297, 'lat': -22.853117628059664}\",\n",
              "       \"{'lng': -42.988920592488896, 'lat': -22.828129213058308}\",\n",
              "       \"{'lng': -43.01556431065539, 'lat': -22.80140413814657}\",\n",
              "       \"{'lng': -43.11575123619848, 'lat': -22.9031594908105}\",\n",
              "       \"{'lng': -43.08034252034047, 'lat': -22.88099030301785}\",\n",
              "       \"{'lng': -43.11968038914672, 'lat': -22.90500650463303}\",\n",
              "       \"{'lng': -43.098359715989965, 'lat': -22.89074444754038}\",\n",
              "       \"{'lng': -43.116550048076505, 'lat': -22.902549345276917}\",\n",
              "       \"{'lng': -42.8996969501176, 'lat': -22.825168522484027}\",\n",
              "       \"{'lng': -43.10054518278734, 'lat': -22.87947584768452}\",\n",
              "       \"{'lng': -43.11000429962072, 'lat': -22.897921438403525}\",\n",
              "       \"{'lng': -43.12398002249282, 'lat': -22.904232837258974}\",\n",
              "       \"{'lng': -43.11356725185581, 'lat': -22.902124873853552}\",\n",
              "       \"{'lng': -43.08813422291731, 'lat': -22.84664441603132}\",\n",
              "       \"{'lng': -43.10505978962744, 'lat': -22.904622631158745}\",\n",
              "       \"{'lng': -43.10894070734672, 'lat': -22.903934933674265}\",\n",
              "       \"{'lng': -43.05661285282351, 'lat': -22.944083827757137}\",\n",
              "       \"{'lng': -42.93320068037825, 'lat': -22.734558107559312}\",\n",
              "       \"{'lng': -43.00918094879175, 'lat': -22.819380271202498}\",\n",
              "       \"{'lng': -43.10140564436823, 'lat': -22.905385990902396}\",\n",
              "       \"{'lng': -43.0110894177625, 'lat': -22.807571248902057}\",\n",
              "       \"{'lng': -42.9348694340081, 'lat': -22.78174593634818}\",\n",
              "       \"{'lng': -43.11340680170516, 'lat': -22.893331625359142}\",\n",
              "       \"{'lng': -43.021318726556295, 'lat': -22.863436128124746}\",\n",
              "       \"{'lng': -43.096017383817205, 'lat': -22.90398280851992}\",\n",
              "       \"{'lng': -43.01694854876234, 'lat': -22.866252841397387}\",\n",
              "       \"{'lng': -42.846560124478806, 'lat': -22.7501436596829}\",\n",
              "       \"{'lng': -43.08964980357319, 'lat': -22.869236911998197}\",\n",
              "       \"{'lng': -43.05069424172453, 'lat': -22.82398391311538}\",\n",
              "       \"{'lng': -43.10114172982641, 'lat': -22.90253486467844}\",\n",
              "       \"{'lng': -43.08920785231567, 'lat': -22.91738946603512}\",\n",
              "       \"{'lng': -43.084313973421885, 'lat': -22.890890245213715}\",\n",
              "       \"{'lng': -43.036699255483505, 'lat': -22.87001444792345}\",\n",
              "       \"{'lng': -43.08135301349981, 'lat': -22.841761408674635}\",\n",
              "       \"{'lng': -43.10461777522395, 'lat': -22.899627814842404}\",\n",
              "       \"{'lng': -43.085263007206265, 'lat': -22.899846885304306}\",\n",
              "       \"{'lng': -43.112736703432205, 'lat': -22.90011241333697}\",\n",
              "       \"{'lng': -43.07601461402197, 'lat': -22.826594892333308}\",\n",
              "       \"{'lng': -43.104926566531866, 'lat': -22.91040262955334}\",\n",
              "       \"{'lng': -43.03238027920547, 'lat': -22.937654321695653}\",\n",
              "       \"{'lng': -42.94931678648452, 'lat': -22.84877232141433}\",\n",
              "       \"{'lng': -42.95842097452444, 'lat': -22.868606951086054}\",\n",
              "       \"{'lng': -43.05276718664943, 'lat': -22.816741581965065}\",\n",
              "       \"{'lng': -43.10978739992789, 'lat': -22.911925712697883}\",\n",
              "       \"{'lng': -43.09923532889139, 'lat': -22.892333585143678}\",\n",
              "       \"{'lng': -43.11214741353148, 'lat': -22.907836448040765}\",\n",
              "       \"{'lng': -43.05070669483737, 'lat': -22.824931360917553}\",\n",
              "       \"{'lng': -43.115291465638464, 'lat': -22.882119213461145}\",\n",
              "       \"{'lng': -43.039581320454815, 'lat': -22.814513254603188}\",\n",
              "       \"{'lng': -43.125852702869324, 'lat': -22.901982096068537}\",\n",
              "       \"{'lng': -43.10142637612374, 'lat': -22.902112700077947}\",\n",
              "       \"{'lng': -43.11269363144144, 'lat': -22.93047300068753}\",\n",
              "       \"{'lng': -43.04618722225009, 'lat': -22.825591313676604}\",\n",
              "       \"{'lng': -43.10567911329526, 'lat': -22.903178166344766}\",\n",
              "       \"{'lng': -43.00488436979272, 'lat': -22.820729178605593}\",\n",
              "       \"{'lng': -43.1074505174812, 'lat': -22.89560135129468}\",\n",
              "       \"{'lng': -43.125979546235016, 'lat': -22.902982187526653}\",\n",
              "       \"{'lng': -43.004174255761214, 'lat': -22.822867666612506}\",\n",
              "       \"{'lng': -43.0002100803629, 'lat': -22.804158128256038}\",\n",
              "       \"{'lng': -43.007597010636786, 'lat': -22.806908531012688}\",\n",
              "       \"{'lng': -43.11362032488394, 'lat': -22.904372465532767}\",\n",
              "       \"{'lng': -43.11095927547116, 'lat': -22.908507596061643}\",\n",
              "       \"{'lng': -43.098402226736326, 'lat': -22.89686820675575}\",\n",
              "       \"{'lng': -42.971301364215996, 'lat': -22.795709166496827}\",\n",
              "       \"{'lng': -42.92730846494446, 'lat': -22.72962816187863}\",\n",
              "       \"{'lng': -43.0186916907745, 'lat': -22.81788676833272}\",\n",
              "       \"{'lng': -43.113268304267216, 'lat': -22.936108588403542}\",\n",
              "       \"{'lng': -43.02027108498496, 'lat': -22.936433975139977}\",\n",
              "       \"{'lng': -42.99844386855998, 'lat': -22.806788786957874}\",\n",
              "       \"{'lng': -43.10214250713698, 'lat': -22.89263524738584}\",\n",
              "       \"{'lng': -43.060829149193154, 'lat': -22.909133962601317}\",\n",
              "       \"{'lng': -43.07965937309916, 'lat': -22.82221751694794}\",\n",
              "       \"{'lng': -43.10647073597047, 'lat': -22.899534904849585}\",\n",
              "       \"{'lng': -43.123956218654726, 'lat': -22.900917035082774}\",\n",
              "       \"{'lng': -43.10764608776239, 'lat': -22.904297047207518}\",\n",
              "       \"{'lng': -42.96136967626645, 'lat': -22.787567548441988}\",\n",
              "       \"{'lng': -43.10806759552323, 'lat': -22.91120684724167}\",\n",
              "       \"{'lng': -43.096157533320806, 'lat': -22.85637612234805}\",\n",
              "       \"{'lng': -43.103446359976765, 'lat': -22.901367971836684}\",\n",
              "       \"{'lng': -43.00090103895122, 'lat': -22.85092251454448}\",\n",
              "       \"{'lng': -42.9868283409812, 'lat': -22.879308209032438}\",\n",
              "       \"{'lng': -43.040197095054104, 'lat': -22.80653666193152}\",\n",
              "       \"{'lng': -43.0157679618945, 'lat': -22.820369398829015}\",\n",
              "       \"{'lng': -43.11740981270416, 'lat': -22.89951494209333}\",\n",
              "       \"{'lng': -42.96638441566127, 'lat': -22.81927257561566}\",\n",
              "       \"{'lng': -43.12639101896196, 'lat': -22.903107270149132}\",\n",
              "       \"{'lng': -42.95851555873711, 'lat': -22.736017906880843}\",\n",
              "       \"{'lng': -43.06238784939223, 'lat': -22.836973177076576}\",\n",
              "       \"{'lng': -43.114357935642445, 'lat': -22.902863099239177}\",\n",
              "       \"{'lng': -43.10049326704076, 'lat': -22.905188629522762}\",\n",
              "       \"{'lng': -43.10607930137094, 'lat': -22.906985689045367}\",\n",
              "       \"{'lng': -43.09324044522986, 'lat': -22.901971535212436}\",\n",
              "       \"{'lng': -42.973223653595916, 'lat': -22.82831946392566}\",\n",
              "       \"{'lng': -43.09936243234372, 'lat': -22.892594120779297}\",\n",
              "       \"{'lng': -43.04941135808647, 'lat': -22.82268516124504}\",\n",
              "       \"{'lng': -42.90285334801417, 'lat': -22.70959594925673}\",\n",
              "       \"{'lng': -42.983983650791124, 'lat': -22.80182690431387}\",\n",
              "       \"{'lng': -43.08556632904887, 'lat': -22.83796504373264}\",\n",
              "       \"{'lng': -43.019605989561235, 'lat': -22.93618399911118}\",\n",
              "       \"{'lng': -42.96019582566095, 'lat': -22.897011748285916}\",\n",
              "       \"{'lng': -43.0975934051695, 'lat': -22.895051381132216}\",\n",
              "       \"{'lng': -43.060734300942954, 'lat': -22.84335507583285}\",\n",
              "       \"{'lng': -43.10971254374105, 'lat': -22.90346767667047}\",\n",
              "       \"{'lng': -43.023006807438506, 'lat': -22.86139543918211}\",\n",
              "       \"{'lng': -43.005294681233735, 'lat': -22.801251335897526}\",\n",
              "       \"{'lng': -43.052047342096714, 'lat': -22.846449195291637}\",\n",
              "       \"{'lng': -42.82064145975461, 'lat': -22.723686061703074}\",\n",
              "       \"{'lng': -43.0388406171412, 'lat': -22.816062880733085}\",\n",
              "       \"{'lng': -43.133281108119974, 'lat': -22.906889341663263}\",\n",
              "       \"{'lng': -43.05314475441616, 'lat': -22.90084733676137}\",\n",
              "       \"{'lng': -42.99415267758613, 'lat': -22.83538489025335}\",\n",
              "       \"{'lng': -43.00762182438556, 'lat': -22.84854620414024}\",\n",
              "       \"{'lng': -43.12693039401774, 'lat': -22.901157483311554}\",\n",
              "       \"{'lng': -43.09818691413013, 'lat': -22.871600329101625}\",\n",
              "       \"{'lng': -42.95985344104867, 'lat': -22.807933536038334}\",\n",
              "       \"{'lng': -43.08793218582221, 'lat': -22.877971786485606}\",\n",
              "       \"{'lng': -42.86177081625066, 'lat': -22.74725921993219}\",\n",
              "       \"{'lng': -43.110017229793584, 'lat': -22.905811859451536}\",\n",
              "       \"{'lng': -43.11815584181715, 'lat': -22.89460465494811}\",\n",
              "       \"{'lng': -43.07840591974525, 'lat': -22.90534408631983}\",\n",
              "       \"{'lng': -43.103410282583745, 'lat': -22.90556573625788}\",\n",
              "       \"{'lng': -43.07997260478291, 'lat': -22.86023102770836}\",\n",
              "       \"{'lng': -43.09623612983395, 'lat': -22.92759491459666}\",\n",
              "       \"{'lng': -42.958276522264505, 'lat': -22.810840802198335}\",\n",
              "       \"{'lng': -43.0466472772039, 'lat': -22.829936108258323}\",\n",
              "       \"{'lng': -43.037571779356874, 'lat': -22.93257433193037}\",\n",
              "       \"{'lng': -43.06036627380298, 'lat': -22.84242620845256}\",\n",
              "       \"{'lng': -42.99830019270649, 'lat': -22.835153050972416}\",\n",
              "       \"{'lng': -43.10207052023416, 'lat': -22.906264793088503}\",\n",
              "       \"{'lng': -43.08709820468726, 'lat': -22.859760202225278}\",\n",
              "       \"{'lng': -43.08387175892224, 'lat': -22.82928899848188}\",\n",
              "       \"{'lng': -43.04433793540865, 'lat': -22.796063863528317}\",\n",
              "       \"{'lng': -43.09843634546719, 'lat': -22.936373516003957}\",\n",
              "       \"{'lng': -43.123887271203785, 'lat': -22.899596477900406}\",\n",
              "       \"{'lng': -43.03338322867652, 'lat': -22.956815410893682}\",\n",
              "       \"{'lng': -43.05218185998678, 'lat': -22.815621906385413}\",\n",
              "       \"{'lng': -43.071708484930035, 'lat': -22.899479768910243}\",\n",
              "       \"{'lng': -43.121886866468685, 'lat': -22.902319346082855}\",\n",
              "       \"{'lng': -42.9907684777846, 'lat': -22.842644743021424}\",\n",
              "       \"{'lng': -43.1038704643181, 'lat': -22.90444881500284}\",\n",
              "       \"{'lng': -43.102127325576205, 'lat': -22.895251310342424}\",\n",
              "       \"{'lng': -43.08841738127668, 'lat': -22.88345713146849}\",\n",
              "       \"{'lng': -43.110263116026495, 'lat': -22.91041043249143}\",\n",
              "       \"{'lng': -43.10943367627045, 'lat': -22.898133342660504}\",\n",
              "       \"{'lng': -43.090013575965386, 'lat': -22.842386271388698}\",\n",
              "       \"{'lng': -42.98286902207632, 'lat': -22.79135130452397}\",\n",
              "       \"{'lng': -43.05858357505069, 'lat': -22.84009118380985}\",\n",
              "       \"{'lng': -43.10659960699873, 'lat': -22.90841166862771}\",\n",
              "       \"{'lng': -43.099107855751214, 'lat': -22.912353201448845}\",\n",
              "       \"{'lng': -43.09865062566226, 'lat': -22.906995461653104}\",\n",
              "       \"{'lng': -43.0623684431232, 'lat': -22.949335689478076}\",\n",
              "       \"{'lng': -43.13264855528139, 'lat': -22.884468565957327}\",\n",
              "       \"{'lng': -43.097902795373045, 'lat': -22.902741284638815}\",\n",
              "       \"{'lng': -43.05162072580375, 'lat': -22.91527990867606}\",\n",
              "       \"{'lng': -43.03227319592863, 'lat': -22.82515165709483}\",\n",
              "       \"{'lng': -43.0376247076873, 'lat': -22.89840070179698}\",\n",
              "       \"{'lng': -43.09105140459356, 'lat': -22.868209394075564}\",\n",
              "       \"{'lng': -42.8894987010064, 'lat': -22.824220653746742}\",\n",
              "       \"{'lng': -43.10512877069044, 'lat': -22.91087519917456}\",\n",
              "       \"{'lng': -42.93342399658836, 'lat': -22.797528171456115}\",\n",
              "       \"{'lng': -42.97199621794642, 'lat': -22.815090605877046}\",\n",
              "       \"{'lng': -42.98396505646801, 'lat': -22.831638797336073}\",\n",
              "       \"{'lng': -42.97834239115668, 'lat': -22.902285886531594}\",\n",
              "       \"{'lng': -43.00546963154106, 'lat': -22.864603800363916}\",\n",
              "       \"{'lng': -43.035989654216166, 'lat': -22.83320591513317}\",\n",
              "       \"{'lng': -43.10372931143353, 'lat': -22.903781187256886}\",\n",
              "       \"{'lng': -43.10695163962623, 'lat': -22.874531250689323}\",\n",
              "       \"{'lng': -42.984292121154525, 'lat': -22.825170933953494}\",\n",
              "       \"{'lng': -43.10599387086944, 'lat': -22.905723228606448}\",\n",
              "       \"{'lng': -43.03615641025443, 'lat': -22.83709567363723}\",\n",
              "       \"{'lng': -43.11003908896637, 'lat': -22.906502205862214}\",\n",
              "       \"{'lng': -43.1014854926619, 'lat': -22.908503079620328}\",\n",
              "       \"{'lng': -43.01267506984195, 'lat': -22.833830166197924}\",\n",
              "       \"{'lng': -43.08763997497226, 'lat': -22.855427768268218}\",\n",
              "       \"{'lng': -43.092131105871495, 'lat': -22.87987881147858}\",\n",
              "       \"{'lng': -43.0999039508983, 'lat': -22.908020066675558}\",\n",
              "       \"{'lng': -43.1048976333113, 'lat': -22.9085127736702}\",\n",
              "       \"{'lng': -43.03455233888012, 'lat': -22.784587884386614}\",\n",
              "       \"{'lng': -43.056117441165306, 'lat': -22.953307457878424}\",\n",
              "       \"{'lng': -42.94078000072556, 'lat': -22.841611400843547}\",\n",
              "       \"{'lng': -43.08060571811151, 'lat': -22.825371988804186}\",\n",
              "       \"{'lng': -43.09214362512625, 'lat': -22.85530381252741}\",\n",
              "       \"{'lng': -43.10991805559359, 'lat': -22.909058645939503}\",\n",
              "       \"{'lng': -43.10948562274092, 'lat': -22.910849794566783}\",\n",
              "       \"{'lng': -42.91565832164158, 'lat': -22.70035739184595}\",\n",
              "       \"{'lng': -43.11842161834665, 'lat': -22.90333919009544}\",\n",
              "       \"{'lng': -43.058875561078274, 'lat': -22.821799432920354}\",\n",
              "       \"{'lng': -43.11373190552976, 'lat': -22.898593212457886}\",\n",
              "       \"{'lng': -43.10752847846339, 'lat': -22.907270364878137}\",\n",
              "       \"{'lng': -43.027381657502715, 'lat': -22.957066432496354}\",\n",
              "       \"{'lng': -43.103717358438985, 'lat': -22.911778349722564}\",\n",
              "       \"{'lng': -42.98938108379054, 'lat': -22.821853163538155}\",\n",
              "       \"{'lng': -43.02195816917755, 'lat': -22.819591674021733}\",\n",
              "       \"{'lng': -43.11286637485798, 'lat': -22.904727511855473}\",\n",
              "       \"{'lng': -43.10923814479011, 'lat': -22.902884548540527}\",\n",
              "       \"{'lng': -43.109719929011426, 'lat': -22.910475866045296}\",\n",
              "       \"{'lng': -43.12349115740795, 'lat': -22.891345124756604}\",\n",
              "       \"{'lng': -42.98684521303383, 'lat': -22.80046896359086}\",\n",
              "       \"{'lng': -43.10716121046954, 'lat': -22.874173489234455}\"],\n",
              "      dtype=object)"
            ]
          },
          "metadata": {
            "tags": []
          },
          "execution_count": 47
        }
      ]
    },
    {
      "cell_type": "code",
      "metadata": {
        "id": "L1FsZbRj6n36"
      },
      "source": [
        ""
      ],
      "execution_count": null,
      "outputs": []
    },
    {
      "cell_type": "markdown",
      "metadata": {
        "id": "QAF9ROs--iQ2"
      },
      "source": [
        "#### 3.3 - Gerando gráfico do Toy"
      ]
    },
    {
      "cell_type": "code",
      "metadata": {
        "id": "72_MZTRV-lrd",
        "colab": {
          "base_uri": "https://localhost:8080/",
          "height": 137
        },
        "outputId": "799f3401-8be5-4f77-f41a-1cc4aeb7d213"
      },
      "source": [
        "# Dataframe contém os pontos gerados aleatoriametne (rotas_inst) e as demandas geradas aleatoriamente (dem_aleatorias)\n",
        "df_subinstancia = pd.DataFrame({'rotas': rotas_inst,'demandas': dem_aleatorias})\n",
        "df_subinstancia.head(3)"
      ],
      "execution_count": 48,
      "outputs": [
        {
          "output_type": "execute_result",
          "data": {
            "text/html": [
              "<div>\n",
              "<style scoped>\n",
              "    .dataframe tbody tr th:only-of-type {\n",
              "        vertical-align: middle;\n",
              "    }\n",
              "\n",
              "    .dataframe tbody tr th {\n",
              "        vertical-align: top;\n",
              "    }\n",
              "\n",
              "    .dataframe thead th {\n",
              "        text-align: right;\n",
              "    }\n",
              "</style>\n",
              "<table border=\"1\" class=\"dataframe\">\n",
              "  <thead>\n",
              "    <tr style=\"text-align: right;\">\n",
              "      <th></th>\n",
              "      <th>rotas</th>\n",
              "      <th>demandas</th>\n",
              "    </tr>\n",
              "  </thead>\n",
              "  <tbody>\n",
              "    <tr>\n",
              "      <th>0</th>\n",
              "      <td>{'lng': -43.0874742824141, 'lat': -22.88578511...</td>\n",
              "      <td>6</td>\n",
              "    </tr>\n",
              "    <tr>\n",
              "      <th>1</th>\n",
              "      <td>{'lng': -43.05445438655888, 'lat': -22.9445655...</td>\n",
              "      <td>1</td>\n",
              "    </tr>\n",
              "    <tr>\n",
              "      <th>2</th>\n",
              "      <td>{'lng': -43.08268492983951, 'lat': -22.9536603...</td>\n",
              "      <td>4</td>\n",
              "    </tr>\n",
              "  </tbody>\n",
              "</table>\n",
              "</div>"
            ],
            "text/plain": [
              "                                               rotas  demandas\n",
              "0  {'lng': -43.0874742824141, 'lat': -22.88578511...         6\n",
              "1  {'lng': -43.05445438655888, 'lat': -22.9445655...         1\n",
              "2  {'lng': -43.08268492983951, 'lat': -22.9536603...         4"
            ]
          },
          "metadata": {
            "tags": []
          },
          "execution_count": 48
        }
      ]
    },
    {
      "cell_type": "code",
      "metadata": {
        "colab": {
          "base_uri": "https://localhost:8080/",
          "height": 35
        },
        "id": "-OKkciNg_G6Y",
        "outputId": "0c8d962c-d9ee-4c33-ae8e-4f21794b0390"
      },
      "source": [
        "# Primeira rota - notar que temos dataframe. Então devemos fazer mesma coisa feita anteriormente, criar coluna latitude e longitude\n",
        "df_subinstancia['rotas'][0]"
      ],
      "execution_count": 49,
      "outputs": [
        {
          "output_type": "execute_result",
          "data": {
            "application/vnd.google.colaboratory.intrinsic+json": {
              "type": "string"
            },
            "text/plain": [
              "\"{'lng': -43.0874742824141, 'lat': -22.88578511148281}\""
            ]
          },
          "metadata": {
            "tags": []
          },
          "execution_count": 49
        }
      ]
    },
    {
      "cell_type": "code",
      "metadata": {
        "id": "JjZHqMoP-8Tp"
      },
      "source": [
        "# criando a coluna latitude\n",
        "df_subinstancia['latitude'] = df_subinstancia['rotas'].apply(lambda x: float(x.split(':')[2][:-1]))\n",
        "df_subinstancia['longitude'] = df_subinstancia['rotas'].apply(lambda x: float(x.split(':')[1].split(',')[0]))"
      ],
      "execution_count": 50,
      "outputs": []
    },
    {
      "cell_type": "code",
      "metadata": {
        "colab": {
          "base_uri": "https://localhost:8080/",
          "height": 137
        },
        "id": "VNimAm-3-8Tp",
        "outputId": "b48d535d-ffa5-4615-8f6f-2de601796ba3"
      },
      "source": [
        "df_subinstancia.head(3)"
      ],
      "execution_count": 51,
      "outputs": [
        {
          "output_type": "execute_result",
          "data": {
            "text/html": [
              "<div>\n",
              "<style scoped>\n",
              "    .dataframe tbody tr th:only-of-type {\n",
              "        vertical-align: middle;\n",
              "    }\n",
              "\n",
              "    .dataframe tbody tr th {\n",
              "        vertical-align: top;\n",
              "    }\n",
              "\n",
              "    .dataframe thead th {\n",
              "        text-align: right;\n",
              "    }\n",
              "</style>\n",
              "<table border=\"1\" class=\"dataframe\">\n",
              "  <thead>\n",
              "    <tr style=\"text-align: right;\">\n",
              "      <th></th>\n",
              "      <th>rotas</th>\n",
              "      <th>demandas</th>\n",
              "      <th>latitude</th>\n",
              "      <th>longitude</th>\n",
              "    </tr>\n",
              "  </thead>\n",
              "  <tbody>\n",
              "    <tr>\n",
              "      <th>0</th>\n",
              "      <td>{'lng': -43.0874742824141, 'lat': -22.88578511...</td>\n",
              "      <td>6</td>\n",
              "      <td>-22.885785</td>\n",
              "      <td>-43.087474</td>\n",
              "    </tr>\n",
              "    <tr>\n",
              "      <th>1</th>\n",
              "      <td>{'lng': -43.05445438655888, 'lat': -22.9445655...</td>\n",
              "      <td>1</td>\n",
              "      <td>-22.944566</td>\n",
              "      <td>-43.054454</td>\n",
              "    </tr>\n",
              "    <tr>\n",
              "      <th>2</th>\n",
              "      <td>{'lng': -43.08268492983951, 'lat': -22.9536603...</td>\n",
              "      <td>4</td>\n",
              "      <td>-22.953660</td>\n",
              "      <td>-43.082685</td>\n",
              "    </tr>\n",
              "  </tbody>\n",
              "</table>\n",
              "</div>"
            ],
            "text/plain": [
              "                                               rotas  ...  longitude\n",
              "0  {'lng': -43.0874742824141, 'lat': -22.88578511...  ... -43.087474\n",
              "1  {'lng': -43.05445438655888, 'lat': -22.9445655...  ... -43.054454\n",
              "2  {'lng': -43.08268492983951, 'lat': -22.9536603...  ... -43.082685\n",
              "\n",
              "[3 rows x 4 columns]"
            ]
          },
          "metadata": {
            "tags": []
          },
          "execution_count": 51
        }
      ]
    },
    {
      "cell_type": "code",
      "metadata": {
        "colab": {
          "base_uri": "https://localhost:8080/",
          "height": 723
        },
        "id": "ujTYzPDY_e9Y",
        "outputId": "72ba4f60-7ae8-4c41-ebfc-dd527f0765c9"
      },
      "source": [
        "# Gerando gráfico \n",
        "\n",
        "\n",
        "# Importando as Bibliotecas \n",
        "import matplotlib.pyplot as plt\n",
        "import seaborn as sns\n",
        "\n",
        "# Gráfico de Dispersão  (Scatterplot)\n",
        "\n",
        "# ---------------------------------------------------------------------------------------\n",
        "#                             Elementos básicos:\n",
        "# ---------------------------------------------------------------------------------------\n",
        "\n",
        "# 1 - Figure e axis\n",
        "# Criando a variável fig e a variável ax   (figura, eixos):\n",
        "fig, ax = plt.subplots(nrows = 1, ncols = 1, figsize=(10,7),       # (largura, altura) em polegadas \n",
        "                       dpi=110)                                   # resolução (pontos/polegada)\n",
        "\n",
        "# 2 - Plot\n",
        "# Gráfico de dispersão - total_bill (x), tip (y) de df1 \n",
        "sns.scatterplot(data = df_subinstancia, x=\"longitude\", y=\"latitude\",  linewidth = 0,  size=\"demandas\", hue = 'demandas' , ax = ax)    # cor opcional\n",
        "\n",
        "\n",
        "# 3 - Título\n",
        "# Inserindo título no nosso eixo ax\n",
        "ax.set_title('Instância Toy gerada', color = '#646369',loc='left', pad = 15,fontsize=13, weight='bold')\n",
        "\n",
        "\n",
        "# ---------------------------------------------------------------------------------------\n",
        "#                    Melhorando o aspecto do gráfico:\n",
        "# ---------------------------------------------------------------------------------------\n",
        "\n",
        "# Modificar a cor dos tiques para cinza (colocar uma cor mais clara - chamar menos atenção):\n",
        "ax.tick_params(axis='both', colors = '#646369',labelsize=10)         # modifica a aparência dos ticks, ticks labels e gridlines\n",
        "\n",
        "\n",
        "# Remoção de eixos desnecessários (Closure):\n",
        "ax.spines['right'].set_visible(False)       # deixa invisível os eixos direito\n",
        "ax.spines['top'].set_visible(False)         # deixa invisível os eixos superior\n",
        "\n",
        "# Modificar a cor dos eixos inferior e esquerdo para cinza\n",
        "ax.spines['bottom'].set_color('#646369')       # inferior\n",
        "ax.spines['left'].set_color('#646369')         # esquerdo\n",
        "\n",
        "# Modificar o label\n",
        "ax.set_xlabel('Longitude',color='#646369',fontsize=10,\n",
        "              position=(0, 0), horizontalalignment='left')\n",
        "ax.set_ylabel('Latitude', color='#646369', fontsize=10,\n",
        "              position=(0,1), horizontalalignment='right')"
      ],
      "execution_count": 52,
      "outputs": [
        {
          "output_type": "execute_result",
          "data": {
            "text/plain": [
              "Text(0, 1, 'Latitude')"
            ]
          },
          "metadata": {
            "tags": []
          },
          "execution_count": 52
        },
        {
          "output_type": "display_data",
          "data": {
            "image/png": "[encoded data removed]",
            "text/plain": [
              "<Figure size 1100x770 with 1 Axes>"
            ]
          },
          "metadata": {
            "tags": [],
            "needs_background": "light"
          }
        }
      ]
    },
    {
      "cell_type": "markdown",
      "metadata": {
        "id": "Wa2BoAxZh0jW"
      },
      "source": [
        "Exportando toy gerado:"
      ]
    },
    {
      "cell_type": "code",
      "metadata": {
        "id": "6QaHBWplh2lz"
      },
      "source": [
        "nome_arquivo = 'cvrp_RJ0_toy1'\n",
        "salvar1 = '/content/drive/Shareddrives/Disciplina Modelagem/Aulas/Aula 3'"
      ],
      "execution_count": null,
      "outputs": []
    },
    {
      "cell_type": "code",
      "metadata": {
        "id": "xocebxqCiJaT"
      },
      "source": [
        "df_subinstancia.to_csv(salvar1 + '/' + nome_arquivo)"
      ],
      "execution_count": null,
      "outputs": []
    },
    {
      "cell_type": "markdown",
      "metadata": {
        "id": "2MhAvxbzh3PC"
      },
      "source": [
        "### 4 - Resumo de todos os processos para gerar o toy"
      ]
    },
    {
      "cell_type": "code",
      "metadata": {
        "id": "LIK3lfnaiOGe"
      },
      "source": [
        "## Entradas:\n",
        "\n",
        "import numpy as np\n",
        "import matplotlib.pyplot as plt\n",
        "import seaborn as sns\n",
        "import pandas as pd\n",
        "\n",
        "### dataframe onde serão pego as informações\n",
        "df_rj0_sub1 = df_rj0_sub1.copy()        \n",
        "df_rj0 = df_rj0.copy()\n",
        "\n",
        "### Tamanho da Instância\n",
        "tamanho_inst = 500  \n",
        "\n",
        "### Exportar arquivo\n",
        "nome_arquivo = 'cvrp_RJ0_toy1'\n",
        "salvar1 = '/content/drive/Shareddrives/Disciplina Modelagem/Aulas/Aula 3'"
      ],
      "execution_count": null,
      "outputs": []
    },
    {
      "cell_type": "code",
      "metadata": {
        "id": "li1-3HeIiOOu"
      },
      "source": [
        "## TODO PROCESSO\n",
        "# Parte 1 - Geração das demandas aleatórias dos Pontos:\n",
        "\n",
        "demandas = df_rj0_sub1['size'].unique()       # valores da demanda\n",
        "d_min = demandas.min()\n",
        "d_max = demandas.max() + 1\n",
        "\n",
        "np.random.seed(seed=0)\n",
        "dem_aleatorias = np.random.randint(low = d_min, high = d_max, size = tamanho_inst)   # Return random integers from low (inclusive) to high (exclusive)\n",
        "\n",
        "########################\n",
        "# Parte 2 - Seleção dos pontos de entrega de forma aleatória\n",
        "\n",
        "# 2.1 - selecionando os pontos e suas probabilidades\n",
        "valores  = df_rj0['point'].value_counts()   # quantidade de vezes que os pontos aparecem\n",
        "pontos = pd.DataFrame(valores)              # passando para dataframe\n",
        "pontos['prob'] = pontos['point']/pontos['point'].sum()       # probabilidade de ocorrência de cada ponto\n",
        "\n",
        "prob = pontos['prob'].values      # probabilidade de ocorrência do ponto\n",
        "local = pontos.index.values       # pontos de entrega escolhidos\n",
        "\n",
        "# Escolha Aleatória dos pontos  \n",
        "np.random.seed(seed=0)\n",
        "rotas_inst = np.random.choice(a = local, size = tamanho_inst, replace = False, p = prob)   # Generates a random sample from a given 1-D array\n",
        "\n",
        "#############\n",
        "# Parte 3\n",
        "\n",
        "# Dataframe contém os pontos gerados aleatoriametne (rotas_inst) e as demandas geradas aleatoriamente (dem_aleatorias)\n",
        "df_subinstancia = pd.DataFrame({'rotas': rotas_inst,'demandas': dem_aleatorias})\n",
        "\n",
        "# criando a coluna latitude\n",
        "df_subinstancia['latitude'] = df_subinstancia['rotas'].apply(lambda x: float(x.split(':')[2][:-1]))\n",
        "df_subinstancia['longitude'] = df_subinstancia['rotas'].apply(lambda x: float(x.split(':')[1].split(',')[0]))\n",
        "\n",
        "\n",
        "#############\n",
        "# Parte 4 - Gerando gráfico \n",
        "\n",
        "fig, ax = plt.subplots(nrows = 1, ncols = 1, figsize=(10,7),       # (largura, altura) em polegadas \n",
        "                       dpi=110)                                   # resolução (pontos/polegada)\n",
        "sns.scatterplot(data = df_subinstancia, x=\"longitude\", y=\"latitude\",  linewidth = 0,  size=\"demandas\", hue = 'demandas' , ax = ax)    # cor opcional\n",
        "ax.set_title('Instância Toy gerada', color = '#646369',loc='left', pad = 15,fontsize=13, weight='bold')\n",
        "ax.tick_params(axis='both', colors = '#646369',labelsize=10)         # modifica a aparência dos ticks, ticks labels e gridlines\n",
        "ax.spines['right'].set_visible(False)       # deixa invisível os eixos direito\n",
        "ax.spines['top'].set_visible(False)         # deixa invisível os eixos superior\n",
        "ax.spines['bottom'].set_color('#646369')       # inferior\n",
        "ax.spines['left'].set_color('#646369')         # esquerdo\n",
        "ax.set_xlabel('Longitude',color='#646369',fontsize=10,\n",
        "              position=(0, 0), horizontalalignment='left')\n",
        "ax.set_ylabel('Latitude', color='#646369', fontsize=10,\n",
        "              position=(0,1), horizontalalignment='right')\n",
        "\n",
        "\n",
        "#############\n",
        "# Parte 5 - Exportando o resultado\n",
        "df_subinstancia.to_csv(salvar1 + '/' + nome_arquivo)\n"
      ],
      "execution_count": null,
      "outputs": []
    },
    {
      "cell_type": "code",
      "metadata": {
        "id": "iBoXykD8DaUa"
      },
      "source": [
        ""
      ],
      "execution_count": null,
      "outputs": []
    }
  ]
}