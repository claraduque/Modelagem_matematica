{
  "nbformat": 4,
  "nbformat_minor": 0,
  "metadata": {
    "colab": {
      "name": "Aula 4.ipynb",
      "provenance": [],
      "collapsed_sections": []
    },
    "kernelspec": {
      "name": "python3",
      "display_name": "Python 3"
    },
    "language_info": {
      "name": "python"
    }
  },
  "cells": [
    {
      "cell_type": "markdown",
      "metadata": {
        "id": "2IJZ67UmTVcA"
      },
      "source": [
        "# <font color=green> **AULA PRÁTICA 4**\n",
        "-----\n",
        "\n",
        "## Objetivo:\n",
        "Mostrar como podemos gerar clusters (grupos) pelo método k-means.\n",
        "\n",
        "\n",
        "## Tópicos:\n",
        "1. Relembrar quais são os dados do estudo\n",
        "2. Entendimento do problema de agrupamento e como podemos relacionar ao problema de localização.  \n",
        "3. Entendimento do algoritmo K-means\n",
        "5. Como aplicamos K-means no Python e como escolhemos o número de clusters.  "
      ]
    },
    {
      "cell_type": "markdown",
      "metadata": {
        "id": "6avnUYU3O0Rj"
      },
      "source": [
        "## 4.1 -  Importando os dados"
      ]
    },
    {
      "cell_type": "markdown",
      "metadata": {
        "id": "hkb-3RE2PDOP"
      },
      "source": [
        "Lembrando que estamos usando a instância toy (de 500 pontos) gerada na aula prática 3"
      ]
    },
    {
      "cell_type": "code",
      "metadata": {
        "id": "IubfLyiePMoc"
      },
      "source": [
        "import pandas as pd"
      ],
      "execution_count": 2,
      "outputs": []
    },
    {
      "cell_type": "code",
      "metadata": {
        "id": "uut9nrskgODq"
      },
      "source": [
        "# importando o arquivo\n",
        "df_subinstancia = pd.read_csv('/content/drive/Shareddrives/Disciplina Modelagem/Aulas/Aula 3/cvrp_RJ0_toy1',index_col = 0)"
      ],
      "execution_count": 3,
      "outputs": []
    },
    {
      "cell_type": "code",
      "metadata": {
        "colab": {
          "base_uri": "https://localhost:8080/",
          "height": 203
        },
        "id": "2Bvf0lLgzEVQ",
        "outputId": "e40fac11-daa0-4e8f-ef87-55a460a7cde8"
      },
      "source": [
        "df_subinstancia.head()"
      ],
      "execution_count": 4,
      "outputs": [
        {
          "output_type": "execute_result",
          "data": {
            "text/html": [
              "<div>\n",
              "<style scoped>\n",
              "    .dataframe tbody tr th:only-of-type {\n",
              "        vertical-align: middle;\n",
              "    }\n",
              "\n",
              "    .dataframe tbody tr th {\n",
              "        vertical-align: top;\n",
              "    }\n",
              "\n",
              "    .dataframe thead th {\n",
              "        text-align: right;\n",
              "    }\n",
              "</style>\n",
              "<table border=\"1\" class=\"dataframe\">\n",
              "  <thead>\n",
              "    <tr style=\"text-align: right;\">\n",
              "      <th></th>\n",
              "      <th>rotas</th>\n",
              "      <th>demandas</th>\n",
              "      <th>latitude</th>\n",
              "      <th>longitude</th>\n",
              "    </tr>\n",
              "  </thead>\n",
              "  <tbody>\n",
              "    <tr>\n",
              "      <th>0</th>\n",
              "      <td>{'lng': -43.10673388727864, 'lat': -22.9123848...</td>\n",
              "      <td>6</td>\n",
              "      <td>-22.912385</td>\n",
              "      <td>-43.106734</td>\n",
              "    </tr>\n",
              "    <tr>\n",
              "      <th>1</th>\n",
              "      <td>{'lng': -42.95979662438254, 'lat': -22.8193182...</td>\n",
              "      <td>1</td>\n",
              "      <td>-22.819318</td>\n",
              "      <td>-42.959797</td>\n",
              "    </tr>\n",
              "    <tr>\n",
              "      <th>2</th>\n",
              "      <td>{'lng': -43.02744498762085, 'lat': -22.8819123...</td>\n",
              "      <td>4</td>\n",
              "      <td>-22.881912</td>\n",
              "      <td>-43.027445</td>\n",
              "    </tr>\n",
              "    <tr>\n",
              "      <th>3</th>\n",
              "      <td>{'lng': -42.958418030801106, 'lat': -22.832301...</td>\n",
              "      <td>4</td>\n",
              "      <td>-22.832302</td>\n",
              "      <td>-42.958418</td>\n",
              "    </tr>\n",
              "    <tr>\n",
              "      <th>4</th>\n",
              "      <td>{'lng': -43.10236857041057, 'lat': -22.8965692...</td>\n",
              "      <td>8</td>\n",
              "      <td>-22.896569</td>\n",
              "      <td>-43.102369</td>\n",
              "    </tr>\n",
              "  </tbody>\n",
              "</table>\n",
              "</div>"
            ],
            "text/plain": [
              "                                               rotas  ...  longitude\n",
              "0  {'lng': -43.10673388727864, 'lat': -22.9123848...  ... -43.106734\n",
              "1  {'lng': -42.95979662438254, 'lat': -22.8193182...  ... -42.959797\n",
              "2  {'lng': -43.02744498762085, 'lat': -22.8819123...  ... -43.027445\n",
              "3  {'lng': -42.958418030801106, 'lat': -22.832301...  ... -42.958418\n",
              "4  {'lng': -43.10236857041057, 'lat': -22.8965692...  ... -43.102369\n",
              "\n",
              "[5 rows x 4 columns]"
            ]
          },
          "metadata": {
            "tags": []
          },
          "execution_count": 4
        }
      ]
    },
    {
      "cell_type": "code",
      "metadata": {
        "colab": {
          "base_uri": "https://localhost:8080/",
          "height": 556
        },
        "id": "9nliHh4Qdny9",
        "outputId": "6b4fd27f-0475-40fc-b906-891ad82d9c16"
      },
      "source": [
        "# Gerando gráfico \n",
        "import matplotlib.pyplot as plt\n",
        "import seaborn as sns\n",
        "\n",
        "fig, ax = plt.subplots(nrows = 1, ncols = 1, figsize=(8,5),       # (largura, altura) em polegadas \n",
        "                       dpi=110)                                   # resolução (pontos/polegada)\n",
        "sns.scatterplot(data = df_subinstancia, x=\"longitude\", y=\"latitude\",  linewidth = 0,  color = 'black',size=\"demandas\", ax = ax)    # cor opcional\n",
        "ax.set_title('Instância Toy gerada', color = '#646369',loc='left', pad = 15,fontsize=13, weight='bold')\n",
        "ax.tick_params(axis='both', colors = '#646369',labelsize=10)         # modifica a aparência dos ticks, ticks labels e gridlines\n",
        "ax.spines['right'].set_visible(False)       # deixa invisível os eixos direito\n",
        "ax.spines['top'].set_visible(False)         # deixa invisível os eixos superior\n",
        "ax.spines['bottom'].set_color('#646369')       # inferior\n",
        "ax.spines['left'].set_color('#646369')         # esquerdo\n",
        "ax.set_xlabel('Longitude',color='#646369',fontsize=10,\n",
        "              position=(0, 0), horizontalalignment='left')\n",
        "ax.set_ylabel('Latitude', color='#646369', fontsize=10,\n",
        "              position=(0,1), horizontalalignment='right')"
      ],
      "execution_count": 5,
      "outputs": [
        {
          "output_type": "execute_result",
          "data": {
            "text/plain": [
              "Text(0, 1, 'Latitude')"
            ]
          },
          "metadata": {
            "tags": []
          },
          "execution_count": 5
        },
        {
          "output_type": "display_data",
          "data": {
            "image/png": "[encoded data removed]",
            "text/plain": [
              "<Figure size 880x550 with 1 Axes>"
            ]
          },
          "metadata": {
            "tags": [],
            "needs_background": "light"
          }
        }
      ]
    },
    {
      "cell_type": "markdown",
      "metadata": {
        "id": "xnLn26oOeMi0"
      },
      "source": [
        "Agora queremos dividir nosso problema em regiões. Em cada região, iremos instalar um depósito. Dos depósitos irão sair os veículos que farão a entrega em cada região. Algumas perguntas podem surgir.\n",
        "\n",
        "  - Quantos depósitos serão necessários?\n",
        "  - Como dividir as regiões?"
      ]
    },
    {
      "cell_type": "markdown",
      "metadata": {
        "id": "MwNni7w9njVF"
      },
      "source": [
        "## 4.2 -  O problema"
      ]
    },
    {
      "cell_type": "markdown",
      "metadata": {
        "id": "Ec_spif7y-7R"
      },
      "source": [
        "### 4.2.1 -  Agrupamento de acordo com critério de minimização da soma das distâncias"
      ]
    },
    {
      "cell_type": "markdown",
      "metadata": {
        "id": "SJ-ATxRenbW0"
      },
      "source": [
        "Seja **S = {$s_1$, $s_2$,...,$s_m$}** um conjunto de **m** observações pertencentes a um espaço euclideano com **n** dimensões. Essas observações devem ser agrupadas em um determinado número **q** de grupos. Para cada grupo temos um centróide associado,  $x_i$ $\\in$ $\\mathbf{R}^{nq}$."
      ]
    },
    {
      "cell_type": "markdown",
      "metadata": {
        "id": "1XJ2wZzsqbfD"
      },
      "source": [
        "Devemos separar o conjunto das **m observações** em **q grupos**, de forma a **minimizar** a soma das distâncias das observações aos centróides do grupo em que estão associadas. Temos um problema de agrupamento (clustering) segundo o critério de minimização da soma de distâncias como um problema do tipo min-sum-min:\n",
        "\n",
        "$$X^* = {arg min}_{X \\in \\mathbf{R}^{nq}} {\\sum_{j=1}^m {min_i} {|| {s}_j - {x}_i ||}^{2}}$$ \n"
      ]
    },
    {
      "cell_type": "markdown",
      "metadata": {
        "id": "b0NBenU-zPr4"
      },
      "source": [
        "### 4.2.2 -  Problema de Localização de Fermat-Weber"
      ]
    },
    {
      "cell_type": "markdown",
      "metadata": {
        "id": "sj8juOOwykRg"
      },
      "source": [
        "O problema contínuo da p-mediana (ou Multisource Weber Problem) busca minimizar o custo total de transporte das facilidades às cidades, ponderando o peso específico de cada uma delas.\n",
        "\n",
        "O  problema é semelhante ao de agrupamento, com a diferença que consideramos as demandas associadas ao ponto de atendimento j por ${w}_j$\n",
        "\n",
        "Assim, temos:"
      ]
    },
    {
      "cell_type": "markdown",
      "metadata": {
        "id": "xhvjwpK4r3S4"
      },
      "source": [
        "$$X^* = {arg min}_{X \\in \\mathbf{R}^{nq}} {\\sum_{j=1}^m {w_j} * {min_i} {|| {s}_j - {x}_i ||}^{2}}$$ "
      ]
    },
    {
      "cell_type": "markdown",
      "metadata": {
        "id": "IIG5GmPfhQmE"
      },
      "source": [
        "Resumindo,\n",
        "\n",
        "o **problema de agrupamento** pode ser considerado um **problema de localização da p-mediana** quando consideramos $w_j$ igual a 1.\n",
        "\n"
      ]
    },
    {
      "cell_type": "markdown",
      "metadata": {
        "id": "icTK2jONhlfv"
      },
      "source": [
        "Como podemos resolver o problema de agrupamento?\n",
        "\n",
        "<br>\n",
        "\n",
        "Podemos utilizar um algoritmo simples conhecido como K-means..."
      ]
    },
    {
      "cell_type": "markdown",
      "metadata": {
        "id": "yxBrNPQHVADu"
      },
      "source": [
        "### 4.2.3 - K-means"
      ]
    },
    {
      "cell_type": "markdown",
      "metadata": {
        "id": "xiaVqnnIVAlz"
      },
      "source": [
        "Documentação:\n",
        "\n",
        "  - https://scikit-learn.org/stable/modules/clustering.html#k-means\n"
      ]
    },
    {
      "cell_type": "markdown",
      "metadata": {
        "id": "3c4GPtL4eKT0"
      },
      "source": [
        "Resumindo o K-means:\n",
        "\n",
        "- Algoritmo de agrupamento do tipo **PARTIÇÃO** que trata o problema segundo o critério de mínima soma de quadrados.\n",
        "\n",
        "- No algoritmo, ${x_i}$ é o centro de gravidade do grupo i.\n",
        "\n",
        "- Método iterativo simples para particionar um conjunto de dados em um número de grupos especificado pelo usuário.\n",
        "\n"
      ]
    },
    {
      "cell_type": "markdown",
      "metadata": {
        "id": "tyah6YpQipk_"
      },
      "source": [
        "\n",
        " **K-MEANS**\n",
        "\n",
        "**Fonte:**\n",
        "\n",
        "https://medium.com/data-folks-indonesia/step-by-step-to-understanding-k-means-clustering-and-implementation-with-sklearn-b55803f519d6\n",
        "\n",
        "\n",
        "\n",
        "<figure>\n",
        "<center>\n",
        "<img src='https://drive.google.com/uc?export=view&id=1dA_ua-euUYUX3eNV1BUAqK9ExwJUFTDx' />\n",
        "<figcaption>Fluxograma K-means </figcaption></center>\n",
        "</figure>\n",
        "\n",
        "\n",
        "\n"
      ]
    },
    {
      "cell_type": "markdown",
      "metadata": {
        "id": "1gDUaEGyli9Y"
      },
      "source": [
        "## 4.3 -  Resolvendo o problema de geração de clusters por K-means"
      ]
    },
    {
      "cell_type": "code",
      "metadata": {
        "id": "wraAA1PYs9jJ"
      },
      "source": [
        "# Importando pacotes\n",
        "import pandas as pd\n",
        "import numpy as np\n",
        "import matplotlib.pylab as plt\n",
        "import seaborn as sns\n",
        "\n",
        "# Funções do sklearn que iremos utilizar\n",
        "from sklearn.preprocessing import StandardScaler           # Normalização dos dados\n",
        "from sklearn.cluster import KMeans                          # importando k-means"
      ],
      "execution_count": 14,
      "outputs": []
    },
    {
      "cell_type": "markdown",
      "metadata": {
        "id": "oWh-TIeBtA1x"
      },
      "source": [
        "### 4.3.1 - Normalização dos dados"
      ]
    },
    {
      "cell_type": "code",
      "metadata": {
        "colab": {
          "base_uri": "https://localhost:8080/",
          "height": 203
        },
        "id": "kNFLu-yAmRh1",
        "outputId": "17dbff90-2a89-4f2b-d407-7461b9f9e2ae"
      },
      "source": [
        "# Relembrando nosso conjunto de dados...\n",
        "df_subinstancia.head()"
      ],
      "execution_count": 15,
      "outputs": [
        {
          "output_type": "execute_result",
          "data": {
            "text/html": [
              "<div>\n",
              "<style scoped>\n",
              "    .dataframe tbody tr th:only-of-type {\n",
              "        vertical-align: middle;\n",
              "    }\n",
              "\n",
              "    .dataframe tbody tr th {\n",
              "        vertical-align: top;\n",
              "    }\n",
              "\n",
              "    .dataframe thead th {\n",
              "        text-align: right;\n",
              "    }\n",
              "</style>\n",
              "<table border=\"1\" class=\"dataframe\">\n",
              "  <thead>\n",
              "    <tr style=\"text-align: right;\">\n",
              "      <th></th>\n",
              "      <th>rotas</th>\n",
              "      <th>demandas</th>\n",
              "      <th>latitude</th>\n",
              "      <th>longitude</th>\n",
              "    </tr>\n",
              "  </thead>\n",
              "  <tbody>\n",
              "    <tr>\n",
              "      <th>0</th>\n",
              "      <td>{'lng': -43.10673388727864, 'lat': -22.9123848...</td>\n",
              "      <td>6</td>\n",
              "      <td>-22.912385</td>\n",
              "      <td>-43.106734</td>\n",
              "    </tr>\n",
              "    <tr>\n",
              "      <th>1</th>\n",
              "      <td>{'lng': -42.95979662438254, 'lat': -22.8193182...</td>\n",
              "      <td>1</td>\n",
              "      <td>-22.819318</td>\n",
              "      <td>-42.959797</td>\n",
              "    </tr>\n",
              "    <tr>\n",
              "      <th>2</th>\n",
              "      <td>{'lng': -43.02744498762085, 'lat': -22.8819123...</td>\n",
              "      <td>4</td>\n",
              "      <td>-22.881912</td>\n",
              "      <td>-43.027445</td>\n",
              "    </tr>\n",
              "    <tr>\n",
              "      <th>3</th>\n",
              "      <td>{'lng': -42.958418030801106, 'lat': -22.832301...</td>\n",
              "      <td>4</td>\n",
              "      <td>-22.832302</td>\n",
              "      <td>-42.958418</td>\n",
              "    </tr>\n",
              "    <tr>\n",
              "      <th>4</th>\n",
              "      <td>{'lng': -43.10236857041057, 'lat': -22.8965692...</td>\n",
              "      <td>8</td>\n",
              "      <td>-22.896569</td>\n",
              "      <td>-43.102369</td>\n",
              "    </tr>\n",
              "  </tbody>\n",
              "</table>\n",
              "</div>"
            ],
            "text/plain": [
              "                                               rotas  ...  longitude\n",
              "0  {'lng': -43.10673388727864, 'lat': -22.9123848...  ... -43.106734\n",
              "1  {'lng': -42.95979662438254, 'lat': -22.8193182...  ... -42.959797\n",
              "2  {'lng': -43.02744498762085, 'lat': -22.8819123...  ... -43.027445\n",
              "3  {'lng': -42.958418030801106, 'lat': -22.832301...  ... -42.958418\n",
              "4  {'lng': -43.10236857041057, 'lat': -22.8965692...  ... -43.102369\n",
              "\n",
              "[5 rows x 4 columns]"
            ]
          },
          "metadata": {
            "tags": []
          },
          "execution_count": 15
        }
      ]
    },
    {
      "cell_type": "markdown",
      "metadata": {
        "id": "4BcC1MSVmZX4"
      },
      "source": [
        "Para fazer a clusterização, vamos utilizar as duas últimas colunas (latitude e longitude) que são as variáveis necessárias para fazer o agrupamento."
      ]
    },
    {
      "cell_type": "code",
      "metadata": {
        "colab": {
          "base_uri": "https://localhost:8080/",
          "height": 142
        },
        "id": "JTUEL91zkoQa",
        "outputId": "995c09e5-2f5f-4760-d90e-87b7b5923b90"
      },
      "source": [
        "# Gerando o subconjunto data, que desconsidera as colunas rotas, demandas\n",
        "data = df_subinstancia.iloc[:, 2:]             \n",
        "data.head(3)"
      ],
      "execution_count": 16,
      "outputs": [
        {
          "output_type": "execute_result",
          "data": {
            "text/html": [
              "<div>\n",
              "<style scoped>\n",
              "    .dataframe tbody tr th:only-of-type {\n",
              "        vertical-align: middle;\n",
              "    }\n",
              "\n",
              "    .dataframe tbody tr th {\n",
              "        vertical-align: top;\n",
              "    }\n",
              "\n",
              "    .dataframe thead th {\n",
              "        text-align: right;\n",
              "    }\n",
              "</style>\n",
              "<table border=\"1\" class=\"dataframe\">\n",
              "  <thead>\n",
              "    <tr style=\"text-align: right;\">\n",
              "      <th></th>\n",
              "      <th>latitude</th>\n",
              "      <th>longitude</th>\n",
              "    </tr>\n",
              "  </thead>\n",
              "  <tbody>\n",
              "    <tr>\n",
              "      <th>0</th>\n",
              "      <td>-22.912385</td>\n",
              "      <td>-43.106734</td>\n",
              "    </tr>\n",
              "    <tr>\n",
              "      <th>1</th>\n",
              "      <td>-22.819318</td>\n",
              "      <td>-42.959797</td>\n",
              "    </tr>\n",
              "    <tr>\n",
              "      <th>2</th>\n",
              "      <td>-22.881912</td>\n",
              "      <td>-43.027445</td>\n",
              "    </tr>\n",
              "  </tbody>\n",
              "</table>\n",
              "</div>"
            ],
            "text/plain": [
              "    latitude  longitude\n",
              "0 -22.912385 -43.106734\n",
              "1 -22.819318 -42.959797\n",
              "2 -22.881912 -43.027445"
            ]
          },
          "metadata": {
            "tags": []
          },
          "execution_count": 16
        }
      ]
    },
    {
      "cell_type": "code",
      "metadata": {
        "colab": {
          "base_uri": "https://localhost:8080/",
          "height": 142
        },
        "id": "Rx3w69TIm52O",
        "outputId": "f1a7cb66-c91b-4fd5-b1ec-1dc5149fc1aa"
      },
      "source": [
        "# Normalização dos dados por StandardScale:\n",
        "from sklearn.preprocessing import StandardScaler\n",
        "sc_x = StandardScaler()   # chamando o comando\n",
        "data1 = sc_x.fit_transform(data)     # normalizando os dados\n",
        "data1 = pd.DataFrame(data1, columns = data.columns)    # transformando para dataframe\n",
        "data1.head(3)"
      ],
      "execution_count": 17,
      "outputs": [
        {
          "output_type": "execute_result",
          "data": {
            "text/html": [
              "<div>\n",
              "<style scoped>\n",
              "    .dataframe tbody tr th:only-of-type {\n",
              "        vertical-align: middle;\n",
              "    }\n",
              "\n",
              "    .dataframe tbody tr th {\n",
              "        vertical-align: top;\n",
              "    }\n",
              "\n",
              "    .dataframe thead th {\n",
              "        text-align: right;\n",
              "    }\n",
              "</style>\n",
              "<table border=\"1\" class=\"dataframe\">\n",
              "  <thead>\n",
              "    <tr style=\"text-align: right;\">\n",
              "      <th></th>\n",
              "      <th>latitude</th>\n",
              "      <th>longitude</th>\n",
              "    </tr>\n",
              "  </thead>\n",
              "  <tbody>\n",
              "    <tr>\n",
              "      <th>0</th>\n",
              "      <td>-0.887659</td>\n",
              "      <td>-0.851741</td>\n",
              "    </tr>\n",
              "    <tr>\n",
              "      <th>1</th>\n",
              "      <td>0.825081</td>\n",
              "      <td>1.368802</td>\n",
              "    </tr>\n",
              "    <tr>\n",
              "      <th>2</th>\n",
              "      <td>-0.326862</td>\n",
              "      <td>0.346487</td>\n",
              "    </tr>\n",
              "  </tbody>\n",
              "</table>\n",
              "</div>"
            ],
            "text/plain": [
              "   latitude  longitude\n",
              "0 -0.887659  -0.851741\n",
              "1  0.825081   1.368802\n",
              "2 -0.326862   0.346487"
            ]
          },
          "metadata": {
            "tags": []
          },
          "execution_count": 17
        }
      ]
    },
    {
      "cell_type": "markdown",
      "metadata": {
        "id": "ja8xbmnCu9TM"
      },
      "source": [
        "### 4.3.2 - Aplicando K-means"
      ]
    },
    {
      "cell_type": "markdown",
      "metadata": {
        "id": "lcTSY5Zepuhm"
      },
      "source": [
        "#### Decidindo número de clusters"
      ]
    },
    {
      "cell_type": "markdown",
      "metadata": {
        "id": "Wq-qNx12lvdd"
      },
      "source": [
        "O **número de clusters K** é parâmetro de entrada do K-means. Quando não conhecemos os dados, como podemos fazer para definir esse número? \n",
        "\n",
        "Diferentes abordagens podem ser utilizadas para encontrar o número ideal de clusters. O objetivo é encontrar o número mínimo de clusters que particionam com precisão o conjunto dos dados.\n",
        "\n",
        "\n"
      ]
    },
    {
      "cell_type": "markdown",
      "metadata": {
        "id": "3nT_8FyLm2C3"
      },
      "source": [
        "Podemos utilizar o método do cotovelo:\n",
        "\n",
        "  -  A soma da distância quadrada de cada ponto até o centróide do cluster mais próximo (chamada de inércia no scikit-learn) é traçada para um número crescente de clusters.\n",
        "  -  À medida que o número de clusters aumenta e se ajusta melhor aos dados, o erro diminui.\n",
        "  - O cotovelo da curva representa o ponto de retornos decrescentes onde o aumento do número de clusters não reduz o erro de forma considerável."
      ]
    },
    {
      "cell_type": "code",
      "metadata": {
        "id": "ZUIdvwH2nsqQ"
      },
      "source": [
        "# Importando o pacote\n",
        "from sklearn.cluster import KMeans"
      ],
      "execution_count": 18,
      "outputs": []
    },
    {
      "cell_type": "code",
      "metadata": {
        "colab": {
          "base_uri": "https://localhost:8080/",
          "height": 360
        },
        "id": "EY1jeXXEuIXo",
        "outputId": "5fd5a702-71c5-4d8c-8956-39d8e982a3e3"
      },
      "source": [
        "# dados que estamos utilizando: data1\n",
        "\n",
        "inertias = []       # lista que irá coletar as informações de inércia para cada k\n",
        "means = []          # lista que guarda os valores de cada k\n",
        "maxK = 30           # número máximo de k a ser testado\n",
        "\n",
        "for k in range(1, maxK):\n",
        "    kmeans = KMeans(n_clusters=k, random_state=0).fit(data1)      # ajustamos o modelo\n",
        "    means.append(k)                                               # adicionamos o valor de k\n",
        "    inertias.append(kmeans.inertia_)   # adicionamos o valor da soma do quadrado das distâncias das amostras para seus respectivos centros do cluster mais próximos\n",
        "\n",
        "plt.figure(figsize=(8,5))   # tamanho da figura\n",
        "plt.plot(means, inertias, 'o-')\n",
        "plt.xlabel('Número de Clusters',fontsize=16,color = 'black')\n",
        "plt.ylabel('Soma do quadrado das distâncias',fontsize=16,color = 'black')\n",
        "plt.xticks(fontsize=16,color = 'black')\n",
        "plt.yticks(fontsize=16,color = 'black')\n",
        "plt.title('Método do Cotovelo para decidir número de clusters K')\n",
        "plt.grid(b='on')"
      ],
      "execution_count": 19,
      "outputs": [
        {
          "output_type": "display_data",
          "data": {
            "image/png": "[encoded data removed]",
            "text/plain": [
              "<Figure size 576x360 with 1 Axes>"
            ]
          },
          "metadata": {
            "tags": [],
            "needs_background": "light"
          }
        }
      ]
    },
    {
      "cell_type": "markdown",
      "metadata": {
        "id": "u5_kONBSoVYw"
      },
      "source": [
        "Pelo método do cotovelo, vemos que 5 é um bom número de clusters."
      ]
    },
    {
      "cell_type": "markdown",
      "metadata": {
        "id": "-6g8k2brp11l"
      },
      "source": [
        "#### Aplicando K-means com os 5 clusters"
      ]
    },
    {
      "cell_type": "code",
      "metadata": {
        "colab": {
          "base_uri": "https://localhost:8080/",
          "height": 203
        },
        "id": "8JUOKwW_v0EZ",
        "outputId": "e46abf91-7232-4ccf-ad68-56b55d882eda"
      },
      "source": [
        "# quais dados estamos trabalhando?\n",
        "data1.head()"
      ],
      "execution_count": 20,
      "outputs": [
        {
          "output_type": "execute_result",
          "data": {
            "text/html": [
              "<div>\n",
              "<style scoped>\n",
              "    .dataframe tbody tr th:only-of-type {\n",
              "        vertical-align: middle;\n",
              "    }\n",
              "\n",
              "    .dataframe tbody tr th {\n",
              "        vertical-align: top;\n",
              "    }\n",
              "\n",
              "    .dataframe thead th {\n",
              "        text-align: right;\n",
              "    }\n",
              "</style>\n",
              "<table border=\"1\" class=\"dataframe\">\n",
              "  <thead>\n",
              "    <tr style=\"text-align: right;\">\n",
              "      <th></th>\n",
              "      <th>latitude</th>\n",
              "      <th>longitude</th>\n",
              "    </tr>\n",
              "  </thead>\n",
              "  <tbody>\n",
              "    <tr>\n",
              "      <th>0</th>\n",
              "      <td>-0.887659</td>\n",
              "      <td>-0.851741</td>\n",
              "    </tr>\n",
              "    <tr>\n",
              "      <th>1</th>\n",
              "      <td>0.825081</td>\n",
              "      <td>1.368802</td>\n",
              "    </tr>\n",
              "    <tr>\n",
              "      <th>2</th>\n",
              "      <td>-0.326862</td>\n",
              "      <td>0.346487</td>\n",
              "    </tr>\n",
              "    <tr>\n",
              "      <th>3</th>\n",
              "      <td>0.586139</td>\n",
              "      <td>1.389635</td>\n",
              "    </tr>\n",
              "    <tr>\n",
              "      <th>4</th>\n",
              "      <td>-0.596598</td>\n",
              "      <td>-0.785772</td>\n",
              "    </tr>\n",
              "  </tbody>\n",
              "</table>\n",
              "</div>"
            ],
            "text/plain": [
              "   latitude  longitude\n",
              "0 -0.887659  -0.851741\n",
              "1  0.825081   1.368802\n",
              "2 -0.326862   0.346487\n",
              "3  0.586139   1.389635\n",
              "4 -0.596598  -0.785772"
            ]
          },
          "metadata": {
            "tags": []
          },
          "execution_count": 20
        }
      ]
    },
    {
      "cell_type": "markdown",
      "metadata": {
        "id": "eVL9HpBdoUe4"
      },
      "source": [
        "Ajustando os dados data1 com k-means:"
      ]
    },
    {
      "cell_type": "code",
      "metadata": {
        "id": "1Z1pspYNvDPX",
        "colab": {
          "base_uri": "https://localhost:8080/"
        },
        "outputId": "1869900c-7cb3-4e5e-bafd-db57839deab0"
      },
      "source": [
        "kmeans = KMeans(n_clusters=5, random_state=0)         # K-means com 6 clusters\n",
        "kmeans.fit(data1.loc[:,:])"
      ],
      "execution_count": 22,
      "outputs": [
        {
          "output_type": "execute_result",
          "data": {
            "text/plain": [
              "KMeans(algorithm='auto', copy_x=True, init='k-means++', max_iter=300,\n",
              "       n_clusters=5, n_init=10, n_jobs=None, precompute_distances='auto',\n",
              "       random_state=0, tol=0.0001, verbose=0)"
            ]
          },
          "metadata": {
            "tags": []
          },
          "execution_count": 22
        }
      ]
    },
    {
      "cell_type": "code",
      "metadata": {
        "id": "xrSvDmbMqYJO"
      },
      "source": [
        "# Adicionando o cluster de cada registro no dataframe original\n",
        "df_subinstancia['Cluster'] = kmeans.labels_ + 1                   # adicionando cluster que cada registro se encontra no dataframe df_subinstancia\n",
        "\n",
        "## OBS: Somamos 1 só para termos clusters 1,2,3,4,5. Sem o 1, teríamos os clusters 0,1,2,3 e 4. Então é só por questão de estética mesmo. Não é obrigatório"
      ],
      "execution_count": 23,
      "outputs": []
    },
    {
      "cell_type": "code",
      "metadata": {
        "colab": {
          "base_uri": "https://localhost:8080/"
        },
        "id": "tdbOeVIbrCKz",
        "outputId": "7d7618ac-fbb6-486e-9fec-998894fb62dc"
      },
      "source": [
        "# Como podemos pegar as métricas dos centróides (latitude e longitude)?\n",
        "kmeans.cluster_centers_"
      ],
      "execution_count": 24,
      "outputs": [
        {
          "output_type": "execute_result",
          "data": {
            "text/plain": [
              "array([[ 0.56352406, -0.15370335],\n",
              "       [-0.66209918, -0.81529392],\n",
              "       [ 0.85523893,  0.7593543 ],\n",
              "       [ 2.14770648,  2.54643067],\n",
              "       [-1.10944542,  0.27039823]])"
            ]
          },
          "metadata": {
            "tags": []
          },
          "execution_count": 24
        }
      ]
    },
    {
      "cell_type": "markdown",
      "metadata": {
        "id": "ucsZd-wZsG5E"
      },
      "source": [
        "Notar que ainda estamos com os dados normalizados, pois estamos usando data1 que foi normalizada. Como podemos voltar os dados para o formato original?"
      ]
    },
    {
      "cell_type": "code",
      "metadata": {
        "colab": {
          "base_uri": "https://localhost:8080/"
        },
        "id": "UH_lnD_EqOUu",
        "outputId": "ba29b5f0-021a-4881-9dd5-60fdfde539af"
      },
      "source": [
        "# volta para o original\n",
        "sc_x.inverse_transform(kmeans.cluster_centers_) "
      ],
      "execution_count": 25,
      "outputs": [
        {
          "output_type": "execute_result",
          "data": {
            "text/plain": [
              "array([[-22.83353067, -43.06054348],\n",
              "       [-22.90012843, -43.1043221 ],\n",
              "       [-22.8176795 , -43.00012484],\n",
              "       [-22.74744956, -42.88187083],\n",
              "       [-22.92443627, -43.03247993]])"
            ]
          },
          "metadata": {
            "tags": []
          },
          "execution_count": 25
        }
      ]
    },
    {
      "cell_type": "code",
      "metadata": {
        "colab": {
          "base_uri": "https://localhost:8080/",
          "height": 203
        },
        "id": "eP3wsbWt9ZuT",
        "outputId": "c35deb5a-522a-42d2-9cdb-8c9653ea8c07"
      },
      "source": [
        "# criando um dataframe com essas medidas:\n",
        "centros = pd.DataFrame(sc_x.inverse_transform(kmeans.cluster_centers_), columns = ['latitude','longitude'])\n",
        "centros['cluster'] = range(1,6)   # número dos clusters\n",
        "centros"
      ],
      "execution_count": 26,
      "outputs": [
        {
          "output_type": "execute_result",
          "data": {
            "text/html": [
              "<div>\n",
              "<style scoped>\n",
              "    .dataframe tbody tr th:only-of-type {\n",
              "        vertical-align: middle;\n",
              "    }\n",
              "\n",
              "    .dataframe tbody tr th {\n",
              "        vertical-align: top;\n",
              "    }\n",
              "\n",
              "    .dataframe thead th {\n",
              "        text-align: right;\n",
              "    }\n",
              "</style>\n",
              "<table border=\"1\" class=\"dataframe\">\n",
              "  <thead>\n",
              "    <tr style=\"text-align: right;\">\n",
              "      <th></th>\n",
              "      <th>latitude</th>\n",
              "      <th>longitude</th>\n",
              "      <th>cluster</th>\n",
              "    </tr>\n",
              "  </thead>\n",
              "  <tbody>\n",
              "    <tr>\n",
              "      <th>0</th>\n",
              "      <td>-22.833531</td>\n",
              "      <td>-43.060543</td>\n",
              "      <td>1</td>\n",
              "    </tr>\n",
              "    <tr>\n",
              "      <th>1</th>\n",
              "      <td>-22.900128</td>\n",
              "      <td>-43.104322</td>\n",
              "      <td>2</td>\n",
              "    </tr>\n",
              "    <tr>\n",
              "      <th>2</th>\n",
              "      <td>-22.817680</td>\n",
              "      <td>-43.000125</td>\n",
              "      <td>3</td>\n",
              "    </tr>\n",
              "    <tr>\n",
              "      <th>3</th>\n",
              "      <td>-22.747450</td>\n",
              "      <td>-42.881871</td>\n",
              "      <td>4</td>\n",
              "    </tr>\n",
              "    <tr>\n",
              "      <th>4</th>\n",
              "      <td>-22.924436</td>\n",
              "      <td>-43.032480</td>\n",
              "      <td>5</td>\n",
              "    </tr>\n",
              "  </tbody>\n",
              "</table>\n",
              "</div>"
            ],
            "text/plain": [
              "    latitude  longitude  cluster\n",
              "0 -22.833531 -43.060543        1\n",
              "1 -22.900128 -43.104322        2\n",
              "2 -22.817680 -43.000125        3\n",
              "3 -22.747450 -42.881871        4\n",
              "4 -22.924436 -43.032480        5"
            ]
          },
          "metadata": {
            "tags": []
          },
          "execution_count": 26
        }
      ]
    },
    {
      "cell_type": "code",
      "metadata": {
        "id": "eO8GbQjRrX1J"
      },
      "source": [
        "# Fazer o gráfico com os clusters"
      ],
      "execution_count": null,
      "outputs": []
    },
    {
      "cell_type": "code",
      "metadata": {
        "colab": {
          "base_uri": "https://localhost:8080/",
          "height": 555
        },
        "id": "pZASQSeWvaDJ",
        "outputId": "d581d365-92af-474c-9fdf-a36958de805c"
      },
      "source": [
        "# Importando as Bibliotecas \n",
        "import matplotlib.pyplot as plt\n",
        "import seaborn as sns\n",
        "fig, ax = plt.subplots(nrows = 1, ncols = 1, figsize=(8,5),       # (largura, altura) em polegadas \n",
        "                       dpi=110)                                   # resolução (pontos/polegada)\n",
        "\n",
        "# pontos:\n",
        "sns.scatterplot(data = df_subinstancia, x=\"longitude\", y=\"latitude\",  linewidth = 0,  hue = 'Cluster' , ax = ax)    # cor opcional\n",
        "# clusters:\n",
        "sns.scatterplot(data = centros, x=\"longitude\", y=\"latitude\",  s = 90, marker=\"X\",linewidth=0, color = 'red' , ax = ax)    # cor opcional\n",
        "\n",
        "ax.set_title('Divisão dos clusters', color = '#646369',loc='left', pad = 15,fontsize=13, weight='bold')\n",
        "ax.tick_params(axis='both', colors = '#646369',labelsize=10)         # modifica a aparência dos ticks, ticks labels e gridlines\n",
        "ax.spines['right'].set_visible(False)       # deixa invisível os eixos direito\n",
        "ax.spines['top'].set_visible(False)         # deixa invisível os eixos superior\n",
        "ax.spines['bottom'].set_color('#646369')       # inferior\n",
        "ax.spines['left'].set_color('#646369')         # esquerdo\n",
        "ax.set_xlabel('Longitude',color='#646369',fontsize=10,\n",
        "              position=(0, 0), horizontalalignment='left')\n",
        "ax.set_ylabel('Latitude', color='#646369', fontsize=10,\n",
        "              position=(0,1), horizontalalignment='right')\n",
        "\n",
        "ax.legend(title='Clusters')\n"
      ],
      "execution_count": 27,
      "outputs": [
        {
          "output_type": "execute_result",
          "data": {
            "text/plain": [
              "<matplotlib.legend.Legend at 0x7f4890f04f50>"
            ]
          },
          "metadata": {
            "tags": []
          },
          "execution_count": 27
        },
        {
          "output_type": "display_data",
          "data": {
            "image/png": "[encoded data removed]",
            "text/plain": [
              "<Figure size 880x550 with 1 Axes>"
            ]
          },
          "metadata": {
            "tags": [],
            "needs_background": "light"
          }
        }
      ]
    },
    {
      "cell_type": "code",
      "metadata": {
        "id": "1jKBZlosvaGC",
        "colab": {
          "base_uri": "https://localhost:8080/",
          "height": 203
        },
        "outputId": "4d03d9c3-1011-4d73-9d6c-8f9e18db4911"
      },
      "source": [
        "# resposta:\n",
        "df_subinstancia.head()"
      ],
      "execution_count": null,
      "outputs": [
        {
          "output_type": "execute_result",
          "data": {
            "text/html": [
              "<div>\n",
              "<style scoped>\n",
              "    .dataframe tbody tr th:only-of-type {\n",
              "        vertical-align: middle;\n",
              "    }\n",
              "\n",
              "    .dataframe tbody tr th {\n",
              "        vertical-align: top;\n",
              "    }\n",
              "\n",
              "    .dataframe thead th {\n",
              "        text-align: right;\n",
              "    }\n",
              "</style>\n",
              "<table border=\"1\" class=\"dataframe\">\n",
              "  <thead>\n",
              "    <tr style=\"text-align: right;\">\n",
              "      <th></th>\n",
              "      <th>rotas</th>\n",
              "      <th>demandas</th>\n",
              "      <th>latitude</th>\n",
              "      <th>longitude</th>\n",
              "      <th>Cluster</th>\n",
              "    </tr>\n",
              "  </thead>\n",
              "  <tbody>\n",
              "    <tr>\n",
              "      <th>0</th>\n",
              "      <td>{'lng': -43.10673388727864, 'lat': -22.9123848...</td>\n",
              "      <td>6</td>\n",
              "      <td>-22.912385</td>\n",
              "      <td>-43.106734</td>\n",
              "      <td>2</td>\n",
              "    </tr>\n",
              "    <tr>\n",
              "      <th>1</th>\n",
              "      <td>{'lng': -42.95979662438254, 'lat': -22.8193182...</td>\n",
              "      <td>1</td>\n",
              "      <td>-22.819318</td>\n",
              "      <td>-42.959797</td>\n",
              "      <td>3</td>\n",
              "    </tr>\n",
              "    <tr>\n",
              "      <th>2</th>\n",
              "      <td>{'lng': -43.02744498762085, 'lat': -22.8819123...</td>\n",
              "      <td>4</td>\n",
              "      <td>-22.881912</td>\n",
              "      <td>-43.027445</td>\n",
              "      <td>5</td>\n",
              "    </tr>\n",
              "    <tr>\n",
              "      <th>3</th>\n",
              "      <td>{'lng': -42.958418030801106, 'lat': -22.832301...</td>\n",
              "      <td>4</td>\n",
              "      <td>-22.832302</td>\n",
              "      <td>-42.958418</td>\n",
              "      <td>3</td>\n",
              "    </tr>\n",
              "    <tr>\n",
              "      <th>4</th>\n",
              "      <td>{'lng': -43.10236857041057, 'lat': -22.8965692...</td>\n",
              "      <td>8</td>\n",
              "      <td>-22.896569</td>\n",
              "      <td>-43.102369</td>\n",
              "      <td>2</td>\n",
              "    </tr>\n",
              "  </tbody>\n",
              "</table>\n",
              "</div>"
            ],
            "text/plain": [
              "                                               rotas  ...  Cluster\n",
              "0  {'lng': -43.10673388727864, 'lat': -22.9123848...  ...        2\n",
              "1  {'lng': -42.95979662438254, 'lat': -22.8193182...  ...        3\n",
              "2  {'lng': -43.02744498762085, 'lat': -22.8819123...  ...        5\n",
              "3  {'lng': -42.958418030801106, 'lat': -22.832301...  ...        3\n",
              "4  {'lng': -43.10236857041057, 'lat': -22.8965692...  ...        2\n",
              "\n",
              "[5 rows x 5 columns]"
            ]
          },
          "metadata": {
            "tags": []
          },
          "execution_count": 79
        }
      ]
    },
    {
      "cell_type": "code",
      "metadata": {
        "colab": {
          "base_uri": "https://localhost:8080/"
        },
        "id": "ijEWGxy3jZ8F",
        "outputId": "713da2f3-a0d4-4e85-d830-e6763a343e6a"
      },
      "source": [
        "# quantidade de pontos por cluster\n",
        "df_subinstancia['Cluster'].value_counts()"
      ],
      "execution_count": null,
      "outputs": [
        {
          "output_type": "execute_result",
          "data": {
            "text/plain": [
              "2    216\n",
              "3    102\n",
              "1     82\n",
              "5     63\n",
              "4     37\n",
              "Name: Cluster, dtype: int64"
            ]
          },
          "metadata": {
            "tags": []
          },
          "execution_count": 80
        }
      ]
    },
    {
      "cell_type": "markdown",
      "metadata": {
        "id": "bm2KbtBPseJY"
      },
      "source": [
        "Por questão de esforço computacional, iremos escolher 4 clusters para mostrar as próximas etapas."
      ]
    },
    {
      "cell_type": "code",
      "metadata": {
        "id": "SXY8X-kQvaLJ",
        "colab": {
          "base_uri": "https://localhost:8080/",
          "height": 203
        },
        "outputId": "ab0effee-f716-4bcb-9377-0b7954b39e47"
      },
      "source": [
        "df_cluster4 = df_subinstancia.loc[df_subinstancia['Cluster'] == 4,:]\n",
        "df_cluster4.head()"
      ],
      "execution_count": null,
      "outputs": [
        {
          "output_type": "execute_result",
          "data": {
            "text/html": [
              "<div>\n",
              "<style scoped>\n",
              "    .dataframe tbody tr th:only-of-type {\n",
              "        vertical-align: middle;\n",
              "    }\n",
              "\n",
              "    .dataframe tbody tr th {\n",
              "        vertical-align: top;\n",
              "    }\n",
              "\n",
              "    .dataframe thead th {\n",
              "        text-align: right;\n",
              "    }\n",
              "</style>\n",
              "<table border=\"1\" class=\"dataframe\">\n",
              "  <thead>\n",
              "    <tr style=\"text-align: right;\">\n",
              "      <th></th>\n",
              "      <th>rotas</th>\n",
              "      <th>demandas</th>\n",
              "      <th>latitude</th>\n",
              "      <th>longitude</th>\n",
              "      <th>Cluster</th>\n",
              "    </tr>\n",
              "  </thead>\n",
              "  <tbody>\n",
              "    <tr>\n",
              "      <th>15</th>\n",
              "      <td>{'lng': -42.92705867402125, 'lat': -22.7881124...</td>\n",
              "      <td>7</td>\n",
              "      <td>-22.788112</td>\n",
              "      <td>-42.927059</td>\n",
              "      <td>4</td>\n",
              "    </tr>\n",
              "    <tr>\n",
              "      <th>21</th>\n",
              "      <td>{'lng': -42.827461886756275, 'lat': -22.725373...</td>\n",
              "      <td>10</td>\n",
              "      <td>-22.725374</td>\n",
              "      <td>-42.827462</td>\n",
              "      <td>4</td>\n",
              "    </tr>\n",
              "    <tr>\n",
              "      <th>56</th>\n",
              "      <td>{'lng': -42.89710859232077, 'lat': -22.7893503...</td>\n",
              "      <td>5</td>\n",
              "      <td>-22.789350</td>\n",
              "      <td>-42.897109</td>\n",
              "      <td>4</td>\n",
              "    </tr>\n",
              "    <tr>\n",
              "      <th>107</th>\n",
              "      <td>{'lng': -42.88723394420894, 'lat': -22.7463572...</td>\n",
              "      <td>1</td>\n",
              "      <td>-22.746357</td>\n",
              "      <td>-42.887234</td>\n",
              "      <td>4</td>\n",
              "    </tr>\n",
              "    <tr>\n",
              "      <th>145</th>\n",
              "      <td>{'lng': -42.93574292860143, 'lat': -22.7390110...</td>\n",
              "      <td>3</td>\n",
              "      <td>-22.739011</td>\n",
              "      <td>-42.935743</td>\n",
              "      <td>4</td>\n",
              "    </tr>\n",
              "  </tbody>\n",
              "</table>\n",
              "</div>"
            ],
            "text/plain": [
              "                                                 rotas  ...  Cluster\n",
              "15   {'lng': -42.92705867402125, 'lat': -22.7881124...  ...        4\n",
              "21   {'lng': -42.827461886756275, 'lat': -22.725373...  ...        4\n",
              "56   {'lng': -42.89710859232077, 'lat': -22.7893503...  ...        4\n",
              "107  {'lng': -42.88723394420894, 'lat': -22.7463572...  ...        4\n",
              "145  {'lng': -42.93574292860143, 'lat': -22.7390110...  ...        4\n",
              "\n",
              "[5 rows x 5 columns]"
            ]
          },
          "metadata": {
            "tags": []
          },
          "execution_count": 81
        }
      ]
    },
    {
      "cell_type": "code",
      "metadata": {
        "colab": {
          "base_uri": "https://localhost:8080/"
        },
        "id": "InwIjUujs_Vg",
        "outputId": "4e455d49-44f6-4d43-be7f-6197f2d869dc"
      },
      "source": [
        "# num linhas, colunas\n",
        "df_cluster4.shape"
      ],
      "execution_count": null,
      "outputs": [
        {
          "output_type": "execute_result",
          "data": {
            "text/plain": [
              "(37, 5)"
            ]
          },
          "metadata": {
            "tags": []
          },
          "execution_count": 82
        }
      ]
    },
    {
      "cell_type": "code",
      "metadata": {
        "id": "j4tQRD8EsoWe"
      },
      "source": [
        "# mudando o índice\n",
        "df_cluster4.index = range(len(df_cluster4))"
      ],
      "execution_count": null,
      "outputs": []
    },
    {
      "cell_type": "code",
      "metadata": {
        "colab": {
          "base_uri": "https://localhost:8080/",
          "height": 203
        },
        "id": "-qVrQW6asoZN",
        "outputId": "c5a73956-1820-4b4b-b084-ada71d3bec64"
      },
      "source": [
        "df_cluster4.head()"
      ],
      "execution_count": null,
      "outputs": [
        {
          "output_type": "execute_result",
          "data": {
            "text/html": [
              "<div>\n",
              "<style scoped>\n",
              "    .dataframe tbody tr th:only-of-type {\n",
              "        vertical-align: middle;\n",
              "    }\n",
              "\n",
              "    .dataframe tbody tr th {\n",
              "        vertical-align: top;\n",
              "    }\n",
              "\n",
              "    .dataframe thead th {\n",
              "        text-align: right;\n",
              "    }\n",
              "</style>\n",
              "<table border=\"1\" class=\"dataframe\">\n",
              "  <thead>\n",
              "    <tr style=\"text-align: right;\">\n",
              "      <th></th>\n",
              "      <th>rotas</th>\n",
              "      <th>demandas</th>\n",
              "      <th>latitude</th>\n",
              "      <th>longitude</th>\n",
              "      <th>Cluster</th>\n",
              "    </tr>\n",
              "  </thead>\n",
              "  <tbody>\n",
              "    <tr>\n",
              "      <th>0</th>\n",
              "      <td>{'lng': -42.92705867402125, 'lat': -22.7881124...</td>\n",
              "      <td>7</td>\n",
              "      <td>-22.788112</td>\n",
              "      <td>-42.927059</td>\n",
              "      <td>4</td>\n",
              "    </tr>\n",
              "    <tr>\n",
              "      <th>1</th>\n",
              "      <td>{'lng': -42.827461886756275, 'lat': -22.725373...</td>\n",
              "      <td>10</td>\n",
              "      <td>-22.725374</td>\n",
              "      <td>-42.827462</td>\n",
              "      <td>4</td>\n",
              "    </tr>\n",
              "    <tr>\n",
              "      <th>2</th>\n",
              "      <td>{'lng': -42.89710859232077, 'lat': -22.7893503...</td>\n",
              "      <td>5</td>\n",
              "      <td>-22.789350</td>\n",
              "      <td>-42.897109</td>\n",
              "      <td>4</td>\n",
              "    </tr>\n",
              "    <tr>\n",
              "      <th>3</th>\n",
              "      <td>{'lng': -42.88723394420894, 'lat': -22.7463572...</td>\n",
              "      <td>1</td>\n",
              "      <td>-22.746357</td>\n",
              "      <td>-42.887234</td>\n",
              "      <td>4</td>\n",
              "    </tr>\n",
              "    <tr>\n",
              "      <th>4</th>\n",
              "      <td>{'lng': -42.93574292860143, 'lat': -22.7390110...</td>\n",
              "      <td>3</td>\n",
              "      <td>-22.739011</td>\n",
              "      <td>-42.935743</td>\n",
              "      <td>4</td>\n",
              "    </tr>\n",
              "  </tbody>\n",
              "</table>\n",
              "</div>"
            ],
            "text/plain": [
              "                                               rotas  ...  Cluster\n",
              "0  {'lng': -42.92705867402125, 'lat': -22.7881124...  ...        4\n",
              "1  {'lng': -42.827461886756275, 'lat': -22.725373...  ...        4\n",
              "2  {'lng': -42.89710859232077, 'lat': -22.7893503...  ...        4\n",
              "3  {'lng': -42.88723394420894, 'lat': -22.7463572...  ...        4\n",
              "4  {'lng': -42.93574292860143, 'lat': -22.7390110...  ...        4\n",
              "\n",
              "[5 rows x 5 columns]"
            ]
          },
          "metadata": {
            "tags": []
          },
          "execution_count": 85
        }
      ]
    },
    {
      "cell_type": "markdown",
      "metadata": {
        "id": "R5D2N9sGvBaz"
      },
      "source": [
        "Vamos agora adicionar as informações do nosso depósito (a localização do centróide do cluster 4) no nosso dataframe original."
      ]
    },
    {
      "cell_type": "code",
      "metadata": {
        "id": "jjdfQwehwkt5",
        "colab": {
          "base_uri": "https://localhost:8080/",
          "height": 80
        },
        "outputId": "4bc92f44-d534-4acb-8a64-dc33ee471335"
      },
      "source": [
        "new = {'rotas': 'origem', 'demandas': np.nan, 'latitude': centros.loc[3,'latitude'], 'longitude': centros.loc[3,'longitude'], 'Cluster': 4}\n",
        "nova_linha = pd.DataFrame(new,index = [0])\n",
        "nova_linha"
      ],
      "execution_count": null,
      "outputs": [
        {
          "output_type": "execute_result",
          "data": {
            "text/html": [
              "<div>\n",
              "<style scoped>\n",
              "    .dataframe tbody tr th:only-of-type {\n",
              "        vertical-align: middle;\n",
              "    }\n",
              "\n",
              "    .dataframe tbody tr th {\n",
              "        vertical-align: top;\n",
              "    }\n",
              "\n",
              "    .dataframe thead th {\n",
              "        text-align: right;\n",
              "    }\n",
              "</style>\n",
              "<table border=\"1\" class=\"dataframe\">\n",
              "  <thead>\n",
              "    <tr style=\"text-align: right;\">\n",
              "      <th></th>\n",
              "      <th>rotas</th>\n",
              "      <th>demandas</th>\n",
              "      <th>latitude</th>\n",
              "      <th>longitude</th>\n",
              "      <th>Cluster</th>\n",
              "    </tr>\n",
              "  </thead>\n",
              "  <tbody>\n",
              "    <tr>\n",
              "      <th>0</th>\n",
              "      <td>origem</td>\n",
              "      <td>NaN</td>\n",
              "      <td>-22.74745</td>\n",
              "      <td>-42.881871</td>\n",
              "      <td>4</td>\n",
              "    </tr>\n",
              "  </tbody>\n",
              "</table>\n",
              "</div>"
            ],
            "text/plain": [
              "    rotas  demandas  latitude  longitude  Cluster\n",
              "0  origem       NaN -22.74745 -42.881871        4"
            ]
          },
          "metadata": {
            "tags": []
          },
          "execution_count": 86
        }
      ]
    },
    {
      "cell_type": "code",
      "metadata": {
        "colab": {
          "base_uri": "https://localhost:8080/",
          "height": 203
        },
        "id": "R0M2VMa3v4gN",
        "outputId": "0ce17bda-dd18-40ee-aaaa-85e09bc9c7df"
      },
      "source": [
        "# adicionando ao dataframe original\n",
        "df_cluster4_1 = pd.concat([nova_linha,df_cluster4], ignore_index=True)\n",
        "df_cluster4_1.head()"
      ],
      "execution_count": null,
      "outputs": [
        {
          "output_type": "execute_result",
          "data": {
            "text/html": [
              "<div>\n",
              "<style scoped>\n",
              "    .dataframe tbody tr th:only-of-type {\n",
              "        vertical-align: middle;\n",
              "    }\n",
              "\n",
              "    .dataframe tbody tr th {\n",
              "        vertical-align: top;\n",
              "    }\n",
              "\n",
              "    .dataframe thead th {\n",
              "        text-align: right;\n",
              "    }\n",
              "</style>\n",
              "<table border=\"1\" class=\"dataframe\">\n",
              "  <thead>\n",
              "    <tr style=\"text-align: right;\">\n",
              "      <th></th>\n",
              "      <th>rotas</th>\n",
              "      <th>demandas</th>\n",
              "      <th>latitude</th>\n",
              "      <th>longitude</th>\n",
              "      <th>Cluster</th>\n",
              "    </tr>\n",
              "  </thead>\n",
              "  <tbody>\n",
              "    <tr>\n",
              "      <th>0</th>\n",
              "      <td>origem</td>\n",
              "      <td>NaN</td>\n",
              "      <td>-22.747450</td>\n",
              "      <td>-42.881871</td>\n",
              "      <td>4</td>\n",
              "    </tr>\n",
              "    <tr>\n",
              "      <th>1</th>\n",
              "      <td>{'lng': -42.92705867402125, 'lat': -22.7881124...</td>\n",
              "      <td>7.0</td>\n",
              "      <td>-22.788112</td>\n",
              "      <td>-42.927059</td>\n",
              "      <td>4</td>\n",
              "    </tr>\n",
              "    <tr>\n",
              "      <th>2</th>\n",
              "      <td>{'lng': -42.827461886756275, 'lat': -22.725373...</td>\n",
              "      <td>10.0</td>\n",
              "      <td>-22.725374</td>\n",
              "      <td>-42.827462</td>\n",
              "      <td>4</td>\n",
              "    </tr>\n",
              "    <tr>\n",
              "      <th>3</th>\n",
              "      <td>{'lng': -42.89710859232077, 'lat': -22.7893503...</td>\n",
              "      <td>5.0</td>\n",
              "      <td>-22.789350</td>\n",
              "      <td>-42.897109</td>\n",
              "      <td>4</td>\n",
              "    </tr>\n",
              "    <tr>\n",
              "      <th>4</th>\n",
              "      <td>{'lng': -42.88723394420894, 'lat': -22.7463572...</td>\n",
              "      <td>1.0</td>\n",
              "      <td>-22.746357</td>\n",
              "      <td>-42.887234</td>\n",
              "      <td>4</td>\n",
              "    </tr>\n",
              "  </tbody>\n",
              "</table>\n",
              "</div>"
            ],
            "text/plain": [
              "                                               rotas  ...  Cluster\n",
              "0                                             origem  ...        4\n",
              "1  {'lng': -42.92705867402125, 'lat': -22.7881124...  ...        4\n",
              "2  {'lng': -42.827461886756275, 'lat': -22.725373...  ...        4\n",
              "3  {'lng': -42.89710859232077, 'lat': -22.7893503...  ...        4\n",
              "4  {'lng': -42.88723394420894, 'lat': -22.7463572...  ...        4\n",
              "\n",
              "[5 rows x 5 columns]"
            ]
          },
          "metadata": {
            "tags": []
          },
          "execution_count": 87
        }
      ]
    },
    {
      "cell_type": "code",
      "metadata": {
        "id": "CCSG8vJyynDG"
      },
      "source": [
        "# Exportando o df_cluster4_1\n",
        "nome_arquivo = 'cvrp_RJ0_toy1_instancia_cluster4'\n",
        "salvar1 = '/content/drive/Shareddrives/Disciplina Modelagem/Aulas/Aula 3'\n",
        "df_cluster4_1.to_csv(salvar1 + '/' + nome_arquivo)"
      ],
      "execution_count": null,
      "outputs": []
    },
    {
      "cell_type": "code",
      "metadata": {
        "id": "iBoXykD8DaUa"
      },
      "source": [
        ""
      ],
      "execution_count": null,
      "outputs": []
    }
  ]
}