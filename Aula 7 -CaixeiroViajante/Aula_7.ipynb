{
  "nbformat": 4,
  "nbformat_minor": 0,
  "metadata": {
    "colab": {
      "name": "Aula_7.ipynb",
      "provenance": [],
      "collapsed_sections": []
    },
    "kernelspec": {
      "display_name": "Python 3",
      "language": "python",
      "name": "python3"
    },
    "language_info": {
      "codemirror_mode": {
        "name": "ipython",
        "version": 3
      },
      "file_extension": ".py",
      "mimetype": "text/x-python",
      "name": "python",
      "nbconvert_exporter": "python",
      "pygments_lexer": "ipython3",
      "version": "3.8.8"
    }
  },
  "cells": [
    {
      "cell_type": "markdown",
      "metadata": {
        "id": "CK0nzX2cXhXf"
      },
      "source": [
        "# Aula 7 - Caixeiro Viajante\n"
      ]
    },
    {
      "cell_type": "markdown",
      "metadata": {
        "id": "yDAQj5AP3cqX"
      },
      "source": [
        "### Instalando as bibliotecas \n",
        "\n",
        "https://pyomo.readthedocs.io/en/stable/"
      ]
    },
    {
      "cell_type": "code",
      "metadata": {
        "colab": {
          "base_uri": "https://localhost:8080/"
        },
        "id": "ymAKoMxBGoUc",
        "outputId": "cdebb397-3413-4085-b4b8-016894cb4003"
      },
      "source": [
        "pip install pyomo"
      ],
      "execution_count": null,
      "outputs": [
        {
          "output_type": "stream",
          "text": [
            "Collecting pyomo\n",
            "\u001b[?25l  Downloading https://files.pythonhosted.org/packages/ea/6d/cc720655b86ead89170910a884533294f8b0ae2e959544421e96806ca4cf/Pyomo-6.0.1-cp37-cp37m-manylinux_2_5_x86_64.manylinux1_x86_64.manylinux_2_12_x86_64.manylinux2010_x86_64.whl (8.9MB)\n",
            "\u001b[K     |████████████████████████████████| 8.9MB 7.2MB/s \n",
            "\u001b[?25hCollecting ply\n",
            "\u001b[?25l  Downloading https://files.pythonhosted.org/packages/a3/58/35da89ee790598a0700ea49b2a66594140f44dec458c07e8e3d4979137fc/ply-3.11-py2.py3-none-any.whl (49kB)\n",
            "\u001b[K     |████████████████████████████████| 51kB 6.0MB/s \n",
            "\u001b[?25hInstalling collected packages: ply, pyomo\n",
            "Successfully installed ply-3.11 pyomo-6.0.1\n"
          ],
          "name": "stdout"
        }
      ]
    },
    {
      "cell_type": "markdown",
      "metadata": {
        "id": "7mtv1tGR3kWd"
      },
      "source": [
        "### Importando as bibliotecas"
      ]
    },
    {
      "cell_type": "code",
      "metadata": {
        "id": "B5yoSYn_6HiW"
      },
      "source": [
        "import pyomo.environ as pyo\n",
        "import numpy as np\n",
        "import pandas as pd\n",
        "from pyomo.environ import *\n",
        "from pyomo.opt import SolverFactory\n",
        "from sklearn.metrics import pairwise_distances\n",
        "from sklearn.metrics.pairwise import pairwise_kernels\n",
        "import matplotlib.pyplot as plt           \n",
        "import seaborn as sns                    \n",
        "import warnings \n",
        "warnings.filterwarnings(\"ignore\")  \n"
      ],
      "execution_count": null,
      "outputs": []
    },
    {
      "cell_type": "markdown",
      "metadata": {
        "id": "fdo07NxjTJ9C"
      },
      "source": [
        "#### Instalando o GLPK"
      ]
    },
    {
      "cell_type": "code",
      "metadata": {
        "id": "cpZ_UyhmTJQd",
        "colab": {
          "base_uri": "https://localhost:8080/"
        },
        "outputId": "bd0f4193-c2bd-4698-e04a-bbf8b68867a1"
      },
      "source": [
        "!apt-get install -y -qq glpk-utils"
      ],
      "execution_count": null,
      "outputs": [
        {
          "output_type": "stream",
          "text": [
            "Selecting previously unselected package libsuitesparseconfig5:amd64.\n",
            "(Reading database ... 160772 files and directories currently installed.)\n",
            "Preparing to unpack .../libsuitesparseconfig5_1%3a5.1.2-2_amd64.deb ...\n",
            "Unpacking libsuitesparseconfig5:amd64 (1:5.1.2-2) ...\n",
            "Selecting previously unselected package libamd2:amd64.\n",
            "Preparing to unpack .../libamd2_1%3a5.1.2-2_amd64.deb ...\n",
            "Unpacking libamd2:amd64 (1:5.1.2-2) ...\n",
            "Selecting previously unselected package libcolamd2:amd64.\n",
            "Preparing to unpack .../libcolamd2_1%3a5.1.2-2_amd64.deb ...\n",
            "Unpacking libcolamd2:amd64 (1:5.1.2-2) ...\n",
            "Selecting previously unselected package libglpk40:amd64.\n",
            "Preparing to unpack .../libglpk40_4.65-1_amd64.deb ...\n",
            "Unpacking libglpk40:amd64 (4.65-1) ...\n",
            "Selecting previously unselected package glpk-utils.\n",
            "Preparing to unpack .../glpk-utils_4.65-1_amd64.deb ...\n",
            "Unpacking glpk-utils (4.65-1) ...\n",
            "Setting up libsuitesparseconfig5:amd64 (1:5.1.2-2) ...\n",
            "Setting up libcolamd2:amd64 (1:5.1.2-2) ...\n",
            "Setting up libamd2:amd64 (1:5.1.2-2) ...\n",
            "Setting up libglpk40:amd64 (4.65-1) ...\n",
            "Setting up glpk-utils (4.65-1) ...\n",
            "Processing triggers for libc-bin (2.27-3ubuntu1.2) ...\n",
            "/sbin/ldconfig.real: /usr/local/lib/python3.7/dist-packages/ideep4py/lib/libmkldnn.so.0 is not a symbolic link\n",
            "\n",
            "Processing triggers for man-db (2.8.3-2ubuntu0.1) ...\n"
          ],
          "name": "stdout"
        }
      ]
    },
    {
      "cell_type": "markdown",
      "metadata": {
        "id": "qGczcAcD3nF_"
      },
      "source": [
        "### Importando o dataframe a ser utilizado"
      ]
    },
    {
      "cell_type": "code",
      "metadata": {
        "id": "nkTDsYpOANi5"
      },
      "source": [
        "df = pd.read_csv('/content/drive/Shareddrives/Disciplina Modelagem/Aulas/Aula 7/cvrp_RJ0_toy1_instancia_cluster4', index_col = 0)"
      ],
      "execution_count": null,
      "outputs": []
    },
    {
      "cell_type": "code",
      "metadata": {
        "colab": {
          "base_uri": "https://localhost:8080/"
        },
        "id": "KTj4MY3V56qm",
        "outputId": "2ca6ef75-9e35-4068-a016-5c9cff1a2e15"
      },
      "source": [
        "from google.colab import drive\n",
        "drive.mount('/content/drive')"
      ],
      "execution_count": null,
      "outputs": [
        {
          "output_type": "stream",
          "text": [
            "Mounted at /content/drive\n"
          ],
          "name": "stdout"
        }
      ]
    },
    {
      "cell_type": "code",
      "metadata": {
        "id": "W0sUuD55BJg9"
      },
      "source": [
        "from math import radians\n",
        "df['lat_rad'] = df['latitude'].apply(radians)\n",
        "df['long_rad'] = df['longitude'].apply(radians)"
      ],
      "execution_count": null,
      "outputs": []
    },
    {
      "cell_type": "code",
      "metadata": {
        "id": "EiE5fb7RoLg2"
      },
      "source": [
        "# importando o pacote de distância e escolhendo a distância\n",
        "from sklearn.neighbors import DistanceMetric\n",
        "dist = DistanceMetric.get_metric('haversine')"
      ],
      "execution_count": null,
      "outputs": []
    },
    {
      "cell_type": "code",
      "metadata": {
        "id": "qeAsvjD_oR_F",
        "colab": {
          "base_uri": "https://localhost:8080/"
        },
        "outputId": "26eb02c6-7232-4a80-e77c-23a3b0e26013"
      },
      "source": [
        "# precisamos transformar para array\n",
        "df[['lat_rad','long_rad']].to_numpy()"
      ],
      "execution_count": null,
      "outputs": [
        {
          "output_type": "execute_result",
          "data": {
            "text/plain": [
              "array([[-0.39701789, -0.74842984],\n",
              "       [-0.39772759, -0.74921851],\n",
              "       [-0.3966326 , -0.74748022],\n",
              "       [-0.3977492 , -0.74869578],\n",
              "       [-0.39699883, -0.74852344],\n",
              "       [-0.39687061, -0.74937008],\n",
              "       [-0.3969679 , -0.74823189],\n",
              "       [-0.39680528, -0.74716947],\n",
              "       [-0.39709594, -0.7478996 ],\n",
              "       [-0.39716463, -0.74904202],\n",
              "       [-0.3968901 , -0.74795948],\n",
              "       [-0.39712629, -0.74848462],\n",
              "       [-0.39704211, -0.74818184],\n",
              "       [-0.39730161, -0.74798599],\n",
              "       [-0.39673632, -0.74941432],\n",
              "       [-0.39720158, -0.74910572],\n",
              "       [-0.39701989, -0.74837839],\n",
              "       [-0.39702738, -0.74845472],\n",
              "       [-0.39739695, -0.74938337],\n",
              "       [-0.39688458, -0.74789934],\n",
              "       [-0.39676161, -0.74782715],\n",
              "       [-0.39647792, -0.74950425],\n",
              "       [-0.39737148, -0.74957958],\n",
              "       [-0.39711109, -0.74837049],\n",
              "       [-0.39706339, -0.7478235 ],\n",
              "       [-0.39749032, -0.74912913],\n",
              "       [-0.39699884, -0.74789917],\n",
              "       [-0.39672407, -0.74796093],\n",
              "       [-0.39705731, -0.7485324 ],\n",
              "       [-0.39709715, -0.7483908 ],\n",
              "       [-0.39686373, -0.74812243],\n",
              "       [-0.39724874, -0.74800231],\n",
              "       [-0.39720657, -0.74933241],\n",
              "       [-0.39741562, -0.74943717],\n",
              "       [-0.39584314, -0.74672661],\n",
              "       [-0.39699409, -0.74843581],\n",
              "       [-0.39694129, -0.74765104],\n",
              "       [-0.39635623, -0.74829991]])"
            ]
          },
          "metadata": {
            "tags": []
          },
          "execution_count": 9
        }
      ]
    },
    {
      "cell_type": "code",
      "metadata": {
        "id": "mmzOrf5TpCDi",
        "colab": {
          "base_uri": "https://localhost:8080/"
        },
        "outputId": "4738e046-b5e2-4756-947f-5e638f8558e4"
      },
      "source": [
        "# distância euclidiana - multiplicar por 6373 para passar para Km\n",
        "dist.pairwise(df[['lat_rad','long_rad']].to_numpy())*6373"
      ],
      "execution_count": null,
      "outputs": [
        {
          "output_type": "execute_result",
          "data": {
            "text/plain": [
              "array([[ 0.        ,  6.47582945,  6.09786043, ...,  0.1557263 ,\n",
              "         4.60322007,  4.28538414],\n",
              "       [ 6.47582945,  0.        , 12.37174387, ...,  6.55802415,\n",
              "        10.48611299, 10.27277669],\n",
              "       [ 6.09786043, 12.37174387,  0.        , ...,  6.07087633,\n",
              "         2.20870309,  5.13043419],\n",
              "       ...,\n",
              "       [ 0.1557263 ,  6.55802415,  6.07087633, ...,  0.        ,\n",
              "         4.62466363,  4.14281857],\n",
              "       [ 4.60322007, 10.48611299,  2.20870309, ...,  4.62466363,\n",
              "         0.        ,  5.33387573],\n",
              "       [ 4.28538414, 10.27277669,  5.13043419, ...,  4.14281857,\n",
              "         5.33387573,  0.        ]])"
            ]
          },
          "metadata": {
            "tags": []
          },
          "execution_count": 10
        }
      ]
    },
    {
      "cell_type": "code",
      "metadata": {
        "id": "f3ZmRGuZph49"
      },
      "source": [
        "## Finalmente\n",
        "distancia1 = pd.DataFrame(dist.pairwise(df[['lat_rad','long_rad']].to_numpy())*6373)"
      ],
      "execution_count": null,
      "outputs": []
    },
    {
      "cell_type": "markdown",
      "metadata": {
        "id": "So0ZXlZ5TP7A"
      },
      "source": [
        "Tivemos que diminuir um pouco o problema para que o GLPK "
      ]
    },
    {
      "cell_type": "code",
      "metadata": {
        "id": "MZhVmGZwS33A",
        "colab": {
          "base_uri": "https://localhost:8080/",
          "height": 268
        },
        "outputId": "866ff12c-7f50-411a-a638-a65b068af439"
      },
      "source": [
        "distancia2 = distancia1.loc[0:6,0:6]\n",
        "distancia2"
      ],
      "execution_count": null,
      "outputs": [
        {
          "output_type": "execute_result",
          "data": {
            "text/html": [
              "<div>\n",
              "<style scoped>\n",
              "    .dataframe tbody tr th:only-of-type {\n",
              "        vertical-align: middle;\n",
              "    }\n",
              "\n",
              "    .dataframe tbody tr th {\n",
              "        vertical-align: top;\n",
              "    }\n",
              "\n",
              "    .dataframe thead th {\n",
              "        text-align: right;\n",
              "    }\n",
              "</style>\n",
              "<table border=\"1\" class=\"dataframe\">\n",
              "  <thead>\n",
              "    <tr style=\"text-align: right;\">\n",
              "      <th></th>\n",
              "      <th>0</th>\n",
              "      <th>1</th>\n",
              "      <th>2</th>\n",
              "      <th>3</th>\n",
              "      <th>4</th>\n",
              "      <th>5</th>\n",
              "      <th>6</th>\n",
              "    </tr>\n",
              "  </thead>\n",
              "  <tbody>\n",
              "    <tr>\n",
              "      <th>0</th>\n",
              "      <td>0.000000</td>\n",
              "      <td>6.475829</td>\n",
              "      <td>6.097860</td>\n",
              "      <td>4.915668</td>\n",
              "      <td>0.563399</td>\n",
              "      <td>5.605416</td>\n",
              "      <td>1.206249</td>\n",
              "    </tr>\n",
              "    <tr>\n",
              "      <th>1</th>\n",
              "      <td>6.475829</td>\n",
              "      <td>0.000000</td>\n",
              "      <td>12.371744</td>\n",
              "      <td>3.074381</td>\n",
              "      <td>6.185008</td>\n",
              "      <td>5.533697</td>\n",
              "      <td>7.553542</td>\n",
              "    </tr>\n",
              "    <tr>\n",
              "      <th>2</th>\n",
              "      <td>6.097860</td>\n",
              "      <td>12.371744</td>\n",
              "      <td>0.000000</td>\n",
              "      <td>10.083234</td>\n",
              "      <td>6.561006</td>\n",
              "      <td>11.211598</td>\n",
              "      <td>4.907799</td>\n",
              "    </tr>\n",
              "    <tr>\n",
              "      <th>3</th>\n",
              "      <td>4.915668</td>\n",
              "      <td>3.074381</td>\n",
              "      <td>10.083234</td>\n",
              "      <td>0.000000</td>\n",
              "      <td>4.888189</td>\n",
              "      <td>6.859537</td>\n",
              "      <td>5.676643</td>\n",
              "    </tr>\n",
              "    <tr>\n",
              "      <th>4</th>\n",
              "      <td>0.563399</td>\n",
              "      <td>6.185008</td>\n",
              "      <td>6.561006</td>\n",
              "      <td>4.888189</td>\n",
              "      <td>0.000000</td>\n",
              "      <td>5.042778</td>\n",
              "      <td>1.724860</td>\n",
              "    </tr>\n",
              "    <tr>\n",
              "      <th>5</th>\n",
              "      <td>5.605416</td>\n",
              "      <td>5.533697</td>\n",
              "      <td>11.211598</td>\n",
              "      <td>6.859537</td>\n",
              "      <td>5.042778</td>\n",
              "      <td>0.000000</td>\n",
              "      <td>6.718443</td>\n",
              "    </tr>\n",
              "    <tr>\n",
              "      <th>6</th>\n",
              "      <td>1.206249</td>\n",
              "      <td>7.553542</td>\n",
              "      <td>4.907799</td>\n",
              "      <td>5.676643</td>\n",
              "      <td>1.724860</td>\n",
              "      <td>6.718443</td>\n",
              "      <td>0.000000</td>\n",
              "    </tr>\n",
              "  </tbody>\n",
              "</table>\n",
              "</div>"
            ],
            "text/plain": [
              "          0          1          2          3         4          5         6\n",
              "0  0.000000   6.475829   6.097860   4.915668  0.563399   5.605416  1.206249\n",
              "1  6.475829   0.000000  12.371744   3.074381  6.185008   5.533697  7.553542\n",
              "2  6.097860  12.371744   0.000000  10.083234  6.561006  11.211598  4.907799\n",
              "3  4.915668   3.074381  10.083234   0.000000  4.888189   6.859537  5.676643\n",
              "4  0.563399   6.185008   6.561006   4.888189  0.000000   5.042778  1.724860\n",
              "5  5.605416   5.533697  11.211598   6.859537  5.042778   0.000000  6.718443\n",
              "6  1.206249   7.553542   4.907799   5.676643  1.724860   6.718443  0.000000"
            ]
          },
          "metadata": {
            "tags": []
          },
          "execution_count": 12
        }
      ]
    },
    {
      "cell_type": "code",
      "metadata": {
        "id": "iRosReR-ZaSo"
      },
      "source": [
        "n = len(distancia2)"
      ],
      "execution_count": null,
      "outputs": []
    },
    {
      "cell_type": "code",
      "metadata": {
        "colab": {
          "base_uri": "https://localhost:8080/",
          "height": 723
        },
        "id": "i4XFVCPa5lSM",
        "outputId": "e252d921-8961-4149-80e9-72069654ba9f"
      },
      "source": [
        "# Gráfico dos pontos \n",
        "# Criando a variável fig e a variável ax   (figura, eixos):\n",
        "fig, ax = plt.subplots(nrows = 1, ncols = 1, figsize=(10,7),       # (largura, altura) em polegadas \n",
        "                       dpi=110)                                   # resolução (pontos/polegada)\n",
        "\n",
        "# 2 - Plot\n",
        "# Gráfico de dispersão - total_bill (x), tip (y) de df1 \n",
        "sns.scatterplot(data = df.loc[0:len(distancia2)-1,:], x = \"longitude\", y = \"latitude\", s = 40, linewidth = 0, color = '#A6A6A5' , ax = ax)    # cor opcional\n",
        "\n",
        "for i in distancia2.index:\n",
        "    ax.text(df.loc[i,'longitude'], df.loc[i,'latitude'], str(i), color='black', fontsize=11)\n",
        "#     plt.annotate(str(i),(df.loc[i,'longitude'], df.loc[i,'latitude']))\n",
        "    \n",
        "# 3 - Título\n",
        "# Inserindo título no nosso eixo ax\n",
        "ax.set_title('Pontos escolhidos', color = '#646369',loc='left', pad = 15,fontsize=13, weight='bold')\n",
        "\n",
        "\n",
        "# ---------------------------------------------------------------------------------------\n",
        "#                    Melhorando o aspecto do gráfico:\n",
        "# ---------------------------------------------------------------------------------------\n",
        "\n",
        "# Modificar a cor dos tiques para cinza (colocar uma cor mais clara - chamar menos atenção):\n",
        "ax.tick_params(axis='both', colors = '#646369',labelsize=10)         # modifica a aparência dos ticks, ticks labels e gridlines\n",
        "\n",
        "\n",
        "# Remoção de eixos desnecessários (Closure):\n",
        "ax.spines['right'].set_visible(False)       # deixa invisível os eixos direito\n",
        "ax.spines['top'].set_visible(False)         # deixa invisível os eixos superior\n",
        "\n",
        "# Modificar a cor dos eixos inferior e esquerdo para cinza\n",
        "ax.spines['bottom'].set_color('#646369')       # inferior\n",
        "ax.spines['left'].set_color('#646369')         # esquerdo\n",
        "\n",
        "# Modificar o label\n",
        "ax.set_xlabel('Longitude',color='#646369',fontsize=10,\n",
        "              position=(0, 0), horizontalalignment='left')\n",
        "ax.set_ylabel('Latitude', color='#646369', fontsize=10,\n",
        "              position=(0,1), horizontalalignment='right')"
      ],
      "execution_count": null,
      "outputs": [
        {
          "output_type": "execute_result",
          "data": {
            "text/plain": [
              "Text(0, 1, 'Latitude')"
            ]
          },
          "metadata": {
            "tags": []
          },
          "execution_count": 15
        },
        {
          "output_type": "display_data",
          "data": {
            "image/png": "[encoded data removed]",
            "text/plain": [
              "<Figure size 1100x770 with 1 Axes>"
            ]
          },
          "metadata": {
            "tags": [],
            "needs_background": "light"
          }
        }
      ]
    },
    {
      "cell_type": "markdown",
      "metadata": {
        "id": "3QHOAuPyt4lg"
      },
      "source": [
        "### Caixeiro Viajante\n",
        "\n",
        "Desrocher, M., Laporte, G., Improvements and extensions to the Miller-Tucker-Zemlin subtour elimination constraints, Operations Research Letters, 10, 27-36, 1991. \n",
        "\n",
        "https://www.sciencedirect.com/science/article/pii/0167637791900832\n"
      ]
    },
    {
      "cell_type": "markdown",
      "metadata": {
        "id": "EZp7zHigjgWG"
      },
      "source": [
        "### Modelo Matemático\n",
        "\n",
        "**Conjunto das cidades:**\n",
        "\n",
        "$i,j \\in N$\n",
        "\n",
        "<br>\n",
        "\n",
        "**Parâmetros:**\n",
        "\n",
        "$ dist_ij \\rightarrow$ distancia da cidade $i$ até $j$ \n",
        "$ c_ij \\rightarrow$ custo da cidade $i$ até $j$ \n",
        "\n",
        "<br>\n",
        "\n",
        "**Variáveis de decisão:**\n",
        "\n",
        "$ x_{ij} \\rightarrow \\{0,1\\} $\n",
        "\n",
        "$ 1 \\leq u_i \\leq n-1 \\quad (i = 2, ... ,n \\rightarrow \\quad i\\neq j) $\n",
        "<br>\n",
        "\n",
        "**Função objetivo:**\n",
        "\n",
        "$ Min \\displaystyle\\sum_{i \\neq j} c_{ij}x_{ij}$\n",
        "\n",
        "<br>\n",
        "\n",
        "Sujeito a:\n",
        "\n",
        "$\\displaystyle\\sum_{j \\in M} x_{ij} = 1 \\quad\\forall \\:i \\in N \\quad i\\neq j $\n",
        "\n",
        "$\\displaystyle\\sum_{i \\in N} x_{ij} = 1 \\quad\\forall \\:j \\in M \\quad i\\neq j $\n",
        "\n",
        "MTZ:\n",
        "\n",
        "$ u_i - u_j + (n - 1)x_{ij} \\leq n-2 $\n",
        "\n",
        "\n",
        "\n"
      ]
    },
    {
      "cell_type": "markdown",
      "metadata": {
        "id": "7CE94xCwjsdr"
      },
      "source": [
        "#### Conjuntos das Cidades "
      ]
    },
    {
      "cell_type": "markdown",
      "metadata": {
        "id": "69s0oaprPTO7"
      },
      "source": [
        "#### Variáveis de decisão"
      ]
    },
    {
      "cell_type": "markdown",
      "metadata": {
        "id": "O5BhnW1dPXo9"
      },
      "source": [
        "#### Custo (no caso apenas a distância)"
      ]
    },
    {
      "cell_type": "markdown",
      "metadata": {
        "id": "tt-xyHmePZav"
      },
      "source": [
        "#### Função Objetivo \n",
        "\n",
        "$ Min \\displaystyle\\sum_{i \\neq j} c_{ij}x_{ij}$"
      ]
    },
    {
      "cell_type": "markdown",
      "metadata": {
        "id": "NyjniCBdPZ78"
      },
      "source": [
        "#### Restrições"
      ]
    },
    {
      "cell_type": "markdown",
      "metadata": {
        "id": "MNzPZuLtYZw-"
      },
      "source": [
        "(R1)\n",
        "\n",
        "$\\displaystyle\\sum_{j \\in M} x_{ij} = 1 \\quad\\forall \\:i \\in N \\quad i\\neq j $"
      ]
    },
    {
      "cell_type": "markdown",
      "metadata": {
        "id": "L6oBvc_PYbSi"
      },
      "source": [
        "(R2)\n",
        "\n",
        "$\\displaystyle\\sum_{i \\in N} x_{ij} = 1 \\quad\\forall \\:j \\in M \\quad i\\neq j $"
      ]
    },
    {
      "cell_type": "markdown",
      "metadata": {
        "id": "fYus-J99Yb3Q"
      },
      "source": [
        "(R3)\n",
        "\n",
        "$ u_i - u_j + (n - 1)x_{ij} \\leq n-2 $"
      ]
    },
    {
      "cell_type": "markdown",
      "metadata": {
        "id": "48Tv9trSPatJ"
      },
      "source": [
        "#### Resolver "
      ]
    },
    {
      "cell_type": "code",
      "metadata": {
        "id": "ZQupaXfjS33H"
      },
      "source": [
        "# 2 - Gráfico de Dispersão  (Scatterplot)\n",
        "\n",
        "# ---------------------------------------------------------------------------------------\n",
        "#                             Elementos básicos:\n",
        "# ---------------------------------------------------------------------------------------\n",
        "\n",
        "# 1 - Figure e axis\n",
        "# Criando a variável fig e a variável ax   (figura, eixos):\n",
        "fig, ax = plt.subplots(nrows = 1, ncols = 1, figsize=(10,7),       # (largura, altura) em polegadas \n",
        "                       dpi=110)                                   # resolução (pontos/polegada)\n",
        "\n",
        "# 2 - Plot\n",
        "# Gráfico de dispersão - total_bill (x), tip (y) de df1 \n",
        "sns.scatterplot(data = df.loc[0:len(distancia2),:], x = \"longitude\", y = \"latitude\", s = 40, linewidth = 0, color = '#A6A6A5' , ax = ax)    # cor opcional\n",
        "\n",
        "for i in distancia2.index:\n",
        "    ax.text(df.loc[i,'longitude'], df.loc[i,'latitude'], str(i), color='black', fontsize=11)\n",
        "#     plt.annotate(str(i),(df.loc[i,'longitude'], df.loc[i,'latitude']))\n",
        "\n",
        "for i,j in resultados:\n",
        "    plt.plot([df.longitude[i], df.longitude[j] ],[ df.latitude[i], df.latitude[j] ],color=\"blue\",alpha=0.3)\n",
        "\n",
        "    \n",
        "#     plt.plot([loc_x[i],loc_x[j]],[loc_y[i],loc_y[j]],color=\"blue\",alpha=0.3)\n",
        "    \n",
        "# 3 - Título\n",
        "# Inserindo título no nosso eixo ax\n",
        "ax.set_title('Rotas', color = '#646369',loc='left', pad = 15,fontsize=13, weight='bold')\n",
        "\n",
        "\n",
        "# ---------------------------------------------------------------------------------------\n",
        "#                    Melhorando o aspecto do gráfico:\n",
        "# ---------------------------------------------------------------------------------------\n",
        "\n",
        "# Modificar a cor dos tiques para cinza (colocar uma cor mais clara - chamar menos atenção):\n",
        "ax.tick_params(axis='both', colors = '#646369',labelsize=10)         # modifica a aparência dos ticks, ticks labels e gridlines\n",
        "\n",
        "\n",
        "# Remoção de eixos desnecessários (Closure):\n",
        "ax.spines['right'].set_visible(False)       # deixa invisível os eixos direito\n",
        "ax.spines['top'].set_visible(False)         # deixa invisível os eixos superior\n",
        "\n",
        "# Modificar a cor dos eixos inferior e esquerdo para cinza\n",
        "ax.spines['bottom'].set_color('#646369')       # inferior\n",
        "ax.spines['left'].set_color('#646369')         # esquerdo\n",
        "\n",
        "# Modificar o label\n",
        "ax.set_xlabel('Longitude',color='#646369',fontsize=10,\n",
        "              position=(0, 0), horizontalalignment='left')\n",
        "ax.set_ylabel('Latitude', color='#646369', fontsize=10,\n",
        "              position=(0,1), horizontalalignment='right')\n",
        "\n",
        "\n"
      ],
      "execution_count": null,
      "outputs": []
    },
    {
      "cell_type": "code",
      "metadata": {
        "id": "tkzJ4542pZre"
      },
      "source": [
        ""
      ],
      "execution_count": null,
      "outputs": []
    }
  ]
}